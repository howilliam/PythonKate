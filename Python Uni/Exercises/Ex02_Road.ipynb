{
 "cells": [
  {
   "cell_type": "markdown",
   "metadata": {},
   "source": [
    "# Exercise 2 - On the road\n",
    "## Computing and Numerical Methods 1 - Introduction to Python\n",
    "Two cars make a journey from city A to city B by different routes. The speed of Car 1 at certain times is given in the table below:\n",
    "\n",
    "|Time (min) |0.0|1.0 |10.0| 11.0|50.0 |60.0|80.0|85.0|\n",
    "|-----------|---|----|----|-----|-----|----|----|----|\n",
    "|Car1 (km/h)|0.0|50.0|50.0|110.0|100.0|46.0|35.0|0.0 |\n",
    "\n",
    "The speed of Car 2 is given as follows:\n",
    "\n",
    "|Time (min) |0.0|2.0 |15.0| 18.0|80.0 |85.0|100.0|101.0|\n",
    "|-----------|---|----|----|-----|-----|----|-----|-----|\n",
    "|Car2 (km/h)|0.0|30.0|40.0|90.0 |90.0 |20.0|35.0 |0.0  |\n",
    "\n",
    "\n",
    "It can be assumed that velocity changes linearly between time points (i.e. piecewise-constant acceleration)."
   ]
  },
  {
   "cell_type": "markdown",
   "metadata": {},
   "source": [
    "### Task 1\n",
    "Plot the velocity of the cars as a function of time on the same plot, adding appropriate axis labels and a key."
   ]
  },
  {
   "cell_type": "code",
   "execution_count": null,
   "metadata": {},
   "outputs": [],
   "source": []
  },
  {
   "cell_type": "markdown",
   "metadata": {},
   "source": [
    "### Task \n",
    "Calculate the distance travelled by each car. Which car took the shortest route?"
   ]
  },
  {
   "cell_type": "code",
   "execution_count": null,
   "metadata": {},
   "outputs": [],
   "source": []
  },
  {
   "cell_type": "markdown",
   "metadata": {},
   "source": [
    "### Task 3\n",
    "Which car achieved the largest magnitude acceleration (or deceleration) and when?"
   ]
  },
  {
   "cell_type": "code",
   "execution_count": null,
   "metadata": {},
   "outputs": [],
   "source": []
  }
 ],
 "metadata": {
  "kernelspec": {
   "display_name": "Python 3",
   "language": "python",
   "name": "python3"
  },
  "language_info": {
   "codemirror_mode": {
    "name": "ipython",
    "version": 3
   },
   "file_extension": ".py",
   "mimetype": "text/x-python",
   "name": "python",
   "nbconvert_exporter": "python",
   "pygments_lexer": "ipython3",
   "version": "3.7.3rc1"
  },
  "toc": {
   "base_numbering": 1,
   "nav_menu": {},
   "number_sections": false,
   "sideBar": true,
   "skip_h1_title": false,
   "title_cell": "Table of Contents",
   "title_sidebar": "Contents",
   "toc_cell": false,
   "toc_position": {
    "height": "calc(100% - 180px)",
    "left": "10px",
    "top": "150px",
    "width": "273.188px"
   },
   "toc_section_display": true,
   "toc_window_display": true
  }
 },
 "nbformat": 4,
 "nbformat_minor": 2
}
