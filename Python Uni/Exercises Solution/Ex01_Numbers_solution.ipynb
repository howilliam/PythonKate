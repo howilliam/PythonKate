{
 "cells": [
  {
   "cell_type": "markdown",
   "metadata": {},
   "source": [
    "# Exercise 1 - Fun with numbers\n",
    "## Computing and Numerical Methods 1 - Introduction to Python"
   ]
  },
  {
   "cell_type": "markdown",
   "metadata": {},
   "source": [
    "These short tasks aim to give you practice at using Python syntax."
   ]
  },
  {
   "cell_type": "markdown",
   "metadata": {},
   "source": [
    "## Task 1\n",
    "Write code to compute the first $N=20$ terms of the Fibonacci sequence, given by the recurrence relation:\n",
    "$$x_n = x_{n-1} + x_{n-2} \\quad 0<n<N,$$\n",
    "with $x_0 = x_1 = 1$."
   ]
  },
  {
   "cell_type": "code",
   "execution_count": null,
   "metadata": {},
   "outputs": [],
   "source": [
    "N=20\n",
    "fib = [1,1]\n",
    "for i in range(2,N):\n",
    "    fib.append(fib[i-1] + fib[i-2])\n",
    "print(fib)"
   ]
  },
  {
   "cell_type": "markdown",
   "metadata": {},
   "source": [
    "### Task 2\n",
    "Write Python code which computes a list of the prime numbers up to $N=1000$."
   ]
  },
  {
   "cell_type": "code",
   "execution_count": null,
   "metadata": {},
   "outputs": [],
   "source": [
    "N=1000\n",
    "prime=[2]\n",
    "for i in range(3,N):\n",
    "    isprime=True\n",
    "    for k in prime:\n",
    "        if i % k == 0:\n",
    "            isprime=False\n",
    "            break\n",
    "    if isprime:\n",
    "        prime.append(i)\n",
    "print(prime)"
   ]
  },
  {
   "cell_type": "markdown",
   "metadata": {},
   "source": [
    "### Task 3\n",
    "Write Python code to generate a list of 101 random numbers and calculate their minimum, maximum, mean, median and standard deviation.\n",
    "\n",
    "**Hint**: You can write functions to compute these yourself, or have a look at the packages:\n",
    "* *statistics*: https://docs.python.org/3/library/statistics.html\n",
    "* *random*: https://docs.python.org/3/library/random.html"
   ]
  },
  {
   "cell_type": "code",
   "execution_count": null,
   "metadata": {},
   "outputs": [],
   "source": [
    "from random import seed, random\n",
    "from statistics import mean, median, stdev\n",
    "\n",
    "N=101\n",
    "array=[random() for i in range(0,N)]\n",
    "print(\"The minimum is: %.6f\" % min(array))\n",
    "print(\"The maximum is: %.6f\" % max(array))\n",
    "print(\"The mean is:    %.6f\" % mean(array))\n",
    "print(\"The median is:  %.6f\" % median(array))\n",
    "print(\"The stddev is:  %.6f\" % stdev(array))"
   ]
  },
  {
   "cell_type": "markdown",
   "metadata": {},
   "source": [
    "### Task 4\n",
    "Write a function to find the set of all duplicated numbers in a list of integers.\n",
    "\n",
    "Generate a list of 15 random integers between 0 and 9 inclusive to test your function. Print out the original list and the found set of random integers to check your result."
   ]
  },
  {
   "cell_type": "code",
   "execution_count": null,
   "metadata": {},
   "outputs": [],
   "source": [
    "from random import randrange\n",
    "def find_duplicates(numbers):\n",
    "    seen = set()\n",
    "    dup  = set()\n",
    "    for i in range(len(numbers)):\n",
    "        if numbers[i] in seen:\n",
    "            dup.add(numbers[i])\n",
    "        seen.add(numbers[i])\n",
    "    return dup\n",
    "\n",
    "mylist = [randrange(9) for i in range(15)]\n",
    "print(\"Original list:     \", mylist)\n",
    "print(\"Set of duplicates: \", find_duplicates(mylist))"
   ]
  }
 ],
 "metadata": {
  "kernelspec": {
   "display_name": "Python 3",
   "language": "python",
   "name": "python3"
  },
  "language_info": {
   "codemirror_mode": {
    "name": "ipython",
    "version": 3
   },
   "file_extension": ".py",
   "mimetype": "text/x-python",
   "name": "python",
   "nbconvert_exporter": "python",
   "pygments_lexer": "ipython3",
   "version": "3.7.3rc1"
  },
  "toc": {
   "base_numbering": 1,
   "nav_menu": {},
   "number_sections": false,
   "sideBar": true,
   "skip_h1_title": false,
   "title_cell": "Table of Contents",
   "title_sidebar": "Contents",
   "toc_cell": false,
   "toc_position": {},
   "toc_section_display": true,
   "toc_window_display": true
  }
 },
 "nbformat": 4,
 "nbformat_minor": 2
}
