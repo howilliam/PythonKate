{
 "cells": [
  {
   "cell_type": "markdown",
   "metadata": {},
   "source": [
    "# Exercise 3 - Mid-point rule\n",
    "## Computing and Numerical Methods 1 - Introduction to Python"
   ]
  },
  {
   "cell_type": "markdown",
   "metadata": {},
   "source": [
    "Given the function $y=\\sin(3x)+\\sin(5x)+\\sin^2(7x)$, we are going to use the mid-point rule to integrate this function over the interval $[a,b]$."
   ]
  },
  {
   "cell_type": "markdown",
   "metadata": {},
   "source": [
    "### Task 1\n",
    "Plot the given function $y$ over the interval $[-1,1]$."
   ]
  },
  {
   "cell_type": "code",
   "execution_count": null,
   "metadata": {},
   "outputs": [],
   "source": [
    "import matplotlib\n",
    "import matplotlib.pyplot as plt\n",
    "import numpy as np\n",
    "from math import sin, pi"
   ]
  },
  {
   "cell_type": "code",
   "execution_count": null,
   "metadata": {},
   "outputs": [],
   "source": [
    "a = -1\n",
    "b = 1\n",
    "n = 100\n",
    "x = np.linspace(a, b, n, endpoint=True)\n",
    "y = np.sin(3*x) + np.sin(5*x) + (np.sin(7*x)**2)\n",
    "plt.plot(x,y)\n",
    "plt.show()"
   ]
  },
  {
   "cell_type": "markdown",
   "metadata": {},
   "source": [
    "## Task 2\n",
    "Write a function which uses a loop calculates the integral:\n",
    "$$ I = \\int_a^b f(x) \\, \\mathrm{d}x $$\n",
    "using the mid-point rule using $n$ subintervals."
   ]
  },
  {
   "cell_type": "code",
   "execution_count": null,
   "metadata": {},
   "outputs": [],
   "source": [
    "def integratef(a, b, n):\n",
    "    I = 0.0\n",
    "    width = (b - a) / n\n",
    "    for i in range(0,n):\n",
    "        x = a + width*(2*i + 1)/2.0\n",
    "        I += sin(3*x) + sin(5*x) + (sin(7*x)**2)\n",
    "    I *= width\n",
    "    return I"
   ]
  },
  {
   "cell_type": "markdown",
   "metadata": {},
   "source": [
    "### Task 3\n",
    "Use your function to evaluate the integral on the interval $[-\\pi,\\pi]$ using 100 intervals."
   ]
  },
  {
   "cell_type": "code",
   "execution_count": null,
   "metadata": {},
   "outputs": [],
   "source": [
    "integratef(-pi,pi,100)"
   ]
  },
  {
   "cell_type": "markdown",
   "metadata": {},
   "source": [
    "### Task 4\n",
    "Can you find a way of integrating it using vector operations - i.e. using numpy and without using a loop?"
   ]
  },
  {
   "cell_type": "code",
   "execution_count": null,
   "metadata": {},
   "outputs": [],
   "source": [
    "a = -pi\n",
    "b = pi\n",
    "n = 100\n",
    "x = np.arange(0,n)\n",
    "h = (b - a)/n\n",
    "xi = a + h*(2*x + 1)/2.0\n",
    "I = (np.sin(3*xi) + np.sin(5*xi) + np.sin(7*xi)**2).sum()\n",
    "I *= h\n",
    "print(I)"
   ]
  }
 ],
 "metadata": {
  "kernelspec": {
   "display_name": "Python 3",
   "language": "python",
   "name": "python3"
  },
  "language_info": {
   "codemirror_mode": {
    "name": "ipython",
    "version": 3
   },
   "file_extension": ".py",
   "mimetype": "text/x-python",
   "name": "python",
   "nbconvert_exporter": "python",
   "pygments_lexer": "ipython3",
   "version": "3.7.3rc1"
  },
  "toc": {
   "base_numbering": 1,
   "nav_menu": {},
   "number_sections": false,
   "sideBar": true,
   "skip_h1_title": false,
   "title_cell": "Table of Contents",
   "title_sidebar": "Contents",
   "toc_cell": false,
   "toc_position": {},
   "toc_section_display": true,
   "toc_window_display": false
  }
 },
 "nbformat": 4,
 "nbformat_minor": 2
}
