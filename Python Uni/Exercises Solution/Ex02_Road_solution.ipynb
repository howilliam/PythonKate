{
 "cells": [
  {
   "cell_type": "markdown",
   "metadata": {},
   "source": [
    "# Exercise 2 - On the road\n",
    "## Computing and Numerical Methods 1 - Introduction to Python\n",
    "Two cars make a journey from city A to city B by different routes. The speed of Car 1 at certain times is given in the table below:\n",
    "\n",
    "|Time (min) |0.0|1.0 |10.0| 11.0|50.0 |60.0|80.0|85.0|\n",
    "|-----------|---|----|----|-----|-----|----|----|----|\n",
    "|Car1 (km/h)|0.0|50.0|50.0|110.0|100.0|46.0|35.0|0.0 |\n",
    "\n",
    "The speed of Car 2 is given as follows:\n",
    "\n",
    "|Time (min) |0.0|2.0 |15.0| 18.0|80.0 |85.0|100.0|101.0|\n",
    "|-----------|---|----|----|-----|-----|----|-----|-----|\n",
    "|Car2 (km/h)|0.0|30.0|40.0|90.0 |90.0 |20.0|35.0 |0.0  |\n",
    "\n",
    "\n",
    "It can be assumed that velocity changes linearly between time points (i.e. piecewise-constant acceleration)."
   ]
  },
  {
   "cell_type": "markdown",
   "metadata": {},
   "source": [
    "### Task 1\n",
    "Plot the velocity of the cars as a function of time on the same plot, adding appropriate axis labels and a key."
   ]
  },
  {
   "cell_type": "code",
   "execution_count": null,
   "metadata": {},
   "outputs": [],
   "source": [
    "from matplotlib import pyplot as plt\n",
    "# Generate the data as lists\n",
    "t1=[0.0, 1.0,  10.0, 11.0,  50.0,  60.0, 80.0, 85.0]\n",
    "v1=[0.0, 50.0, 50.0, 110.0, 100.0, 46.0, 35.0, 0.0 ]\n",
    "t2=[0.0, 2.0,  15.0, 18.0,  55.0,  80.0, 85.0, 100.0, 101.0]\n",
    "v2=[0.0, 30.0, 40.0, 90.0,  70.0,  90.0, 20.0, 35.0,  0.0  ]\n",
    "fig  = plt.figure()                        # main figure\n",
    "axes = fig.gca()                           # main axes\n",
    "axes.set_title(\"Velocities of Cars 1 & 2\") # Figure title\n",
    "axes.set_xlabel(\"Time (min)\")              # Figure axis labels\n",
    "axes.set_ylabel(\"Velocity (km/h)\")\n",
    "axes.plot(t1, v1, 'r', label=\"Car 1\")      # Plot and label data\n",
    "axes.plot(t2, v2, 'b', label=\"Car 2\")\n",
    "axes.legend()                              # Show the legend\n",
    "plt.show()"
   ]
  },
  {
   "cell_type": "markdown",
   "metadata": {},
   "source": [
    "### Task \n",
    "Calculate the distance travelled (in km) by each car. Which car took the shortest route?"
   ]
  },
  {
   "cell_type": "code",
   "execution_count": null,
   "metadata": {},
   "outputs": [],
   "source": [
    "d1 = 0.0  # Distance of car 1\n",
    "d2 = 0.0  # Distance of car 2\n",
    "\n",
    "# Sum up the distance travelled in each segment\n",
    "# Acceleration is constant, so velocity changes linearly\n",
    "for i in range(0,len(t1)-1):\n",
    "    d1 += 0.5*(v1[i]+v1[i+1])*(t1[i+1]-t1[i])/60.0\n",
    "for i in range(0,len(t2)-1):\n",
    "    d2 += 0.5*(v2[i]+v2[i+1])*(t2[i+1]-t2[i])/60.0\n",
    "    \n",
    "# Print results\n",
    "print(\"Car 1 travelled: \", d1, \" km.\")\n",
    "print(\"Car 2 travelled: \", d2, \" km.\")\n",
    "if d1 < d2:\n",
    "    print(\"Car 1 travelled the shorter distance.\")\n",
    "else:\n",
    "    print(\"Car 2 travelled the shorter distance.\")"
   ]
  },
  {
   "cell_type": "markdown",
   "metadata": {},
   "source": [
    "### Task 3\n",
    "Which car achieved the largest magnitude acceleration (or deceleration) in $m/s^2$ and when?"
   ]
  },
  {
   "cell_type": "code",
   "execution_count": null,
   "metadata": {},
   "outputs": [],
   "source": [
    "# Create a function to find the maximum acceleration\n",
    "# given lists of velocities and times\n",
    "def compute_max_acc(v, t):\n",
    "    max_a = 0.0\n",
    "    max_t = 0.0\n",
    "    for i in range(0,len(t)-1):\n",
    "        acc_abs = abs(v[i+1]-v[i])/60*1000/((t[i+1]-t[i])*60)\n",
    "        if acc_abs > max_a:\n",
    "            max_a = acc_abs\n",
    "            max_t = t[i]\n",
    "    return max_a, max_t\n",
    "\n",
    "max_a1, max_t1 = compute_max_acc(v1, t1)\n",
    "max_a2, max_t2 = compute_max_acc(v2, t2)\n",
    "\n",
    "print(\"Car 1 max acceleration/deceleration %.2f m/s^2 at time %.2f min.\" % (max_a1, max_t1))\n",
    "print(\"Car 2 max acceleration/deceleration %.2f m/s^2 at time %.2f min.\" % (max_a2, max_t2))\n",
    "if max_a1 > max_a2:\n",
    "    print(\"Car 1 achieved the greatest magnitude acceleration.\")\n",
    "else:\n",
    "    print(\"Car 2 achieved the greatest magnitude acceleration.\")"
   ]
  }
 ],
 "metadata": {
  "kernelspec": {
   "display_name": "Python 3",
   "language": "python",
   "name": "python3"
  },
  "language_info": {
   "codemirror_mode": {
    "name": "ipython",
    "version": 3
   },
   "file_extension": ".py",
   "mimetype": "text/x-python",
   "name": "python",
   "nbconvert_exporter": "python",
   "pygments_lexer": "ipython3",
   "version": "3.7.3rc1"
  },
  "toc": {
   "base_numbering": 1,
   "nav_menu": {},
   "number_sections": false,
   "sideBar": true,
   "skip_h1_title": false,
   "title_cell": "Table of Contents",
   "title_sidebar": "Contents",
   "toc_cell": false,
   "toc_position": {
    "height": "calc(100% - 180px)",
    "left": "10px",
    "top": "150px",
    "width": "273.188px"
   },
   "toc_section_display": true,
   "toc_window_display": true
  }
 },
 "nbformat": 4,
 "nbformat_minor": 2
}
