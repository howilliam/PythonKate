{
 "cells": [
  {
   "cell_type": "markdown",
   "metadata": {},
   "source": [
    "# Exercise 4 - Parachutist\n",
    "## Computing and Numerical Methods 1 - Introduction to Python\n",
    "A parachutist jumps from a plane moving horizontally. She is slowed by an upward force due to air resistance. Her vertical motion can be described by the following equation:\n",
    "$$v(t) = \\frac{mg}{c}\\left(1-e^{-\\frac{ct}{m}}\\right),$$\n",
    "where $m$ is her mass, $c$ is the drag coefficient and $g$ is the acceleration due to gravity.\n",
    "\n",
    "Assume her mass is $60 kg$, the drag coefficient is constant throughout at $c=13$kg/s and the magnitude of acceleration due to gravity is $g=9.81 m/s^2$."
   ]
  },
  {
   "cell_type": "markdown",
   "metadata": {},
   "source": [
    "### Task 1\n",
    "Calculate her velocity at times: 3s, 5s and 10s."
   ]
  },
  {
   "cell_type": "code",
   "execution_count": null,
   "metadata": {},
   "outputs": [],
   "source": [
    "from math import exp\n",
    "m=60\n",
    "g=-9.81\n",
    "c=13\n",
    "v1=m*g/c*(1-exp(-c*3/m))\n",
    "v2=m*g/c*(1-exp(-c*5/m))\n",
    "v3=m*g/c*(1-exp(-c*10/m))\n",
    "print(\"Velocities at times 3s, 5s and 10s are: %.2f m/s, %.2f m/s, %.2f m/s\" % (v1, v2, v3))"
   ]
  },
  {
   "cell_type": "markdown",
   "metadata": {},
   "source": [
    "### Task 2\n",
    "Calculate her terminal velocity."
   ]
  },
  {
   "cell_type": "code",
   "execution_count": null,
   "metadata": {},
   "outputs": [],
   "source": [
    "v_terminal = m*g/c\n",
    "print(\"Terminal velocity is: %.2f m/s\" % v_terminal)"
   ]
  },
  {
   "cell_type": "markdown",
   "metadata": {},
   "source": [
    "### Task 3\n",
    "How far did she travel after 15s?"
   ]
  },
  {
   "cell_type": "code",
   "execution_count": null,
   "metadata": {},
   "outputs": [],
   "source": [
    "t=15\n",
    "distance = m*g/c*(t+exp(-c*t/m)*m/c)               # Integrate expression for V, assume const = 0\n",
    "print(\"Distance travelled is: %.2f m\" % -distance) # Moving downwards => position negative"
   ]
  }
 ],
 "metadata": {
  "kernelspec": {
   "display_name": "Python 3",
   "language": "python",
   "name": "python3"
  },
  "language_info": {
   "codemirror_mode": {
    "name": "ipython",
    "version": 3
   },
   "file_extension": ".py",
   "mimetype": "text/x-python",
   "name": "python",
   "nbconvert_exporter": "python",
   "pygments_lexer": "ipython3",
   "version": "3.7.3rc1"
  },
  "toc": {
   "base_numbering": 1,
   "nav_menu": {},
   "number_sections": false,
   "sideBar": true,
   "skip_h1_title": false,
   "title_cell": "Table of Contents",
   "title_sidebar": "Contents",
   "toc_cell": false,
   "toc_position": {},
   "toc_section_display": true,
   "toc_window_display": true
  }
 },
 "nbformat": 4,
 "nbformat_minor": 2
}
