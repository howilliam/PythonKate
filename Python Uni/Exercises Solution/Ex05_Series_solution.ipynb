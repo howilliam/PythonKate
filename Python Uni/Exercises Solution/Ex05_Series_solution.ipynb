{
 "cells": [
  {
   "cell_type": "markdown",
   "metadata": {},
   "source": [
    "# Exercise 5 - Series expansions\n",
    "## Computing and Numerical Methods 1 - Introduction to Python"
   ]
  },
  {
   "cell_type": "markdown",
   "metadata": {},
   "source": [
    "## Task 1\n",
    "\n",
    "The natural logarithm, $\\ln y$, for real values of $y$,can be approximated by a finite series expansion:\n",
    "\\begin{align}\n",
    "\\ln y \\approx 2\\sum_{k=0}^{N} \\frac{1}{2k+1}\\left(\\frac{y-1}{y+1}\\right)^{2k+1}\n",
    "\\end{align}\n",
    "for $N > 0$, $y > 0$.\n",
    "\n",
    "Write a function to calculate the  natural logarithm using the expression above.\n",
    "\n",
    "The function should accept $y$ and $N$ as parameters. The default parameter value for $N$ should be set to 10.\n",
    "\n",
    "The function should validate that the parameters to the function are in the correct range."
   ]
  },
  {
   "cell_type": "code",
   "execution_count": null,
   "metadata": {},
   "outputs": [],
   "source": [
    "def mylog(y, N=10):\n",
    "    if N <= 0:\n",
    "        raise ValueError(f'N should be positive. The value of N was: {N}')\n",
    "    if y <= 0:\n",
    "        raise ValueError(f'y should be positive. The value of y was: {y}')\n",
    "        \n",
    "    nl = 0\n",
    "    for k in range(N+1):\n",
    "        c = 2*k+1\n",
    "        nl += 1/c * ((y-1)/(y+1))**c\n",
    "    nl *= 2\n",
    "    return nl"
   ]
  },
  {
   "cell_type": "markdown",
   "metadata": {},
   "source": [
    "<a id='part2'></a>\n",
    "## Task 2\n",
    "\n",
    "\n",
    "\n",
    "The inverse hyperbolic tangent, $\\tanh^{-1} x$, for real $x$ with $-1<x<1$, can \n",
    "be expressed in terms of natural logarithms as:\n",
    "\\begin{align}\n",
    "\\tanh^{-1} x = \\frac{1}{2} \\left[\\ln(1+x)-\\ln(1-x)\\right].\n",
    "\\end{align}\n",
    "\n",
    "\n",
    "Write a function, using the function defined in __Task 1__ and the expression above, to compute the inverse hyperbolic tangent.\n",
    "\n",
    "The function should accept $x$ and $N$ as parameters. A default parameter value for $N$ should be set to 10.\n",
    "\n",
    "The function should validate that the parameters to the function are in the correct range."
   ]
  },
  {
   "cell_type": "code",
   "execution_count": null,
   "metadata": {},
   "outputs": [],
   "source": [
    "def myatanh(x, N=10):\n",
    "    if not -1 < x < 1:\n",
    "        raise ValueError(f'x should be in (-1,1). The value of x was: {x}')\n",
    "    return 0.5*(mylog(1+x, N)-mylog(1-x, N))"
   ]
  },
  {
   "cell_type": "markdown",
   "metadata": {},
   "source": [
    "## Task 3\n",
    "Calculate the inverse hyperbolic tangent at the three points: $x_1=-0.9$, $x_2=0.1$ and $x_3=0.5$, using your function from __Task 2__.\n",
    "\n",
    "Use `N=3` in this task.\n",
    "\n",
    "Compare those values to the ones obtained using the `atanh()` function in the `math` module and print the difference for the three cases."
   ]
  },
  {
   "cell_type": "code",
   "execution_count": null,
   "metadata": {},
   "outputs": [],
   "source": [
    "from math import atanh\n",
    "\n",
    "N=3\n",
    "print(\"Approximation   True Value\")\n",
    "print(\"%+12.10f   %+12.10f   %e\" % \n",
    "      (myatanh(-0.9, N), atanh(-0.9), abs(myatanh(-0.9, N) - atanh(-0.9))))\n",
    "print(\"%+12.10f   %+12.10f   %e\" % \n",
    "      (myatanh(0.1,  N), atanh( 0.1), abs(myatanh(0.1,  N) - atanh( 0.1))))\n",
    "print(\"%+12.10f   %+12.10f   %e\" %\n",
    "      (myatanh(0.5,  N), atanh( 0.5), abs(myatanh(0.5,  N) - atanh( 0.5))))"
   ]
  }
 ],
 "metadata": {
  "kernelspec": {
   "display_name": "Python 3",
   "language": "python",
   "name": "python3"
  },
  "language_info": {
   "codemirror_mode": {
    "name": "ipython",
    "version": 3
   },
   "file_extension": ".py",
   "mimetype": "text/x-python",
   "name": "python",
   "nbconvert_exporter": "python",
   "pygments_lexer": "ipython3",
   "version": "3.7.3rc1"
  },
  "toc": {
   "base_numbering": 1,
   "nav_menu": {},
   "number_sections": false,
   "sideBar": true,
   "skip_h1_title": false,
   "title_cell": "Table of Contents",
   "title_sidebar": "Contents",
   "toc_cell": false,
   "toc_position": {},
   "toc_section_display": true,
   "toc_window_display": true
  }
 },
 "nbformat": 4,
 "nbformat_minor": 2
}
