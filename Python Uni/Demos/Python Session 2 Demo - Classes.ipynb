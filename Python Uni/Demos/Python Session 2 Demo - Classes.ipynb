{
 "cells": [
  {
   "cell_type": "markdown",
   "metadata": {},
   "source": [
    "# Object-oriented programming\n",
    "\n",
    "Python is naturally object-oriented using the concept of **Classes**.\n",
    "\n",
    "A *class* is a \"blueprint\", or \"design\", for a data structure, describing the data it holds and things that can be done to that data. \n",
    "\n",
    "An *object* is an *instance* of a class which actually exists, has real memory associated with it and can therefore store actual data.\n",
    "\n",
    "## Storing related pieces of data\n",
    "First we define the class. We specify the data which is to be stored by our class."
   ]
  },
  {
   "cell_type": "code",
   "execution_count": null,
   "metadata": {},
   "outputs": [],
   "source": [
    "class Person:\n",
    "    name = \"\"\n",
    "    year_of_birth = 2000\n",
    "    address = \"\""
   ]
  },
  {
   "cell_type": "markdown",
   "metadata": {},
   "source": [
    "Now let's create an instance of this class, called *a*."
   ]
  },
  {
   "cell_type": "code",
   "execution_count": null,
   "metadata": {},
   "outputs": [],
   "source": [
    "a = Person()\n",
    "a.name    = \"John Smith\"\n",
    "a.address = \"1 Nowhere Road\"\n",
    "a.year_of_birth = 1994"
   ]
  },
  {
   "cell_type": "markdown",
   "metadata": {},
   "source": [
    "We can access the data in our class using the '.' operator:"
   ]
  },
  {
   "cell_type": "code",
   "execution_count": null,
   "metadata": {},
   "outputs": [],
   "source": [
    "print(\"My name is \", a.name, \". I live at \", a.address, \" and I was born in the year \", a.year_of_birth, sep='')"
   ]
  },
  {
   "cell_type": "markdown",
   "metadata": {},
   "source": [
    "## Initialising objects\n",
    "Let's replace our previous class with a new improved class which allows us to initialise our data members."
   ]
  },
  {
   "cell_type": "code",
   "execution_count": null,
   "metadata": {},
   "outputs": [],
   "source": [
    "class Person:\n",
    "#    name          = \"\"\n",
    "#    year_of_birth = 1999\n",
    "#    address       = \"\"\n",
    "    \n",
    "    def __init__(self, myname = \"\", myyear = 1999, myaddress = \"\"):\n",
    "        self.name = myname\n",
    "        self.year_of_birth = myyear\n",
    "        self.address = myaddress"
   ]
  },
  {
   "cell_type": "markdown",
   "metadata": {},
   "source": [
    "We can now specify the values when creating the Person object directly."
   ]
  },
  {
   "cell_type": "code",
   "execution_count": null,
   "metadata": {},
   "outputs": [],
   "source": [
    "a = Person(\"John Smith\", 1994, \"2 Nowhere Road\")\n",
    "print(\"My name is \", a.name, \". I live at \", a.address, \" and I was born in the year \", a.year_of_birth, sep='')"
   ]
  },
  {
   "cell_type": "markdown",
   "metadata": {},
   "source": [
    "We can also specify the parameters in any order by naming them explicitly. Since we provided default values for each data member, we do not need to specify them all."
   ]
  },
  {
   "cell_type": "code",
   "execution_count": null,
   "metadata": {},
   "outputs": [],
   "source": [
    "b = Person(myaddress=\"3 Nowhere Road\", myname = \"John Smith\")\n",
    "print(\"My name is \", b.name, \". I live at \", b.address, \" and I was born in the year \", b.year_of_birth, sep='')"
   ]
  },
  {
   "cell_type": "markdown",
   "metadata": {},
   "source": [
    "## Member functions - operating on objects\n",
    "Now let's add a member *function* that will operate on an object."
   ]
  },
  {
   "cell_type": "code",
   "execution_count": null,
   "metadata": {},
   "outputs": [],
   "source": [
    "from datetime import datetime as dt\n",
    "\n",
    "class Person:\n",
    "    def __init__(self, myname = \"\", myyear = dt.now().year, myaddress = \"(unknown)\"):\n",
    "        self.name = myname\n",
    "        self.year_of_birth = myyear\n",
    "        self.address = myaddress\n",
    "\n",
    "    def printme(self):\n",
    "        print(\"My name is \", self.name, \". I live at \", self.address, \n",
    "              \" and I was born in the year \", self.year_of_birth, sep='')\n",
    "        \n",
    "    def age(self):\n",
    "        return dt.now().year - self.year_of_birth"
   ]
  },
  {
   "cell_type": "markdown",
   "metadata": {},
   "source": [
    "We can now call our member functions as follows:"
   ]
  },
  {
   "cell_type": "code",
   "execution_count": null,
   "metadata": {},
   "outputs": [],
   "source": [
    "b = Person(myaddress=\"3 Nowhere Road\", myname = \"John Smith\")\n",
    "b.printme()\n",
    "print(\"My age is:\", b.age())"
   ]
  },
  {
   "cell_type": "markdown",
   "metadata": {},
   "source": [
    "We can now make other data structures containing many instances of our class, and operate on them collectively."
   ]
  },
  {
   "cell_type": "code",
   "execution_count": null,
   "metadata": {},
   "outputs": [],
   "source": [
    "addressbook = [ Person(\"John\", 1999), Person(\"Bob\", 1990), Person(\"Sally\", 1994), Person(\"Jane\", 1989)]"
   ]
  },
  {
   "cell_type": "code",
   "execution_count": null,
   "metadata": {},
   "outputs": [],
   "source": [
    "for i in addressbook:\n",
    "    i.printme()\n",
    "    print (i.name, \"is\", i.age(), \"years old.\")"
   ]
  }
 ],
 "metadata": {
  "kernelspec": {
   "display_name": "Python 3",
   "language": "python",
   "name": "python3"
  },
  "language_info": {
   "codemirror_mode": {
    "name": "ipython",
    "version": 3
   },
   "file_extension": ".py",
   "mimetype": "text/x-python",
   "name": "python",
   "nbconvert_exporter": "python",
   "pygments_lexer": "ipython3",
   "version": "3.7.3rc1"
  },
  "toc": {
   "base_numbering": 1,
   "nav_menu": {},
   "number_sections": true,
   "sideBar": true,
   "skip_h1_title": false,
   "title_cell": "Table of Contents",
   "title_sidebar": "Contents",
   "toc_cell": false,
   "toc_position": {},
   "toc_section_display": true,
   "toc_window_display": false
  }
 },
 "nbformat": 4,
 "nbformat_minor": 2
}
