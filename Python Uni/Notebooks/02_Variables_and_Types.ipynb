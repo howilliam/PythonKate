{
 "cells": [
  {
   "cell_type": "markdown",
   "metadata": {
    "collapsed": true
   },
   "source": [
    "# <font color=blue> Variables and Types </font>"
   ]
  },
  {
   "cell_type": "markdown",
   "metadata": {
    "toc": true
   },
   "source": [
    "<h1>Table of Contents<span class=\"tocSkip\"></span></h1>\n",
    "<div class=\"toc\"><ul class=\"toc-item\"><li><span><a href=\"#-Variables-and-Types-\" data-toc-modified-id=\"-Variables-and-Types--2\"><span class=\"toc-item-num\">2&nbsp;&nbsp;</span><font color=\"blue\"> Variables and Types </font></a></span><ul class=\"toc-item\"><li><span><a href=\"#Learning-Objectives\" data-toc-modified-id=\"Learning-Objectives-2.1\"><span class=\"toc-item-num\">2.1&nbsp;&nbsp;</span>Learning Objectives</a></span></li><li><span><a href=\"#Key-Concepts\" data-toc-modified-id=\"Key-Concepts-2.2\"><span class=\"toc-item-num\">2.2&nbsp;&nbsp;</span>Key Concepts</a></span></li><li><span><a href=\"#Variable-names\" data-toc-modified-id=\"Variable-names-2.3\"><span class=\"toc-item-num\">2.3&nbsp;&nbsp;</span>Variable names</a></span><ul class=\"toc-item\"><li><span><a href=\"#Reserved-words-in-Python\" data-toc-modified-id=\"Reserved-words-in-Python-2.3.1\"><span class=\"toc-item-num\">2.3.1&nbsp;&nbsp;</span>Reserved words in Python</a></span></li></ul></li><li><span><a href=\"#Assignment-and-Equality\" data-toc-modified-id=\"Assignment-and-Equality-2.4\"><span class=\"toc-item-num\">2.4&nbsp;&nbsp;</span>Assignment and Equality</a></span></li><li><span><a href=\"#Numerical-types\" data-toc-modified-id=\"Numerical-types-2.5\"><span class=\"toc-item-num\">2.5&nbsp;&nbsp;</span>Numerical types</a></span><ul class=\"toc-item\"><li><span><a href=\"#Type-conversion-(casting)\" data-toc-modified-id=\"Type-conversion-(casting)-2.5.1\"><span class=\"toc-item-num\">2.5.1&nbsp;&nbsp;</span>Type conversion (casting)</a></span></li><li><span><a href=\"#Integer-division\" data-toc-modified-id=\"Integer-division-2.5.2\"><span class=\"toc-item-num\">2.5.2&nbsp;&nbsp;</span>Integer division</a></span></li></ul></li><li><span><a href=\"#Exercises\" data-toc-modified-id=\"Exercises-2.6\"><span class=\"toc-item-num\">2.6&nbsp;&nbsp;</span>Exercises</a></span><ul class=\"toc-item\"><li><span><a href=\"#Exercise-1\" data-toc-modified-id=\"Exercise-1-2.6.1\"><span class=\"toc-item-num\">2.6.1&nbsp;&nbsp;</span>Exercise 1</a></span></li><li><span><a href=\"#Exercise-2\" data-toc-modified-id=\"Exercise-2-2.6.2\"><span class=\"toc-item-num\">2.6.2&nbsp;&nbsp;</span>Exercise 2</a></span></li></ul></li></ul></li></ul></div>"
   ]
  },
  {
   "cell_type": "markdown",
   "metadata": {},
   "source": [
    "***\n",
    "## Learning Objectives\n",
    "- Understand how to create variables to hold data in memory.\n",
    "- Know which names cannot be used for variables.\n",
    "- Understand the difference between integer and floating-point data types and how to convert between them.\n",
    "***"
   ]
  },
  {
   "cell_type": "markdown",
   "metadata": {
    "collapsed": true
   },
   "source": [
    "## Key Concepts\n",
    "A _variable_ is the basis of every programming language. It is a storage location in the computer's memory, paired with an associated name or identifier. Variables are used to store data during a program's execution. The variable name is used to reference the stored data in the program; this separation of name and its content allows the name to be used independently of the exact information it represents. Without variables it would be impossible to perform meaningful computations.\n",
    "\n",
    "A _type_ describes the nature of the data stored by the variable. Python is not _statically-typed_ which means a variable's type can change during the execution of the program."
   ]
  },
  {
   "cell_type": "markdown",
   "metadata": {},
   "source": [
    "## Variable names\n",
    "\n",
    "Programmers should use descriptive variable names such as `height` and `width` in preference to just `h` and `w`. A variable's name should be related to its purpose within the code. A good choice of variables names makes programs easier to read and understand and can reduce the likelihood of errors from using the wrong variable.\n",
    "\n",
    "Python has strict rules for choosing variable names:\n",
    "* They should contain at least one character;\n",
    "* The first character should be an alphabetic letter;\n",
    "* The remaining characters maybe alphabetic characters, digits or the underscore;\n",
    "* No other character is allowed;\n",
    "* _Reserved words_ cannot be used."
   ]
  },
  {
   "cell_type": "markdown",
   "metadata": {
    "collapsed": true
   },
   "source": [
    "### Reserved words in Python\n",
    "There are several words reserved in Python which form part of the Python language. These reserved words cannot be used as variable names:\n",
    "`and, as, assert, break, class, continue, def, del, elif, else, except, False, finally, for, from, global, if, import, in, is, lambda, None, nonlocal, not, or, pass, raise, return, True, try, with, while`, and `yield`.\n",
    "\n",
    "It is also highly recommended not to use any of the following words, even though they are not strictly Python reserved words, since they conflict with the names of commonly-used Python functions:\n",
    "`Data, Float, Int, Numeric, array, close, float, int, input, open, range, type, write` and `zeros`."
   ]
  },
  {
   "cell_type": "markdown",
   "metadata": {},
   "source": [
    "## Assignment and Equality\n",
    "\n",
    "In most programming languages the `=` operator is understood to mean assignment. This operator is used to specify the value of a variable. The variable name is written on the left-hand side of the operator and the value is written on the right-hand side.\n",
    "\n",
    "The meaning of the assignment operator `=` is different from the equality sign in mathematics. In mathematics, `=` asserts that the expression on its left is equal to the expression on its right. In Python, `=` assigns the value of the expression on its right to the variable on its left.\n",
    "\n",
    "An example of this is shown below."
   ]
  },
  {
   "cell_type": "code",
   "execution_count": null,
   "metadata": {
    "scrolled": true
   },
   "outputs": [],
   "source": [
    "x = 25 + 3 / 4\n",
    "print(x)"
   ]
  },
  {
   "cell_type": "markdown",
   "metadata": {},
   "source": [
    "If we wanted to test for equality, we would use `==` operator. For example,"
   ]
  },
  {
   "cell_type": "code",
   "execution_count": null,
   "metadata": {},
   "outputs": [],
   "source": [
    "x == 25.75"
   ]
  },
  {
   "cell_type": "markdown",
   "metadata": {},
   "source": [
    "## Numerical types\n",
    "\n",
    "The basic numerical types in Python are:\n",
    "\n",
    "| Type       | Description                               |\n",
    "| ---------- | ----------------------------------------- |\n",
    "| integer    | whole number, may be positive or negative |\n",
    "| float      | floating-point number                     |\n",
    "| complex    | complex number                            |\n",
    "| bool       | true or false                             |\n",
    "\n",
    "Unlike some other programming languages, in Python we do not specify the type explicitly. Rather Python infers it from the assigned value. We can use `type(var)` (replacing `var` with the name of a variable) to show the type inferred by Python.\n",
    "\n",
    "Some examples of using the assignment operator and viewing the inferred data type are given below."
   ]
  },
  {
   "cell_type": "code",
   "execution_count": null,
   "metadata": {
    "scrolled": false
   },
   "outputs": [],
   "source": [
    "a = 5\n",
    "type(a)"
   ]
  },
  {
   "cell_type": "code",
   "execution_count": null,
   "metadata": {
    "scrolled": false
   },
   "outputs": [],
   "source": [
    "b = 5.\n",
    "type(b)"
   ]
  },
  {
   "cell_type": "code",
   "execution_count": null,
   "metadata": {
    "scrolled": false
   },
   "outputs": [],
   "source": [
    "c = 2.1 + 4.7j\n",
    "type(c)"
   ]
  },
  {
   "cell_type": "code",
   "execution_count": null,
   "metadata": {
    "scrolled": false
   },
   "outputs": [],
   "source": [
    "d = True\n",
    "type(d)"
   ]
  },
  {
   "cell_type": "markdown",
   "metadata": {},
   "source": [
    "### Type conversion (casting)\n",
    "\n",
    "Sometimes, it is necessary to convert the data stored in a variable from one data type to another. This is also known as _casting_.\n",
    "\n",
    "Python includes _functions_ for doing this task. For example:\n",
    "- `int(x)` converts the data in `x` to an integer.\n",
    "- `float(x)` converts the data in `x` to a floating-point representation.\n",
    "\n",
    "> **Note**\n",
    "> We will learn about functions and how to create our own in Chapter 6.\n",
    "\n",
    "The following example shows how to convert the integer `a` (defined above) to a floating-point representation."
   ]
  },
  {
   "cell_type": "code",
   "execution_count": null,
   "metadata": {
    "scrolled": true
   },
   "outputs": [],
   "source": [
    "e = float(a)\n",
    "\n",
    "print(a, type(a))\n",
    "print(e, type(e))"
   ]
  },
  {
   "cell_type": "markdown",
   "metadata": {},
   "source": [
    "### Integer division\n",
    "\n",
    "Integer division occurs when the output of dividing two integer numbers is also an integer. It is a very common source for bugs in codes. Integer division behaviour is common in most programming languages including C, C++ and Fortran as well as Python 2.x. In these languages, when we provide two integer numbers to the division operator, the fractional part of the result is discarded and only an integer part returned.\n",
    "\n",
    "The behaviour of the division operator changed in Python 3 and the performing division between two integer values will return a float, as shown below."
   ]
  },
  {
   "cell_type": "code",
   "execution_count": null,
   "metadata": {
    "scrolled": true
   },
   "outputs": [],
   "source": [
    "10 / 2"
   ]
  },
  {
   "cell_type": "code",
   "execution_count": null,
   "metadata": {
    "scrolled": true
   },
   "outputs": [],
   "source": [
    "10 / 3"
   ]
  },
  {
   "cell_type": "markdown",
   "metadata": {},
   "source": [
    "If the programmer needs to explicitly perform integer division in Python 3.x the `//` operator can be used."
   ]
  },
  {
   "cell_type": "code",
   "execution_count": null,
   "metadata": {
    "scrolled": true
   },
   "outputs": [],
   "source": [
    "10 // 3"
   ]
  },
  {
   "cell_type": "markdown",
   "metadata": {},
   "source": [
    "Be aware that in performing integer division in Python with a negative number will round towards negative infinity. This behaviour is different in other languages."
   ]
  },
  {
   "cell_type": "code",
   "execution_count": null,
   "metadata": {
    "scrolled": true
   },
   "outputs": [],
   "source": [
    "10 // -3"
   ]
  },
  {
   "cell_type": "markdown",
   "metadata": {},
   "source": [
    "***\n",
    "## Exercises\n",
    "Now try the following exercises."
   ]
  },
  {
   "cell_type": "markdown",
   "metadata": {},
   "source": [
    "### Exercise 1\n",
    "Create a variable var and assign the value 3.14 to it.\n",
    "\n",
    "Copy the value of var to the variable varCopy\n",
    "\n",
    "Double the existing value of var"
   ]
  },
  {
   "cell_type": "code",
   "execution_count": null,
   "metadata": {},
   "outputs": [],
   "source": []
  },
  {
   "cell_type": "markdown",
   "metadata": {
    "solution2": "hidden",
    "solution2_first": true
   },
   "source": [
    " "
   ]
  },
  {
   "cell_type": "code",
   "execution_count": null,
   "metadata": {
    "solution2": "hidden"
   },
   "outputs": [],
   "source": [
    "var = 3.14\n",
    "varCopy = var\n",
    "var *= 2"
   ]
  },
  {
   "cell_type": "markdown",
   "metadata": {},
   "source": [
    "### Exercise 2\n",
    "Create two variables `first` and `second`, and assign the values 1.23 and\n",
    "2.34.\n",
    "\n",
    "Swap them and print their values."
   ]
  },
  {
   "cell_type": "code",
   "execution_count": null,
   "metadata": {},
   "outputs": [],
   "source": []
  },
  {
   "cell_type": "markdown",
   "metadata": {
    "solution2": "hidden",
    "solution2_first": true
   },
   "source": [
    " "
   ]
  },
  {
   "cell_type": "code",
   "execution_count": null,
   "metadata": {
    "solution2": "hidden"
   },
   "outputs": [],
   "source": [
    "first = 1.23\n",
    "second = 2.34\n",
    "print(first, second)\n",
    "first, second = second, first\n",
    "print(first, second)"
   ]
  },
  {
   "cell_type": "markdown",
   "metadata": {},
   "source": [
    "***"
   ]
  }
 ],
 "metadata": {
  "anaconda-cloud": {},
  "kernelspec": {
   "display_name": "Python 3",
   "language": "python",
   "name": "python3"
  },
  "language_info": {
   "codemirror_mode": {
    "name": "ipython",
    "version": 3
   },
   "file_extension": ".py",
   "mimetype": "text/x-python",
   "name": "python",
   "nbconvert_exporter": "python",
   "pygments_lexer": "ipython3",
   "version": "3.7.1"
  },
  "name": "_merged",
  "nbTranslate": {
   "displayLangs": [
    "es",
    "en"
   ],
   "hotkey": "alt-t",
   "langInMainMenu": true,
   "sourceLang": "en",
   "targetLang": "es",
   "useGoogleTranslate": true
  },
  "toc": {
   "base_numbering": "2",
   "nav_menu": {
    "height": "339px",
    "width": "236px"
   },
   "number_sections": true,
   "sideBar": true,
   "skip_h1_title": false,
   "title_cell": "Table of Contents",
   "title_sidebar": "Contents",
   "toc_cell": true,
   "toc_position": {
    "height": "1022px",
    "left": "0px",
    "right": "1665px",
    "top": "107px",
    "width": "255px"
   },
   "toc_section_display": "block",
   "toc_window_display": true
  },
  "varInspector": {
   "cols": {
    "lenName": 16,
    "lenType": 16,
    "lenVar": 40
   },
   "kernels_config": {
    "python": {
     "delete_cmd_postfix": "",
     "delete_cmd_prefix": "del ",
     "library": "var_list.py",
     "varRefreshCmd": "print(var_dic_list())"
    },
    "r": {
     "delete_cmd_postfix": ") ",
     "delete_cmd_prefix": "rm(",
     "library": "var_list.r",
     "varRefreshCmd": "cat(var_dic_list()) "
    }
   },
   "types_to_exclude": [
    "module",
    "function",
    "builtin_function_or_method",
    "instance",
    "_Feature"
   ],
   "window_display": false
  }
 },
 "nbformat": 4,
 "nbformat_minor": 1
}
