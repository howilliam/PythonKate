{
 "cells": [
  {
   "cell_type": "markdown",
   "metadata": {},
   "source": [
    "# <font color=blue>Flow Control</font>"
   ]
  },
  {
   "cell_type": "markdown",
   "metadata": {
    "toc": true
   },
   "source": [
    "<h1>Table of Contents<span class=\"tocSkip\"></span></h1>\n",
    "<div class=\"toc\"><ul class=\"toc-item\"><li><span><a href=\"#Flow-Control\" data-toc-modified-id=\"Flow-Control-4\"><span class=\"toc-item-num\">4&nbsp;&nbsp;</span><font color=\"blue\">Flow Control</font></a></span><ul class=\"toc-item\"><li><span><a href=\"#Learning-Objectives\" data-toc-modified-id=\"Learning-Objectives-4.1\"><span class=\"toc-item-num\">4.1&nbsp;&nbsp;</span>Learning Objectives</a></span></li><li><span><a href=\"#if/elif/else\" data-toc-modified-id=\"if/elif/else-4.2\"><span class=\"toc-item-num\">4.2&nbsp;&nbsp;</span>if/elif/else</a></span><ul class=\"toc-item\"><li><span><a href=\"#Boolean-expressions\" data-toc-modified-id=\"Boolean-expressions-4.2.1\"><span class=\"toc-item-num\">4.2.1&nbsp;&nbsp;</span>Boolean expressions</a></span></li><li><span><a href=\"#Conditional-expressions\" data-toc-modified-id=\"Conditional-expressions-4.2.2\"><span class=\"toc-item-num\">4.2.2&nbsp;&nbsp;</span>Conditional expressions</a></span></li></ul></li><li><span><a href=\"#Loops\" data-toc-modified-id=\"Loops-4.3\"><span class=\"toc-item-num\">4.3&nbsp;&nbsp;</span>Loops</a></span><ul class=\"toc-item\"><li><span><a href=\"#for\" data-toc-modified-id=\"for-4.3.1\"><span class=\"toc-item-num\">4.3.1&nbsp;&nbsp;</span>for</a></span></li><li><span><a href=\"#while\" data-toc-modified-id=\"while-4.3.2\"><span class=\"toc-item-num\">4.3.2&nbsp;&nbsp;</span>while</a></span></li><li><span><a href=\"#Break-out-of-enclosing-for/while-loop:\" data-toc-modified-id=\"Break-out-of-enclosing-for/while-loop:-4.3.3\"><span class=\"toc-item-num\">4.3.3&nbsp;&nbsp;</span>Break out of enclosing for/while loop:</a></span></li><li><span><a href=\"#Continue-the-next-iteration-of-a-loop:\" data-toc-modified-id=\"Continue-the-next-iteration-of-a-loop:-4.3.4\"><span class=\"toc-item-num\">4.3.4&nbsp;&nbsp;</span>Continue the next iteration of a loop:</a></span></li><li><span><a href=\"#Enumerating-the-sequence\" data-toc-modified-id=\"Enumerating-the-sequence-4.3.5\"><span class=\"toc-item-num\">4.3.5&nbsp;&nbsp;</span>Enumerating the sequence</a></span></li><li><span><a href=\"#More-loops\" data-toc-modified-id=\"More-loops-4.3.6\"><span class=\"toc-item-num\">4.3.6&nbsp;&nbsp;</span>More loops</a></span></li><li><span><a href=\"#List-comprehensions\" data-toc-modified-id=\"List-comprehensions-4.3.7\"><span class=\"toc-item-num\">4.3.7&nbsp;&nbsp;</span>List comprehensions</a></span></li></ul></li><li><span><a href=\"#Exercises\" data-toc-modified-id=\"Exercises-4.4\"><span class=\"toc-item-num\">4.4&nbsp;&nbsp;</span>Exercises</a></span><ul class=\"toc-item\"><li><span><a href=\"#Exercise-1\" data-toc-modified-id=\"Exercise-1-4.4.1\"><span class=\"toc-item-num\">4.4.1&nbsp;&nbsp;</span>Exercise 1</a></span></li><li><span><a href=\"#Exercise-2\" data-toc-modified-id=\"Exercise-2-4.4.2\"><span class=\"toc-item-num\">4.4.2&nbsp;&nbsp;</span>Exercise 2</a></span></li></ul></li></ul></li></ul></div>"
   ]
  },
  {
   "cell_type": "markdown",
   "metadata": {},
   "source": [
    "***\n",
    "## Learning Objectives\n",
    "- Understand the use of conditional statements and loops for program flow control.\n",
    "- Know the syntax for conditional statements and loops.\n",
    "- Know the operators used to construct boolean expressions.\n",
    "- Know how to break out of a loop or skip to the next iteration\n",
    "***"
   ]
  },
  {
   "cell_type": "markdown",
   "metadata": {},
   "source": [
    "For any python program, the python interpreter will start at the top and then process all the statements until the last one.\n",
    "In this part, constructs that allow program statements to be optionally executed are introduced. This constructs controls the *order* in which the code is executed."
   ]
  },
  {
   "cell_type": "markdown",
   "metadata": {},
   "source": [
    "## if/elif/else"
   ]
  },
  {
   "cell_type": "code",
   "execution_count": null,
   "metadata": {
    "scrolled": true
   },
   "outputs": [],
   "source": [
    "if 5:\n",
    "    print(\"Obvious!\")"
   ]
  },
  {
   "cell_type": "markdown",
   "metadata": {},
   "source": [
    "Blocks are delimited by *indentation*. Convention in Python is to use 4 spaces, no hard Tabs:"
   ]
  },
  {
   "cell_type": "code",
   "execution_count": null,
   "metadata": {
    "scrolled": true
   },
   "outputs": [],
   "source": [
    "a = 1\n",
    "if a == 1:\n",
    "    print(1)\n",
    "    print('a = 1')\n",
    "elif a == 2:\n",
    "    print(2)\n",
    "else:\n",
    "    print('A lot')"
   ]
  },
  {
   "cell_type": "markdown",
   "metadata": {},
   "source": [
    "### Boolean expressions\n",
    "\n",
    " Any expression that has a evaluates to True or False is known as logical or boolean expression.\n",
    " \n",
    " The comparison operators are:\n",
    "* `C == 40` # C equals 40\n",
    "* `C != 40` # C does not equal 40\n",
    "* `C >= 40` # C is greater than or equal to 40\n",
    "* `C > 40` # C is greater than 40\n",
    "* `C < 40` # C is less than 40\n",
    "\n",
    "The following boolean operators can also be used:\n",
    "* `not`\n",
    "* `and`\n",
    "* `or`"
   ]
  },
  {
   "cell_type": "markdown",
   "metadata": {},
   "source": [
    "### Conditional expressions\n",
    "\n",
    "if < OBJECT >: *Evaluates to False*:\n",
    "* any number equal to zero (0, 0.0, 0+0j)\n",
    "* an empty container (list, tuple, set, dictionary, ...)\n",
    "* **False**, **None**\n",
    "\n",
    "*Evaluates to True*: everything else\n",
    "\n"
   ]
  },
  {
   "cell_type": "code",
   "execution_count": null,
   "metadata": {
    "scrolled": true
   },
   "outputs": [],
   "source": [
    "dict = {'e': 1}\n",
    "if dict:\n",
    "    print('Dictionary is not empty')\n",
    "else:\n",
    "    print('Dictionary is empty')"
   ]
  },
  {
   "cell_type": "code",
   "execution_count": null,
   "metadata": {
    "scrolled": true
   },
   "outputs": [],
   "source": [
    "a = 1\n",
    "if a:\n",
    "    print(a)"
   ]
  },
  {
   "cell_type": "markdown",
   "metadata": {},
   "source": [
    "**`a == b`** Tests equality, with logics:"
   ]
  },
  {
   "cell_type": "code",
   "execution_count": null,
   "metadata": {
    "scrolled": true
   },
   "outputs": [],
   "source": [
    "1 == 1."
   ]
  },
  {
   "cell_type": "markdown",
   "metadata": {},
   "source": [
    "**`a is b`** Tests identity: both sides are the same object:"
   ]
  },
  {
   "cell_type": "code",
   "execution_count": null,
   "metadata": {
    "scrolled": true
   },
   "outputs": [],
   "source": [
    "1 is 1."
   ]
  },
  {
   "cell_type": "code",
   "execution_count": null,
   "metadata": {
    "scrolled": true
   },
   "outputs": [],
   "source": [
    "a = 1\n",
    "b = 1\n",
    "a is b"
   ]
  },
  {
   "cell_type": "markdown",
   "metadata": {},
   "source": [
    "**`a in b`** For any collection `b`: `b` contains `a`"
   ]
  },
  {
   "cell_type": "code",
   "execution_count": null,
   "metadata": {
    "scrolled": true
   },
   "outputs": [],
   "source": [
    "b = [1, 2, 3]\n",
    "2 in b"
   ]
  },
  {
   "cell_type": "code",
   "execution_count": null,
   "metadata": {
    "scrolled": true
   },
   "outputs": [],
   "source": [
    "5 in b"
   ]
  },
  {
   "cell_type": "markdown",
   "metadata": {},
   "source": [
    "If `b` is a dictionary, this tests that `a` is a key of `b`."
   ]
  },
  {
   "cell_type": "markdown",
   "metadata": {},
   "source": [
    "## Loops"
   ]
  },
  {
   "cell_type": "markdown",
   "metadata": {},
   "source": [
    "### for\n",
    "\n",
    "Repetitive tasks in a program can be automated by loops.\n",
    "For loops are traditionally used when you have a piece of code needs to be repeated several times.\n",
    "\n",
    "**for**/**range** iterating with an index:\n"
   ]
  },
  {
   "cell_type": "code",
   "execution_count": null,
   "metadata": {
    "scrolled": true
   },
   "outputs": [],
   "source": [
    "for i in range(4):\n",
    "    print(i)"
   ]
  },
  {
   "cell_type": "code",
   "execution_count": null,
   "metadata": {
    "scrolled": true
   },
   "outputs": [],
   "source": [
    "for i in range(4):\n",
    "    print(i, end=' ')"
   ]
  },
  {
   "cell_type": "code",
   "execution_count": null,
   "metadata": {
    "scrolled": true
   },
   "outputs": [],
   "source": [
    "a_list = ['cool', 'powerful', 'readable']\n",
    "for i in range(len(a_list)):\n",
    "    print('Python is {}'.format(a_list[i]))"
   ]
  },
  {
   "cell_type": "code",
   "execution_count": null,
   "metadata": {},
   "outputs": [],
   "source": [
    "list(range(4))"
   ]
  },
  {
   "cell_type": "markdown",
   "metadata": {},
   "source": [
    "But most often, it is more readable to iterate over values:"
   ]
  },
  {
   "cell_type": "code",
   "execution_count": null,
   "metadata": {
    "scrolled": true
   },
   "outputs": [],
   "source": [
    "a_list = ['cool', 'powerful', 'readable']\n",
    "for word in a_list[1:]:\n",
    "    print('Python is {}'.format(word))"
   ]
  },
  {
   "cell_type": "markdown",
   "metadata": {},
   "source": [
    "### while\n",
    "\n",
    "While loops are used when a condition is to be met. The while loop will repeat a set of statements as long as a this condition is true.\n",
    "\n"
   ]
  },
  {
   "cell_type": "code",
   "execution_count": null,
   "metadata": {
    "scrolled": false
   },
   "outputs": [],
   "source": [
    "z = 1 + 1j"
   ]
  },
  {
   "cell_type": "code",
   "execution_count": null,
   "metadata": {
    "scrolled": true
   },
   "outputs": [],
   "source": [
    "while abs(z) < 100:\n",
    "    print(z, abs(z))\n",
    "    z = z**2 + 1"
   ]
  },
  {
   "cell_type": "code",
   "execution_count": null,
   "metadata": {
    "scrolled": true
   },
   "outputs": [],
   "source": [
    "z, abs(z)"
   ]
  },
  {
   "cell_type": "markdown",
   "metadata": {},
   "source": [
    "### Break out of enclosing for/while loop:"
   ]
  },
  {
   "cell_type": "code",
   "execution_count": null,
   "metadata": {
    "scrolled": true
   },
   "outputs": [],
   "source": [
    "z = 1 + 1j\n",
    "while abs(z) < 100:\n",
    "    print(z, z.imag, abs(z))\n",
    "    if z.imag == 4:\n",
    "        break\n",
    "    z = z**2 + 1"
   ]
  },
  {
   "cell_type": "code",
   "execution_count": null,
   "metadata": {
    "scrolled": true
   },
   "outputs": [],
   "source": [
    "z, z.imag, abs(z)\n",
    "type(z.imag)"
   ]
  },
  {
   "cell_type": "markdown",
   "metadata": {},
   "source": [
    "### Continue the next iteration of a loop:"
   ]
  },
  {
   "cell_type": "code",
   "execution_count": null,
   "metadata": {
    "scrolled": true
   },
   "outputs": [],
   "source": [
    "a = [1, 0, 2, 4]\n",
    "for element in a:\n",
    "    if element == 0:\n",
    "        continue\n",
    "    print(1 / element)"
   ]
  },
  {
   "cell_type": "markdown",
   "metadata": {},
   "source": [
    "It is possible to iterate over any sequence (string, list, keys in dictionary, lines in file, etc.). This can make the code very readable, eliminating the use of indices."
   ]
  },
  {
   "cell_type": "code",
   "execution_count": null,
   "metadata": {
    "scrolled": true
   },
   "outputs": [],
   "source": [
    "vowels = 'aeiouy'\n",
    "for i in 'powerful':\n",
    "    if i in vowels:\n",
    "        print((i), end=' ')"
   ]
  },
  {
   "cell_type": "code",
   "execution_count": null,
   "metadata": {
    "scrolled": true
   },
   "outputs": [],
   "source": [
    "message = \"Hello, how are you?\"\n",
    "message.split()  # returns a list"
   ]
  },
  {
   "cell_type": "code",
   "execution_count": null,
   "metadata": {
    "scrolled": true
   },
   "outputs": [],
   "source": [
    "for word in message.split():\n",
    "    print(word)"
   ]
  },
  {
   "cell_type": "markdown",
   "metadata": {},
   "source": [
    "### Enumerating the sequence\n",
    "\n",
    "There are two ways to enumerate a sequence. \n",
    "\n",
    "The first one is to keep track of the enumeration number:"
   ]
  },
  {
   "cell_type": "code",
   "execution_count": null,
   "metadata": {
    "scrolled": false
   },
   "outputs": [],
   "source": [
    "words = ('cool', 'powerful', 'readable')"
   ]
  },
  {
   "cell_type": "code",
   "execution_count": null,
   "metadata": {
    "scrolled": true
   },
   "outputs": [],
   "source": [
    "for i in range(len(words)):\n",
    "    print(i, words[i])"
   ]
  },
  {
   "cell_type": "markdown",
   "metadata": {},
   "source": [
    "The second one is to use the **enumerate** keyword:"
   ]
  },
  {
   "cell_type": "code",
   "execution_count": null,
   "metadata": {
    "scrolled": true
   },
   "outputs": [],
   "source": [
    "for index, item in enumerate(words):\n",
    "    print(index, item)"
   ]
  },
  {
   "cell_type": "markdown",
   "metadata": {},
   "source": [
    "### More loops\n",
    "\n",
    "Looping over a dictionary: use **items** or not:"
   ]
  },
  {
   "cell_type": "code",
   "execution_count": null,
   "metadata": {
    "scrolled": true
   },
   "outputs": [],
   "source": [
    "d = {'a': 1, 'b': 1.2, 'c': 1j}\n",
    "for key, val in d.items():\n",
    "    print('Key: {} has value: {}'.format(key, val))"
   ]
  },
  {
   "cell_type": "code",
   "execution_count": null,
   "metadata": {
    "scrolled": true
   },
   "outputs": [],
   "source": [
    "for key in d:  # Fast in both Python 2 and Python 3\n",
    "    print('Key: {} has value: {}'.format(key, d[key]))"
   ]
  },
  {
   "cell_type": "markdown",
   "metadata": {},
   "source": [
    "### List comprehensions\n",
    "\n",
    "List comprehensions provide a concise way to create lists. Common applications are to make new lists where each element is the result of some operations applied to each member of another sequence or iterable, or to create a subsequence of those elements that satisfy a certain condition."
   ]
  },
  {
   "cell_type": "code",
   "execution_count": null,
   "metadata": {
    "scrolled": true
   },
   "outputs": [],
   "source": [
    "a = [i**2 for i in range(8) if i % 2 == 0]\n",
    "a"
   ]
  },
  {
   "cell_type": "code",
   "execution_count": null,
   "metadata": {},
   "outputs": [],
   "source": [
    "a = []\n",
    "for i in range(8):\n",
    "    if i % 2 == 0:\n",
    "        a.append(i**2)\n",
    "a"
   ]
  },
  {
   "cell_type": "markdown",
   "metadata": {},
   "source": [
    "***\n",
    "## Exercises\n",
    "Now try the following exercises."
   ]
  },
  {
   "cell_type": "markdown",
   "metadata": {},
   "source": [
    "### Exercise 1\n",
    "Write a program for playing Rock, Paper, Scissors.\n",
    "\n",
    "Create a dictionary with keys in the range 1 to 3 and values Rock, Paper, Scissors.\n",
    "\n",
    "Use the ``randint()`` function in the ``random`` libray to generate a number between 1 and 3, use the dictionary to find which option you have.\n",
    "\n",
    "Use the ``randint()`` function in the ``random`` libray again to find which option the computer has.\n",
    "\n",
    "Determine who won and print it. The  output should be something like: \"The computer has chosen ROCK, you have chosen SCISSORS. You LOSE.\"\n"
   ]
  },
  {
   "cell_type": "markdown",
   "metadata": {
    "solution2": "hidden",
    "solution2_first": true
   },
   "source": [
    " "
   ]
  },
  {
   "cell_type": "code",
   "execution_count": null,
   "metadata": {
    "solution2": "hidden"
   },
   "outputs": [],
   "source": [
    "from random import randint\n",
    "RPS = {1: 'Rock', 2: 'Paper', 3: 'Scissors'}\n",
    "\n",
    "c = RPS[randint(1,3)]\n",
    "p = RPS[randint(1,3)]\n",
    "\n",
    "output = 'DRAW'\n",
    "if p=='Rock':\n",
    "    if c=='Scissors':\n",
    "        output = 'WIN'\n",
    "    elif c=='Paper':\n",
    "        output = 'LOOSE'\n",
    "elif p=='Paper':\n",
    "    if c=='Rock':\n",
    "        output = 'WIN'\n",
    "    elif c=='Scissors':\n",
    "        output = 'LOOSE'\n",
    "elif p=='Scissors':\n",
    "    if c=='Paper':\n",
    "        output = 'WIN'\n",
    "    elif c=='Rock':\n",
    "        output = 'LOOSE'\n",
    "    \n",
    "\n",
    "print(f\"The computer has chosen {c.upper()}, you have chosen {p.upper()}. You {output}.\")"
   ]
  },
  {
   "cell_type": "markdown",
   "metadata": {},
   "source": [
    "### Exercise 2\n",
    "Write a program that creates a list of the first 50 even numbers starting at 0."
   ]
  },
  {
   "cell_type": "markdown",
   "metadata": {
    "solution2": "hidden",
    "solution2_first": true
   },
   "source": [
    " "
   ]
  },
  {
   "cell_type": "code",
   "execution_count": null,
   "metadata": {
    "solution2": "hidden"
   },
   "outputs": [],
   "source": [
    "even_numbers = []\n",
    "for i in range(50):\n",
    "    even_numbers.append(2*i)\n",
    "print(even_numbers)"
   ]
  },
  {
   "cell_type": "markdown",
   "metadata": {},
   "source": [
    "***"
   ]
  }
 ],
 "metadata": {
  "anaconda-cloud": {},
  "kernelspec": {
   "display_name": "Python 3",
   "language": "python",
   "name": "python3"
  },
  "language_info": {
   "codemirror_mode": {
    "name": "ipython",
    "version": 3
   },
   "file_extension": ".py",
   "mimetype": "text/x-python",
   "name": "python",
   "nbconvert_exporter": "python",
   "pygments_lexer": "ipython3",
   "version": "3.7.1"
  },
  "name": "_merged",
  "nbTranslate": {
   "displayLangs": [
    "es",
    "en"
   ],
   "hotkey": "alt-t",
   "langInMainMenu": true,
   "sourceLang": "en",
   "targetLang": "es",
   "useGoogleTranslate": true
  },
  "toc": {
   "base_numbering": "4",
   "nav_menu": {
    "height": "339px",
    "width": "236px"
   },
   "number_sections": true,
   "sideBar": true,
   "skip_h1_title": false,
   "title_cell": "Table of Contents",
   "title_sidebar": "Contents",
   "toc_cell": true,
   "toc_position": {
    "height": "1022px",
    "left": "0px",
    "right": "1665px",
    "top": "107px",
    "width": "255px"
   },
   "toc_section_display": "block",
   "toc_window_display": true
  },
  "varInspector": {
   "cols": {
    "lenName": 16,
    "lenType": 16,
    "lenVar": 40
   },
   "kernels_config": {
    "python": {
     "delete_cmd_postfix": "",
     "delete_cmd_prefix": "del ",
     "library": "var_list.py",
     "varRefreshCmd": "print(var_dic_list())"
    },
    "r": {
     "delete_cmd_postfix": ") ",
     "delete_cmd_prefix": "rm(",
     "library": "var_list.r",
     "varRefreshCmd": "cat(var_dic_list()) "
    }
   },
   "types_to_exclude": [
    "module",
    "function",
    "builtin_function_or_method",
    "instance",
    "_Feature"
   ],
   "window_display": false
  }
 },
 "nbformat": 4,
 "nbformat_minor": 1
}
