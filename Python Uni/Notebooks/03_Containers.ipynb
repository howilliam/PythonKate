{
 "cells": [
  {
   "cell_type": "markdown",
   "metadata": {},
   "source": [
    "# <font color=blue>Containers: Sequences and collections</font>"
   ]
  },
  {
   "cell_type": "markdown",
   "metadata": {
    "toc": true
   },
   "source": [
    "<h1>Table of Contents<span class=\"tocSkip\"></span></h1>\n",
    "<div class=\"toc\"><ul class=\"toc-item\"><li><span><a href=\"#Containers:-Sequences-and-collections\" data-toc-modified-id=\"Containers:-Sequences-and-collections-3\"><span class=\"toc-item-num\">3&nbsp;&nbsp;</span><font color=\"blue\">Containers: Sequences and collections</font></a></span><ul class=\"toc-item\"><li><span><a href=\"#Learning-Objectives\" data-toc-modified-id=\"Learning-Objectives-3.1\"><span class=\"toc-item-num\">3.1&nbsp;&nbsp;</span>Learning Objectives</a></span></li><li><span><a href=\"#Key-Concepts\" data-toc-modified-id=\"Key-Concepts-3.2\"><span class=\"toc-item-num\">3.2&nbsp;&nbsp;</span>Key Concepts</a></span></li><li><span><a href=\"#Lists\" data-toc-modified-id=\"Lists-3.3\"><span class=\"toc-item-num\">3.3&nbsp;&nbsp;</span>Lists</a></span><ul class=\"toc-item\"><li><span><a href=\"#Adding-items\" data-toc-modified-id=\"Adding-items-3.3.1\"><span class=\"toc-item-num\">3.3.1&nbsp;&nbsp;</span>Adding items</a></span></li><li><span><a href=\"#Removing-items\" data-toc-modified-id=\"Removing-items-3.3.2\"><span class=\"toc-item-num\">3.3.2&nbsp;&nbsp;</span>Removing items</a></span></li><li><span><a href=\"#Searching-the-list\" data-toc-modified-id=\"Searching-the-list-3.3.3\"><span class=\"toc-item-num\">3.3.3&nbsp;&nbsp;</span>Searching the list</a></span></li><li><span><a href=\"#Other-operations\" data-toc-modified-id=\"Other-operations-3.3.4\"><span class=\"toc-item-num\">3.3.4&nbsp;&nbsp;</span>Other operations</a></span></li></ul></li><li><span><a href=\"#Tuples\" data-toc-modified-id=\"Tuples-3.4\"><span class=\"toc-item-num\">3.4&nbsp;&nbsp;</span>Tuples</a></span></li><li><span><a href=\"#Strings\" data-toc-modified-id=\"Strings-3.5\"><span class=\"toc-item-num\">3.5&nbsp;&nbsp;</span>Strings</a></span><ul class=\"toc-item\"><li><span><a href=\"#Creating-strings\" data-toc-modified-id=\"Creating-strings-3.5.1\"><span class=\"toc-item-num\">3.5.1&nbsp;&nbsp;</span>Creating strings</a></span></li><li><span><a href=\"#Formatting-Strings\" data-toc-modified-id=\"Formatting-Strings-3.5.2\"><span class=\"toc-item-num\">3.5.2&nbsp;&nbsp;</span>Formatting Strings</a></span></li></ul></li><li><span><a href=\"#Sets\" data-toc-modified-id=\"Sets-3.6\"><span class=\"toc-item-num\">3.6&nbsp;&nbsp;</span>Sets</a></span><ul class=\"toc-item\"><li><span><a href=\"#Adding-items\" data-toc-modified-id=\"Adding-items-3.6.1\"><span class=\"toc-item-num\">3.6.1&nbsp;&nbsp;</span>Adding items</a></span></li><li><span><a href=\"#Removing-items\" data-toc-modified-id=\"Removing-items-3.6.2\"><span class=\"toc-item-num\">3.6.2&nbsp;&nbsp;</span>Removing items</a></span></li></ul></li><li><span><a href=\"#Dictionaries\" data-toc-modified-id=\"Dictionaries-3.7\"><span class=\"toc-item-num\">3.7&nbsp;&nbsp;</span>Dictionaries</a></span><ul class=\"toc-item\"><li><span><a href=\"#Populating-dictionaries\" data-toc-modified-id=\"Populating-dictionaries-3.7.1\"><span class=\"toc-item-num\">3.7.1&nbsp;&nbsp;</span>Populating dictionaries</a></span></li><li><span><a href=\"#Querying-dictionaries\" data-toc-modified-id=\"Querying-dictionaries-3.7.2\"><span class=\"toc-item-num\">3.7.2&nbsp;&nbsp;</span>Querying dictionaries</a></span></li></ul></li><li><span><a href=\"#Assignment-operator-revisited\" data-toc-modified-id=\"Assignment-operator-revisited-3.8\"><span class=\"toc-item-num\">3.8&nbsp;&nbsp;</span>Assignment operator revisited</a></span><ul class=\"toc-item\"><li><span><a href=\"#Shallow-copies\" data-toc-modified-id=\"Shallow-copies-3.8.1\"><span class=\"toc-item-num\">3.8.1&nbsp;&nbsp;</span>Shallow copies</a></span></li><li><span><a href=\"#Deep-copies\" data-toc-modified-id=\"Deep-copies-3.8.2\"><span class=\"toc-item-num\">3.8.2&nbsp;&nbsp;</span>Deep copies</a></span></li></ul></li><li><span><a href=\"#Exercises\" data-toc-modified-id=\"Exercises-3.9\"><span class=\"toc-item-num\">3.9&nbsp;&nbsp;</span>Exercises</a></span><ul class=\"toc-item\"><li><span><a href=\"#Exercise-1\" data-toc-modified-id=\"Exercise-1-3.9.1\"><span class=\"toc-item-num\">3.9.1&nbsp;&nbsp;</span>Exercise 1</a></span></li></ul></li></ul></li></ul></div>"
   ]
  },
  {
   "cell_type": "markdown",
   "metadata": {},
   "source": [
    "***\n",
    "## Learning Objectives\n",
    "- Understand the difference between _Lists_, _Tuples_, _Strings_, _Sets_ and _Dictionaries_.\n",
    "- Know how to perform operations on them, such as adding or removing elements.\n",
    "- Understand the difference between shallow and deep copies of a container.\n",
    "***"
   ]
  },
  {
   "cell_type": "markdown",
   "metadata": {},
   "source": [
    "## Key Concepts\n",
    "\n",
    "Python has a number of _containers_ for efficiently storing and manipulating groups of related data. The choice of which container to use depends on the needs of the algorithm and how the data is to be used or manipulated.\n",
    "\n",
    "These containers can be classified as _mutable_ and _immutable_. Immutable sequences are those in which single elements cannot be changed, while changes are allowed in mutable containers.\n",
    "\n",
    "The data stored by containers may be simple numerical values, strings or more complex data types (such as other containers). We therefore use the term _objects_ or _elements_ to more generally refer to entities stored in a container."
   ]
  },
  {
   "cell_type": "markdown",
   "metadata": {},
   "source": [
    "## Lists\n",
    "\n",
    "A list is an _ordered_ collection of objects, that may be of different types. This allows several objects to be stored using a single variable name. We can work with all objects as a whole or access individual elements of the list.\n",
    "\n",
    "The square brackets operator (`[]`) is used for both creating lists and accessing elements of the list. In creating a list, the elements inside the list are separated by commas.\n",
    "\n",
    "For example, let's create a list and print it out:"
   ]
  },
  {
   "cell_type": "code",
   "execution_count": null,
   "metadata": {},
   "outputs": [],
   "source": [
    "L = ['red', 1, 'dog', 0.2, 2.14, 5]\n",
    "print(L)"
   ]
  },
  {
   "cell_type": "markdown",
   "metadata": {},
   "source": [
    "Each element in a list is associated with an index reflecting its position in the list. The first element of a list has index 0. In order to access a specific element we simply write the name of the list and the element index in square brackets.\n",
    "\n",
    "To access the third element in the list from the start we would write:"
   ]
  },
  {
   "cell_type": "code",
   "execution_count": null,
   "metadata": {
    "scrolled": true
   },
   "outputs": [],
   "source": [
    "L[2]"
   ]
  },
  {
   "cell_type": "markdown",
   "metadata": {},
   "source": [
    "Elements can also be accessed by counting from the end of the lists using negative indices. For example:"
   ]
  },
  {
   "cell_type": "code",
   "execution_count": null,
   "metadata": {
    "scrolled": true
   },
   "outputs": [],
   "source": [
    "L[-2]"
   ]
  },
  {
   "cell_type": "markdown",
   "metadata": {},
   "source": [
    "List are mutable objects that can be modified. An element of a list can be modified by assigning a new value to the list index, again using the square brackets operator."
   ]
  },
  {
   "cell_type": "code",
   "execution_count": null,
   "metadata": {
    "scrolled": true
   },
   "outputs": [],
   "source": [
    "L[1] = 3\n",
    "print(L)"
   ]
  },
  {
   "cell_type": "markdown",
   "metadata": {},
   "source": [
    "Lists can also be sliced to obtain sublists of regularly spaced elements. The slicing syntax is as follows: `L[start:stop:stride]`. The resulting sublist contains every `stride` element, starting with the element at index `start` and finishing _before_ `end`. All slicing parameters are optional and trailing colons (:) can be discarded.\n",
    "\n",
    "This first example extracts the elements at indices 1 and 2 (but not 3)."
   ]
  },
  {
   "cell_type": "code",
   "execution_count": null,
   "metadata": {
    "scrolled": true
   },
   "outputs": [],
   "source": [
    "L[1:3]"
   ]
  },
  {
   "cell_type": "markdown",
   "metadata": {},
   "source": [
    "The next example uses a stride of 2 and so extracts the 0th, 2nd and 4th elements of the list."
   ]
  },
  {
   "cell_type": "code",
   "execution_count": null,
   "metadata": {
    "scrolled": true
   },
   "outputs": [],
   "source": [
    "L[0:5:2]"
   ]
  },
  {
   "cell_type": "markdown",
   "metadata": {},
   "source": [
    "This example extracts the first three elements of the list."
   ]
  },
  {
   "cell_type": "code",
   "execution_count": null,
   "metadata": {
    "scrolled": true
   },
   "outputs": [],
   "source": [
    "L[:3]"
   ]
  },
  {
   "cell_type": "markdown",
   "metadata": {},
   "source": [
    "An empty list is created by `[]`."
   ]
  },
  {
   "cell_type": "code",
   "execution_count": null,
   "metadata": {},
   "outputs": [],
   "source": [
    "a = []\n",
    "len(a)   # Get the size of the list"
   ]
  },
  {
   "cell_type": "markdown",
   "metadata": {},
   "source": [
    "There are several operations that can be performed on lists. The number of elements in a list can be obtained using the function `len()`."
   ]
  },
  {
   "cell_type": "code",
   "execution_count": null,
   "metadata": {
    "scrolled": true
   },
   "outputs": [],
   "source": [
    "len(L)"
   ]
  },
  {
   "cell_type": "markdown",
   "metadata": {},
   "source": [
    "### Adding items\n",
    "There are four ways of adding items to a list:\n",
    " - concatenate with another list using the \"`+`\" operator;\n",
    " - use `L.insert(i, e)` to insert an element `e` in position number `i` in the list;\n",
    " - use `L.append(e)` to append a single element `e` to the end of the list; and\n",
    " - use `L.extend(L1)` to append each of the elements or items in `L1` to the end of the original list `L`."
   ]
  },
  {
   "cell_type": "markdown",
   "metadata": {},
   "source": [
    "This first example concatenates a second list to L."
   ]
  },
  {
   "cell_type": "code",
   "execution_count": null,
   "metadata": {
    "scrolled": true
   },
   "outputs": [],
   "source": [
    "print(L)\n",
    "L = L + [1, True]\n",
    "print(L)"
   ]
  },
  {
   "cell_type": "markdown",
   "metadata": {},
   "source": [
    "The second example inserts the complex number `1 + 2j` at index 2 in the list. All the elements with index $\\ge 2$ are moved along in the list."
   ]
  },
  {
   "cell_type": "code",
   "execution_count": null,
   "metadata": {
    "scrolled": true
   },
   "outputs": [],
   "source": [
    "L.insert(2, 1 + 2j)\n",
    "print(L)"
   ]
  },
  {
   "cell_type": "markdown",
   "metadata": {},
   "source": [
    "In this example we append a list using the `append` function. Note that the list itself is appended to `L`, rather than the elements of the list, which is different to the concatenation operation, `+`, from the first example."
   ]
  },
  {
   "cell_type": "code",
   "execution_count": null,
   "metadata": {
    "scrolled": true
   },
   "outputs": [],
   "source": [
    "L.append([1, 2])\n",
    "print(L)"
   ]
  },
  {
   "cell_type": "code",
   "execution_count": null,
   "metadata": {
    "scrolled": true
   },
   "outputs": [],
   "source": [
    "L.extend([3, 4])\n",
    "print(L)"
   ]
  },
  {
   "cell_type": "markdown",
   "metadata": {},
   "source": [
    "Notice the difference between append and extend. `append()` takes the argument and adds it to the list as the last element. `extend()` takes every element in the argument and appends each item to the original list."
   ]
  },
  {
   "cell_type": "markdown",
   "metadata": {},
   "source": [
    "### Removing items\n",
    "An element can be removed with `del L[i]` when we know the element index. We can also remove an item by its value with `L.remove(e)`. For example:"
   ]
  },
  {
   "cell_type": "code",
   "execution_count": null,
   "metadata": {},
   "outputs": [],
   "source": [
    "del L[2]\n",
    "print(L)\n",
    "L.remove('dog')\n",
    "print(L)"
   ]
  },
  {
   "cell_type": "markdown",
   "metadata": {},
   "source": [
    "`L.pop()` can also be used to remove items at the end of a list. When called without arguments it removes the last item in the list and returns the value it removed."
   ]
  },
  {
   "cell_type": "code",
   "execution_count": null,
   "metadata": {},
   "outputs": [],
   "source": [
    "a = L.pop()\n",
    "print(L)\n",
    "print(a)"
   ]
  },
  {
   "cell_type": "markdown",
   "metadata": {},
   "source": [
    "However, beware of the following when removing elements by their value, rather than by their index. Consider:"
   ]
  },
  {
   "cell_type": "code",
   "execution_count": null,
   "metadata": {
    "scrolled": true
   },
   "outputs": [],
   "source": [
    "L.remove(True)\n",
    "print(L)"
   ]
  },
  {
   "cell_type": "markdown",
   "metadata": {},
   "source": [
    "Notice that **`True`** did not get removed, but **`1`** did!!! This is because the boolean `True` is considered equal to the integer `1`:"
   ]
  },
  {
   "cell_type": "code",
   "execution_count": null,
   "metadata": {},
   "outputs": [],
   "source": [
    "True == 1"
   ]
  },
  {
   "cell_type": "markdown",
   "metadata": {},
   "source": [
    "### Searching the list\n",
    "It is also possible to find the index of the first occurrence of a value in the list. `index()` is used for this purpose"
   ]
  },
  {
   "cell_type": "code",
   "execution_count": null,
   "metadata": {
    "scrolled": true
   },
   "outputs": [],
   "source": [
    "L.index(3)"
   ]
  },
  {
   "cell_type": "markdown",
   "metadata": {},
   "source": [
    "Notice that the value '3' occurred twice in the list 'L'."
   ]
  },
  {
   "cell_type": "markdown",
   "metadata": {},
   "source": [
    "### Other operations\n",
    "For discovering more methods we can use tab completion. Position your cursor after the `L.` and hit the Tab key to see a list of possible operations.\n",
    "\n",
    "We can also use the `help()` command to discover methods:"
   ]
  },
  {
   "cell_type": "code",
   "execution_count": null,
   "metadata": {
    "scrolled": true
   },
   "outputs": [],
   "source": [
    "help(list)"
   ]
  },
  {
   "cell_type": "markdown",
   "metadata": {},
   "source": [
    "## Tuples\n",
    "\n",
    "A tuple is an immutable list. Once a tuple is created, it cannot be modified.\n",
    "\n",
    "Tuple elements are written between parenthesis or just separated by commas:"
   ]
  },
  {
   "cell_type": "code",
   "execution_count": null,
   "metadata": {
    "scrolled": true
   },
   "outputs": [],
   "source": [
    "t = 'one', 'two', 'three'\n",
    "u = (1, 2, 3)\n",
    "print(type(t), type(u))"
   ]
  },
  {
   "cell_type": "markdown",
   "metadata": {},
   "source": [
    "As with a [list](#Lists), items of a tuple can be accessed using square brackets:"
   ]
  },
  {
   "cell_type": "code",
   "execution_count": null,
   "metadata": {
    "scrolled": true
   },
   "outputs": [],
   "source": [
    "t[1]"
   ]
  },
  {
   "cell_type": "markdown",
   "metadata": {},
   "source": [
    "Remember that tuples are immutable. If we try to change a tuple item we will get a `TypeError` exception:"
   ]
  },
  {
   "cell_type": "code",
   "execution_count": null,
   "metadata": {
    "scrolled": true
   },
   "outputs": [],
   "source": [
    "t[2] = 'four'"
   ]
  },
  {
   "cell_type": "markdown",
   "metadata": {},
   "source": [
    "To create an empty tuple, we can use a set of empty parentheses `()`:"
   ]
  },
  {
   "cell_type": "code",
   "execution_count": null,
   "metadata": {
    "scrolled": true
   },
   "outputs": [],
   "source": [
    "t = ()\n",
    "print(type(t))\n",
    "print(len(t))"
   ]
  },
  {
   "cell_type": "markdown",
   "metadata": {},
   "source": [
    "Note that the correct way to create a tuple with a single value is to add a comma after the value. This is because otherwise Python would interpret the parentheses as normal brackets and perform normal assignment.\n",
    "\n",
    "For an example of the difference, consider the code below:"
   ]
  },
  {
   "cell_type": "code",
   "execution_count": null,
   "metadata": {
    "scrolled": true
   },
   "outputs": [],
   "source": [
    "t = (1)\n",
    "print(type(t))\n",
    "\n",
    "t = (1, )\n",
    "print(type(t))"
   ]
  },
  {
   "cell_type": "markdown",
   "metadata": {},
   "source": [
    "Finally, tuples can be use to assign multiple values at once, as in the following example:"
   ]
  },
  {
   "cell_type": "code",
   "execution_count": null,
   "metadata": {
    "scrolled": true
   },
   "outputs": [],
   "source": [
    "vals = 1, 2, 3\n",
    "print(vals)\n",
    "x, y, z = vals\n",
    "print(z, y, x)"
   ]
  },
  {
   "cell_type": "markdown",
   "metadata": {},
   "source": [
    "## Strings\n",
    "\n",
    "A string is an immutable sequence of characters. When we assign a string to a variable, the variable actually stores the location of the string in memory, rather than the actual string itself. So while we cannot change the actual string, we can still assign a different string to the same variable."
   ]
  },
  {
   "cell_type": "markdown",
   "metadata": {},
   "source": [
    "### Creating strings\n",
    "Strings can be created in three ways: single, double or triple quotes.\n",
    "\n",
    "Single quotes and double quotes are equivalent in Python. Usually using either is fine, although if the string itself contains a single quote, enclose the string in double quotes, and vice-versa. The triple quote (three single quotes) allow the string to include line breaks.\n",
    "\n",
    "Some examples are shown below:"
   ]
  },
  {
   "cell_type": "code",
   "execution_count": null,
   "metadata": {
    "scrolled": true
   },
   "outputs": [],
   "source": [
    "s1 = 'Hello there!'\n",
    "s2 = \"How're you doing?\"\n",
    "s3 = '''Hi,\n",
    "how do you do?'''\n",
    "print(s1)\n",
    "print(s2)\n",
    "print(s3)"
   ]
  },
  {
   "cell_type": "markdown",
   "metadata": {},
   "source": [
    "Strings, like lists, can be sliced using the same syntax and rules:"
   ]
  },
  {
   "cell_type": "code",
   "execution_count": null,
   "metadata": {
    "scrolled": true
   },
   "outputs": [],
   "source": [
    "s1[0]"
   ]
  },
  {
   "cell_type": "code",
   "execution_count": null,
   "metadata": {
    "scrolled": true
   },
   "outputs": [],
   "source": [
    "s2[:6]"
   ]
  },
  {
   "cell_type": "code",
   "execution_count": null,
   "metadata": {
    "scrolled": true
   },
   "outputs": [],
   "source": [
    "s1[1::2]  # every second characters, starting in the second element to the end"
   ]
  },
  {
   "cell_type": "markdown",
   "metadata": {},
   "source": [
    "Strings are immutable objects and it is not possible to modify its content. For example, if we were to try and change one character of a string, an error would be produced:"
   ]
  },
  {
   "cell_type": "code",
   "execution_count": null,
   "metadata": {
    "scrolled": true
   },
   "outputs": [],
   "source": [
    "s1[2] = 'b'"
   ]
  },
  {
   "cell_type": "markdown",
   "metadata": {},
   "source": [
    "There are methods that allow us to create new strings from the original one. The following example uses the `replace()` function to create a new string from `s1` in which all instances of the letter `l` are replaced with the letter `z`. However, this does not alter the original string."
   ]
  },
  {
   "cell_type": "code",
   "execution_count": null,
   "metadata": {
    "scrolled": true
   },
   "outputs": [],
   "source": [
    "s1new = s1.replace('l', 'z')\n",
    "print(s1)    # s1 was not modified\n",
    "print(s1new) # s1new is a different string created from s1"
   ]
  },
  {
   "cell_type": "markdown",
   "metadata": {},
   "source": [
    "There are many more methods for manipulating Strings. Remember you can use tab completion or `help(str)` to search for new methods."
   ]
  },
  {
   "cell_type": "code",
   "execution_count": null,
   "metadata": {},
   "outputs": [],
   "source": [
    "help(str)"
   ]
  },
  {
   "cell_type": "markdown",
   "metadata": {},
   "source": [
    "### Formatting Strings\n",
    "\n",
    "The simplest way to format strings is to insert a value into a string with a single placeholder `{}`. If there are several placeholders, the first place holder is replaced by the first argument, the second placeholder by the second argument and so on.\n"
   ]
  },
  {
   "cell_type": "code",
   "execution_count": null,
   "metadata": {
    "scrolled": true
   },
   "outputs": [],
   "source": [
    "username = 'Omar'\n",
    "password = '1234'\n",
    "\"{}'s password is {}\".format(username, password)"
   ]
  },
  {
   "cell_type": "markdown",
   "metadata": {},
   "source": [
    "We can also use format specifiers that give us more control over how the text will be displayed. Within a replacement field, a colon (:) marks the start of the format specifier. In the example below the format specifier \".2\" indicates that the value will be shown with 2 decimal places and \"f\" means \"fixed point\" notation.\n",
    "\n"
   ]
  },
  {
   "cell_type": "code",
   "execution_count": null,
   "metadata": {
    "scrolled": true
   },
   "outputs": [],
   "source": [
    "'1000000 bytes are approximately {:.2f} kB'.format(1000000 / 1024)"
   ]
  },
  {
   "cell_type": "markdown",
   "metadata": {},
   "source": [
    "For more details see the [Format Specification Mini-Language](https://docs.python.org/3/library/string.html#format-examples) in the official Python documentation."
   ]
  },
  {
   "cell_type": "markdown",
   "metadata": {},
   "source": [
    "## Sets\n",
    "\n",
    "Sets are collection of unordered, unique items. They are synonymous with the mathematical concept. Since they are unordered, there is no indexing of the elements and therefore no rules dictating the order in which the elements will be displayed.\n",
    "\n",
    "A set can be created using the set _constructor_, or the curly braces `{ }` notation."
   ]
  },
  {
   "cell_type": "code",
   "execution_count": null,
   "metadata": {
    "scrolled": true
   },
   "outputs": [],
   "source": [
    "s = set(('a', 'b', 'c', 'd', 'b'))\n",
    "print(s)\n",
    "\n",
    "s1 = {'b', 'e'}\n",
    "print(type(s1))\n",
    "print(s1)"
   ]
  },
  {
   "cell_type": "markdown",
   "metadata": {},
   "source": [
    "Python provides all the usual set operations including: union, intersection and difference."
   ]
  },
  {
   "cell_type": "code",
   "execution_count": null,
   "metadata": {
    "scrolled": true
   },
   "outputs": [],
   "source": [
    "s.union(s1)"
   ]
  },
  {
   "cell_type": "code",
   "execution_count": null,
   "metadata": {
    "scrolled": true
   },
   "outputs": [],
   "source": [
    "s.intersection(s1)"
   ]
  },
  {
   "cell_type": "code",
   "execution_count": null,
   "metadata": {
    "scrolled": true
   },
   "outputs": [],
   "source": [
    "s.difference(s1)"
   ]
  },
  {
   "cell_type": "markdown",
   "metadata": {},
   "source": [
    "### Adding items\n",
    "Items can be added to existing sets in two different ways:\n",
    "- `add()`, to add a single item to a set\n",
    "- `update()`, to add multiple items to a set"
   ]
  },
  {
   "cell_type": "code",
   "execution_count": null,
   "metadata": {
    "scrolled": true
   },
   "outputs": [],
   "source": [
    "s.add('z')\n",
    "print(s)"
   ]
  },
  {
   "cell_type": "code",
   "execution_count": null,
   "metadata": {
    "scrolled": true
   },
   "outputs": [],
   "source": [
    "s.update(s1)\n",
    "print(s)"
   ]
  },
  {
   "cell_type": "markdown",
   "metadata": {},
   "source": [
    "### Removing items\n",
    "Similarly, items of a set can be removed using:\n",
    "- `discard()`, which removes a single element but does nothing if the element is not present in the set\n",
    "- `remove()`, which removes a single element but produces an error if the element is not present\n",
    "- `pop()`, removes a random element from the set (which is returned)\n",
    "\n",
    "Since sets are an unordered collection, there is no way to control which value will be removed with `pop()`."
   ]
  },
  {
   "cell_type": "code",
   "execution_count": null,
   "metadata": {
    "scrolled": true
   },
   "outputs": [],
   "source": [
    "s.discard('d')\n",
    "print(s)\n",
    "s.discard('x')\n",
    "print(s)\n",
    "s.remove('a')\n",
    "print(s)\n",
    "randomElement = s.pop()\n",
    "print(s)\n",
    "print(randomElement)"
   ]
  },
  {
   "cell_type": "markdown",
   "metadata": {},
   "source": [
    "## Dictionaries\n",
    "\n",
    "A dictionary in Python is an unordered container of key-value pairs, that is an efficient table that maps keys to values.\n",
    "There are several ways of creating a dictionary. An empty dictionary can be created using curly braces (`{}`):"
   ]
  },
  {
   "cell_type": "code",
   "execution_count": null,
   "metadata": {},
   "outputs": [],
   "source": [
    "d = {}\n",
    "type(d)"
   ]
  },
  {
   "cell_type": "code",
   "execution_count": null,
   "metadata": {
    "scrolled": true
   },
   "outputs": [],
   "source": [
    "len(d)"
   ]
  },
  {
   "cell_type": "markdown",
   "metadata": {},
   "source": [
    "or using the function `dict()`:"
   ]
  },
  {
   "cell_type": "code",
   "execution_count": null,
   "metadata": {
    "scrolled": true
   },
   "outputs": [],
   "source": [
    "d = dict()\n",
    "type(d)"
   ]
  },
  {
   "cell_type": "code",
   "execution_count": null,
   "metadata": {
    "scrolled": true
   },
   "outputs": [],
   "source": [
    "print(d)"
   ]
  },
  {
   "cell_type": "markdown",
   "metadata": {},
   "source": [
    "### Populating dictionaries\n",
    "A dictionary can be populated at creation time. This is a similar syntax to creating sets, but we input comma-separated key-value pairs with the key and value separated by a colon."
   ]
  },
  {
   "cell_type": "code",
   "execution_count": null,
   "metadata": {
    "scrolled": true
   },
   "outputs": [],
   "source": [
    "d1 = {'elements': (1, 2), 'nodes': ('a', 'b', 'c', 'd')}\n",
    "print(d1)"
   ]
  },
  {
   "cell_type": "markdown",
   "metadata": {},
   "source": [
    "Once a dictionary is created, we can look up values by their key using the `[]` operator:"
   ]
  },
  {
   "cell_type": "code",
   "execution_count": null,
   "metadata": {
    "scrolled": true
   },
   "outputs": [],
   "source": [
    "print(d1['elements'])\n",
    "print(d1['nodes'])"
   ]
  },
  {
   "cell_type": "markdown",
   "metadata": {},
   "source": [
    "A dictionary can also be produced by creating an empty dictionary and then adding key-value pairs. For example,"
   ]
  },
  {
   "cell_type": "code",
   "execution_count": null,
   "metadata": {
    "scrolled": true
   },
   "outputs": [],
   "source": [
    "d2 = {}  # First create an empty dictionary\n",
    "d2['elements'] = (3, 4)  # Add key-value pairs\n",
    "d2['nodes'] = (10, 11, 12, 13)\n",
    "print(d2)"
   ]
  },
  {
   "cell_type": "markdown",
   "metadata": {},
   "source": [
    "### Querying dictionaries\n",
    "Useful dictionary methods include `keys()`, `values()`, `items()`:"
   ]
  },
  {
   "cell_type": "code",
   "execution_count": null,
   "metadata": {
    "scrolled": true
   },
   "outputs": [],
   "source": [
    "d1.keys()"
   ]
  },
  {
   "cell_type": "code",
   "execution_count": null,
   "metadata": {
    "scrolled": true
   },
   "outputs": [],
   "source": [
    "d1.values()"
   ]
  },
  {
   "cell_type": "code",
   "execution_count": null,
   "metadata": {
    "scrolled": true
   },
   "outputs": [],
   "source": [
    "d1.items()"
   ]
  },
  {
   "cell_type": "markdown",
   "metadata": {},
   "source": [
    "The key should be any immutable Python object including numbers, strings and tuples. Dictionaries are very fast in retrieving values when the key is given."
   ]
  },
  {
   "cell_type": "markdown",
   "metadata": {},
   "source": [
    "## Assignment operator revisited\n",
    "\n",
    "Assignment operators (`=`) are used to (re)bind variables to values and to modify attributes or items of mutable objects.\n",
    "A single object can have several variable names bound to it:"
   ]
  },
  {
   "cell_type": "code",
   "execution_count": null,
   "metadata": {
    "scrolled": true
   },
   "outputs": [],
   "source": [
    "a = ['a', 'b', 'c', 'd']\n",
    "b = a\n",
    "print('a = ', a)\n",
    "print('b = ', b)"
   ]
  },
  {
   "cell_type": "code",
   "execution_count": null,
   "metadata": {
    "scrolled": true
   },
   "outputs": [],
   "source": [
    "b == a"
   ]
  },
  {
   "cell_type": "code",
   "execution_count": null,
   "metadata": {
    "scrolled": true
   },
   "outputs": [],
   "source": [
    "b is a"
   ]
  },
  {
   "cell_type": "markdown",
   "metadata": {},
   "source": [
    "### Shallow copies\n",
    "Two types of copy operations can be applied to container objects, a _shallow_ and a _deep_ copy. A shallow copy does not duplicate the container but instead *references* the original object.\n",
    "In this case both objects point to the same memory location. We can see this by applying the `id()` function."
   ]
  },
  {
   "cell_type": "code",
   "execution_count": null,
   "metadata": {
    "scrolled": true
   },
   "outputs": [],
   "source": [
    "b = [1, 2, 3, 4]\n",
    "a = b  # Create a shallow copy of b.\n",
    "print(a)\n",
    "print(b)\n",
    "print(id(a), id(b))  # Both objects point to the same memory location"
   ]
  },
  {
   "cell_type": "markdown",
   "metadata": {},
   "source": [
    "Consequently, if we then modify an entry in `a`, this will also change `b`:"
   ]
  },
  {
   "cell_type": "code",
   "execution_count": null,
   "metadata": {},
   "outputs": [],
   "source": [
    "a[1] = 7\n",
    "print(a)\n",
    "print(b)"
   ]
  },
  {
   "cell_type": "markdown",
   "metadata": {},
   "source": [
    "However, if we were to create a new container object and assign it to `a`, the variable `b` would still reference the original container."
   ]
  },
  {
   "cell_type": "code",
   "execution_count": null,
   "metadata": {
    "scrolled": true
   },
   "outputs": [],
   "source": [
    "a = ['a', 'b', 'c', 'd']  # Assign new list object to a\n",
    "print(a)\n",
    "print(b)\n",
    "print(id(a), id(b))  # Objects point to different memory locations"
   ]
  },
  {
   "cell_type": "markdown",
   "metadata": {},
   "source": [
    "For containers without nested entries, the container itself can be duplicated easily using the slice operator.\n",
    "\n",
    "In the example below, we create a list `a` and then create a new list `b` which contains a copy of all elements of the `a` list. Now, if we change an entry in `b`, the original list is unaffected."
   ]
  },
  {
   "cell_type": "code",
   "execution_count": null,
   "metadata": {
    "scrolled": true
   },
   "outputs": [],
   "source": [
    "a = ['a', 'b', 'c', 'd']\n",
    "b = a[:]\n",
    "b[1] = 'x'\n",
    "print('a = ', a)\n",
    "print('b = ', b)"
   ]
  },
  {
   "cell_type": "markdown",
   "metadata": {},
   "source": [
    "However, this strategy stops working once we have nested objects, such as lists within lists. In the slice operation above, the container is copied but the elements themselves still reference the same data. Assigning `b[1]` changed the second entry to reference a different piece of data (`'x'`).\n",
    "\n",
    "Now consider the example below in which we create a nested list:"
   ]
  },
  {
   "cell_type": "code",
   "execution_count": null,
   "metadata": {
    "scrolled": true
   },
   "outputs": [],
   "source": [
    "b = [1, 2, [3, 4]]\n",
    "a = b[:]          # Create a shallow copy of b.\n",
    "a.append(100)     # Append element to a.\n",
    "print('a = ', a)  # An element has been added to a\n",
    "print('b = ', b)  # b is unchanged.\n",
    "\n",
    "a[0] = -99        # Modify 1st element of a.\n",
    "a[2][1] = -100    # Modify an element of sublist in a.\n",
    "print('a = ', a)  # Both elements are changed in a\n",
    "print('b = ', b)  # Only the element in the sublist is changed in b."
   ]
  },
  {
   "cell_type": "markdown",
   "metadata": {},
   "source": [
    "If we assign values to the 1st or 2nd element of either list there is no problem. However, if we change one of the elements of the sublist, both `a` and `b` appear to be changed. This is because both `a` and `b` still reference a single copy of the sublist."
   ]
  },
  {
   "cell_type": "markdown",
   "metadata": {},
   "source": [
    "### Deep copies\n",
    "A _deep copy_ is where both the container and all the (nested) elements are duplicated.\n",
    "\n",
    "A deep copy creates a new container object and recursively copies all the objects it contains. A solution to the described problems above is provided by the `deepcopy()` function in the module \"copy\". This is used as shown in the following example:"
   ]
  },
  {
   "cell_type": "code",
   "execution_count": null,
   "metadata": {
    "scrolled": true
   },
   "outputs": [],
   "source": [
    "from copy import deepcopy\n",
    "a = ['a', 'b', ['ab', 'ba']]\n",
    "b = deepcopy(a)   # Create a deep copy of a.\n",
    "b[2][1] = \"d\"     # Assign a new value to an element in a sublist\n",
    "a[0] = \"c\"        # Assign a new value in the 1st position\n",
    "print('a = ', a)  # Only 0th position is changed\n",
    "print('b = ', b)  # Only the element in the sublist is changed"
   ]
  },
  {
   "cell_type": "markdown",
   "metadata": {},
   "source": [
    "***\n",
    "## Exercises\n",
    "Now try the following exercise."
   ]
  },
  {
   "cell_type": "markdown",
   "metadata": {},
   "source": [
    "### Exercise 1\n",
    "Write Python code, using the containers above, to create an address book which stores a person's name, address, age and telephone number. Populate it with a few fictitious entries. Make sure you can look up a record using the person's name."
   ]
  },
  {
   "cell_type": "code",
   "execution_count": null,
   "metadata": {},
   "outputs": [],
   "source": []
  },
  {
   "cell_type": "markdown",
   "metadata": {
    "solution2": "hidden",
    "solution2_first": true
   },
   "source": [
    " "
   ]
  },
  {
   "cell_type": "code",
   "execution_count": 1,
   "metadata": {
    "solution2": "hidden"
   },
   "outputs": [
    {
     "name": "stdout",
     "output_type": "stream",
     "text": [
      "Details for John Smith are:  {'address': '42 Exhibition Road, London', 'age': '24', 'telephone': '02012345678'}\n"
     ]
    }
   ],
   "source": [
    "addresses = {}\n",
    "addresses['John Smith'] = {'address'   : '42 Exhibition Road, London', \n",
    "                           'age'       : '24',\n",
    "                           'telephone' : '02012345678'}\n",
    "addresses['Jane Doe']   = {'address'   : '15 Somewhere Street, Nowhere',\n",
    "                           'age'       : '22',\n",
    "                           'telephone' : '01234567890'}\n",
    "print(\"Details for John Smith are: \", addresses['John Smith'])\n"
   ]
  },
  {
   "cell_type": "markdown",
   "metadata": {},
   "source": [
    "***"
   ]
  }
 ],
 "metadata": {
  "anaconda-cloud": {},
  "kernelspec": {
   "display_name": "Python 3",
   "language": "python",
   "name": "python3"
  },
  "language_info": {
   "codemirror_mode": {
    "name": "ipython",
    "version": 3
   },
   "file_extension": ".py",
   "mimetype": "text/x-python",
   "name": "python",
   "nbconvert_exporter": "python",
   "pygments_lexer": "ipython3",
   "version": "3.7.3rc1"
  },
  "name": "_merged",
  "nbTranslate": {
   "displayLangs": [
    "es",
    "en"
   ],
   "hotkey": "alt-t",
   "langInMainMenu": true,
   "sourceLang": "en",
   "targetLang": "es",
   "useGoogleTranslate": true
  },
  "toc": {
   "base_numbering": "3",
   "nav_menu": {
    "height": "339px",
    "width": "236px"
   },
   "number_sections": true,
   "sideBar": true,
   "skip_h1_title": false,
   "title_cell": "Table of Contents",
   "title_sidebar": "Contents",
   "toc_cell": true,
   "toc_position": {
    "height": "1022px",
    "left": "0px",
    "right": "1665px",
    "top": "107px",
    "width": "165px"
   },
   "toc_section_display": "block",
   "toc_window_display": true
  },
  "varInspector": {
   "cols": {
    "lenName": 16,
    "lenType": 16,
    "lenVar": 40
   },
   "kernels_config": {
    "python": {
     "delete_cmd_postfix": "",
     "delete_cmd_prefix": "del ",
     "library": "var_list.py",
     "varRefreshCmd": "print(var_dic_list())"
    },
    "r": {
     "delete_cmd_postfix": ") ",
     "delete_cmd_prefix": "rm(",
     "library": "var_list.r",
     "varRefreshCmd": "cat(var_dic_list()) "
    }
   },
   "types_to_exclude": [
    "module",
    "function",
    "builtin_function_or_method",
    "instance",
    "_Feature"
   ],
   "window_display": false
  }
 },
 "nbformat": 4,
 "nbformat_minor": 1
}
