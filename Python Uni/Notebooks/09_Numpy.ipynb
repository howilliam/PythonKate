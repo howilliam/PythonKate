{
 "cells": [
  {
   "cell_type": "markdown",
   "metadata": {},
   "source": [
    "# <font color=blue>Scientific Computing in Python with _NumPy_</font>"
   ]
  },
  {
   "cell_type": "markdown",
   "metadata": {
    "toc": true
   },
   "source": [
    "<h1>Table of Contents<span class=\"tocSkip\"></span></h1>\n",
    "<div class=\"toc\"><ul class=\"toc-item\"><li><span><a href=\"#Scientific-Computing-in-Python-with-NumPy\" data-toc-modified-id=\"Scientific-Computing-in-Python-with-NumPy-9\"><span class=\"toc-item-num\">9&nbsp;&nbsp;</span><font color=\"blue\">Scientific Computing in Python with <em>NumPy</em></font></a></span><ul class=\"toc-item\"><li><span><a href=\"#Learning-Objectives\" data-toc-modified-id=\"Learning-Objectives-9.1\"><span class=\"toc-item-num\">9.1&nbsp;&nbsp;</span>Learning Objectives</a></span></li><li><span><a href=\"#NumPy-documentation-and-help\" data-toc-modified-id=\"NumPy-documentation-and-help-9.2\"><span class=\"toc-item-num\">9.2&nbsp;&nbsp;</span>NumPy documentation and help</a></span></li><li><span><a href=\"#Creating-arrays\" data-toc-modified-id=\"Creating-arrays-9.3\"><span class=\"toc-item-num\">9.3&nbsp;&nbsp;</span>Creating arrays</a></span><ul class=\"toc-item\"><li><span><a href=\"#1-D-arrays:\" data-toc-modified-id=\"1-D-arrays:-9.3.1\"><span class=\"toc-item-num\">9.3.1&nbsp;&nbsp;</span>1-D arrays:</a></span><ul class=\"toc-item\"><li><span><a href=\"#arange\" data-toc-modified-id=\"arange-9.3.1.1\"><span class=\"toc-item-num\">9.3.1.1&nbsp;&nbsp;</span><code>arange</code></a></span></li><li><span><a href=\"#linspace-and-logspace\" data-toc-modified-id=\"linspace-and-logspace-9.3.1.2\"><span class=\"toc-item-num\">9.3.1.2&nbsp;&nbsp;</span><code>linspace</code> and <code>logspace</code></a></span></li><li><span><a href=\"#random-data\" data-toc-modified-id=\"random-data-9.3.1.3\"><span class=\"toc-item-num\">9.3.1.3&nbsp;&nbsp;</span>random data</a></span></li><li><span><a href=\"#zeros,-ones,-zeros_like-and-ones_like\" data-toc-modified-id=\"zeros,-ones,-zeros_like-and-ones_like-9.3.1.4\"><span class=\"toc-item-num\">9.3.1.4&nbsp;&nbsp;</span><code>zeros</code>, <code>ones</code>, <code>zeros_like</code> and <code>ones_like</code></a></span></li></ul></li><li><span><a href=\"#Comparing-NumPy-with-Python-lists\" data-toc-modified-id=\"Comparing-NumPy-with-Python-lists-9.3.2\"><span class=\"toc-item-num\">9.3.2&nbsp;&nbsp;</span>Comparing NumPy with Python lists</a></span></li><li><span><a href=\"#Multidimensional-arrays\" data-toc-modified-id=\"Multidimensional-arrays-9.3.3\"><span class=\"toc-item-num\">9.3.3&nbsp;&nbsp;</span>Multidimensional arrays</a></span><ul class=\"toc-item\"><li><span><a href=\"#mgrid\" data-toc-modified-id=\"mgrid-9.3.3.1\"><span class=\"toc-item-num\">9.3.3.1&nbsp;&nbsp;</span><code>mgrid</code></a></span></li><li><span><a href=\"#random-data\" data-toc-modified-id=\"random-data-9.3.3.2\"><span class=\"toc-item-num\">9.3.3.2&nbsp;&nbsp;</span>random data</a></span></li><li><span><a href=\"#zeros,-ones,-zeros_like-and-ones_like\" data-toc-modified-id=\"zeros,-ones,-zeros_like-and-ones_like-9.3.3.3\"><span class=\"toc-item-num\">9.3.3.3&nbsp;&nbsp;</span><code>zeros</code>, <code>ones</code>, <code>zeros_like</code> and <code>ones_like</code></a></span></li><li><span><a href=\"#Other-useful-functions\" data-toc-modified-id=\"Other-useful-functions-9.3.3.4\"><span class=\"toc-item-num\">9.3.3.4&nbsp;&nbsp;</span>Other useful functions</a></span></li></ul></li></ul></li><li><span><a href=\"#Copy-and-&quot;deep-copy&quot;\" data-toc-modified-id=\"Copy-and-&quot;deep-copy&quot;-9.4\"><span class=\"toc-item-num\">9.4&nbsp;&nbsp;</span>Copy and \"deep copy\"</a></span></li><li><span><a href=\"#Reshaping,-resizing-and-stacking-arrays\" data-toc-modified-id=\"Reshaping,-resizing-and-stacking-arrays-9.5\"><span class=\"toc-item-num\">9.5&nbsp;&nbsp;</span>Reshaping, resizing and stacking arrays</a></span><ul class=\"toc-item\"><li><span><a href=\"#reshape\" data-toc-modified-id=\"reshape-9.5.1\"><span class=\"toc-item-num\">9.5.1&nbsp;&nbsp;</span><code>reshape</code></a></span></li><li><span><a href=\"#flatten\" data-toc-modified-id=\"flatten-9.5.2\"><span class=\"toc-item-num\">9.5.2&nbsp;&nbsp;</span><code>flatten</code></a></span></li><li><span><a href=\"#repeat\" data-toc-modified-id=\"repeat-9.5.3\"><span class=\"toc-item-num\">9.5.3&nbsp;&nbsp;</span><code>repeat</code></a></span></li><li><span><a href=\"#tile\" data-toc-modified-id=\"tile-9.5.4\"><span class=\"toc-item-num\">9.5.4&nbsp;&nbsp;</span><code>tile</code></a></span></li><li><span><a href=\"#concatenate\" data-toc-modified-id=\"concatenate-9.5.5\"><span class=\"toc-item-num\">9.5.5&nbsp;&nbsp;</span><code>concatenate</code></a></span></li><li><span><a href=\"#hstack-and-vstack\" data-toc-modified-id=\"hstack-and-vstack-9.5.6\"><span class=\"toc-item-num\">9.5.6&nbsp;&nbsp;</span><code>hstack</code> and <code>vstack</code></a></span></li></ul></li><li><span><a href=\"#Data-types\" data-toc-modified-id=\"Data-types-9.6\"><span class=\"toc-item-num\">9.6&nbsp;&nbsp;</span>Data types</a></span><ul class=\"toc-item\"><li><span><a href=\"#complex\" data-toc-modified-id=\"complex-9.6.1\"><span class=\"toc-item-num\">9.6.1&nbsp;&nbsp;</span>complex</a></span></li><li><span><a href=\"#bool\" data-toc-modified-id=\"bool-9.6.2\"><span class=\"toc-item-num\">9.6.2&nbsp;&nbsp;</span>bool</a></span></li><li><span><a href=\"#strings\" data-toc-modified-id=\"strings-9.6.3\"><span class=\"toc-item-num\">9.6.3&nbsp;&nbsp;</span>strings</a></span></li><li><span><a href=\"#Type-casting\" data-toc-modified-id=\"Type-casting-9.6.4\"><span class=\"toc-item-num\">9.6.4&nbsp;&nbsp;</span>Type casting</a></span></li></ul></li><li><span><a href=\"#Exercises\" data-toc-modified-id=\"Exercises-9.7\"><span class=\"toc-item-num\">9.7&nbsp;&nbsp;</span>Exercises</a></span></li><li><span><a href=\"#More-properties-of-the-NumPy-arrays\" data-toc-modified-id=\"More-properties-of-the-NumPy-arrays-9.8\"><span class=\"toc-item-num\">9.8&nbsp;&nbsp;</span>More properties of the NumPy arrays</a></span></li><li><span><a href=\"#Indexing\" data-toc-modified-id=\"Indexing-9.9\"><span class=\"toc-item-num\">9.9&nbsp;&nbsp;</span>Indexing</a></span></li><li><span><a href=\"#Slicing\" data-toc-modified-id=\"Slicing-9.10\"><span class=\"toc-item-num\">9.10&nbsp;&nbsp;</span>Slicing</a></span></li><li><span><a href=\"#Fancy-indexing\" data-toc-modified-id=\"Fancy-indexing-9.11\"><span class=\"toc-item-num\">9.11&nbsp;&nbsp;</span>Fancy indexing</a></span><ul class=\"toc-item\"><li><span><a href=\"#Indexing-with-an-array-of-integers\" data-toc-modified-id=\"Indexing-with-an-array-of-integers-9.11.1\"><span class=\"toc-item-num\">9.11.1&nbsp;&nbsp;</span>Indexing with an array of integers</a></span></li><li><span><a href=\"#Using-boolean-masks:\" data-toc-modified-id=\"Using-boolean-masks:-9.11.2\"><span class=\"toc-item-num\">9.11.2&nbsp;&nbsp;</span>Using boolean masks:</a></span></li><li><span><a href=\"#Functions-for-extracting-data-from-arrays-and-creating-arrays\" data-toc-modified-id=\"Functions-for-extracting-data-from-arrays-and-creating-arrays-9.11.3\"><span class=\"toc-item-num\">9.11.3&nbsp;&nbsp;</span>Functions for extracting data from arrays and creating arrays</a></span><ul class=\"toc-item\"><li><span><a href=\"#where\" data-toc-modified-id=\"where-9.11.3.1\"><span class=\"toc-item-num\">9.11.3.1&nbsp;&nbsp;</span><code>where</code></a></span></li><li><span><a href=\"#diag\" data-toc-modified-id=\"diag-9.11.3.2\"><span class=\"toc-item-num\">9.11.3.2&nbsp;&nbsp;</span><code>diag</code></a></span></li><li><span><a href=\"#take\" data-toc-modified-id=\"take-9.11.3.3\"><span class=\"toc-item-num\">9.11.3.3&nbsp;&nbsp;</span><code>take</code></a></span></li><li><span><a href=\"#choose\" data-toc-modified-id=\"choose-9.11.3.4\"><span class=\"toc-item-num\">9.11.3.4&nbsp;&nbsp;</span><code>choose</code></a></span></li></ul></li></ul></li><li><span><a href=\"#File-I/O\" data-toc-modified-id=\"File-I/O-9.12\"><span class=\"toc-item-num\">9.12&nbsp;&nbsp;</span>File I/O</a></span><ul class=\"toc-item\"><li><span><a href=\"#Plain-text\" data-toc-modified-id=\"Plain-text-9.12.1\"><span class=\"toc-item-num\">9.12.1&nbsp;&nbsp;</span>Plain text</a></span></li><li><span><a href=\"#NumPy's-native-file-format\" data-toc-modified-id=\"NumPy's-native-file-format-9.12.2\"><span class=\"toc-item-num\">9.12.2&nbsp;&nbsp;</span>NumPy's native file format</a></span></li></ul></li><li><span><a href=\"#Linear-algebra\" data-toc-modified-id=\"Linear-algebra-9.13\"><span class=\"toc-item-num\">9.13&nbsp;&nbsp;</span>Linear algebra</a></span><ul class=\"toc-item\"><li><span><a href=\"#Elementwise-array-operations\" data-toc-modified-id=\"Elementwise-array-operations-9.13.1\"><span class=\"toc-item-num\">9.13.1&nbsp;&nbsp;</span>Elementwise array operations</a></span></li><li><span><a href=\"#Array-operations\" data-toc-modified-id=\"Array-operations-9.13.2\"><span class=\"toc-item-num\">9.13.2&nbsp;&nbsp;</span>Array operations</a></span><ul class=\"toc-item\"><li><span><a href=\"#Comparisons\" data-toc-modified-id=\"Comparisons-9.13.2.1\"><span class=\"toc-item-num\">9.13.2.1&nbsp;&nbsp;</span>Comparisons</a></span></li><li><span><a href=\"#Logical-operations\" data-toc-modified-id=\"Logical-operations-9.13.2.2\"><span class=\"toc-item-num\">9.13.2.2&nbsp;&nbsp;</span>Logical operations</a></span></li></ul></li><li><span><a href=\"#Shape-mismatches\" data-toc-modified-id=\"Shape-mismatches-9.13.3\"><span class=\"toc-item-num\">9.13.3&nbsp;&nbsp;</span>Shape mismatches</a></span></li><li><span><a href=\"#Adding-a-new-dimension:-newaxis\" data-toc-modified-id=\"Adding-a-new-dimension:-newaxis-9.13.4\"><span class=\"toc-item-num\">9.13.4&nbsp;&nbsp;</span>Adding a new dimension: newaxis</a></span></li><li><span><a href=\"#Broadcasting\" data-toc-modified-id=\"Broadcasting-9.13.5\"><span class=\"toc-item-num\">9.13.5&nbsp;&nbsp;</span>Broadcasting</a></span></li><li><span><a href=\"#Example:\" data-toc-modified-id=\"Example:-9.13.6\"><span class=\"toc-item-num\">9.13.6&nbsp;&nbsp;</span>Example:</a></span></li><li><span><a href=\"#Matrix-algebra\" data-toc-modified-id=\"Matrix-algebra-9.13.7\"><span class=\"toc-item-num\">9.13.7&nbsp;&nbsp;</span>Matrix algebra</a></span></li><li><span><a href=\"#Array/Matrix-transformations\" data-toc-modified-id=\"Array/Matrix-transformations-9.13.8\"><span class=\"toc-item-num\">9.13.8&nbsp;&nbsp;</span>Array/Matrix transformations</a></span></li><li><span><a href=\"#Matrix-computations\" data-toc-modified-id=\"Matrix-computations-9.13.9\"><span class=\"toc-item-num\">9.13.9&nbsp;&nbsp;</span>Matrix computations</a></span><ul class=\"toc-item\"><li><span><a href=\"#inverse\" data-toc-modified-id=\"inverse-9.13.9.1\"><span class=\"toc-item-num\">9.13.9.1&nbsp;&nbsp;</span>inverse</a></span></li><li><span><a href=\"#determinant\" data-toc-modified-id=\"determinant-9.13.9.2\"><span class=\"toc-item-num\">9.13.9.2&nbsp;&nbsp;</span>determinant</a></span></li></ul></li></ul></li><li><span><a href=\"#Data-processing\" data-toc-modified-id=\"Data-processing-9.14\"><span class=\"toc-item-num\">9.14&nbsp;&nbsp;</span>Data processing</a></span><ul class=\"toc-item\"><li><span><a href=\"#mean\" data-toc-modified-id=\"mean-9.14.1\"><span class=\"toc-item-num\">9.14.1&nbsp;&nbsp;</span>mean</a></span></li><li><span><a href=\"#standard-deviations-and-variance\" data-toc-modified-id=\"standard-deviations-and-variance-9.14.2\"><span class=\"toc-item-num\">9.14.2&nbsp;&nbsp;</span>standard deviations and variance</a></span></li><li><span><a href=\"#min-and-max\" data-toc-modified-id=\"min-and-max-9.14.3\"><span class=\"toc-item-num\">9.14.3&nbsp;&nbsp;</span>min and max</a></span></li><li><span><a href=\"#sum,-prod,-and-trace\" data-toc-modified-id=\"sum,-prod,-and-trace-9.14.4\"><span class=\"toc-item-num\">9.14.4&nbsp;&nbsp;</span>sum, prod, and trace</a></span></li></ul></li><li><span><a href=\"#Calculations-with-higher-dimensional-data\" data-toc-modified-id=\"Calculations-with-higher-dimensional-data-9.15\"><span class=\"toc-item-num\">9.15&nbsp;&nbsp;</span>Calculations with higher-dimensional data</a></span></li><li><span><a href=\"#Vectorizing-functions\" data-toc-modified-id=\"Vectorizing-functions-9.16\"><span class=\"toc-item-num\">9.16&nbsp;&nbsp;</span>Vectorizing functions</a></span></li><li><span><a href=\"#Using-arrays-in-conditions\" data-toc-modified-id=\"Using-arrays-in-conditions-9.17\"><span class=\"toc-item-num\">9.17&nbsp;&nbsp;</span>Using arrays in conditions</a></span></li><li><span><a href=\"#Summary\" data-toc-modified-id=\"Summary-9.18\"><span class=\"toc-item-num\">9.18&nbsp;&nbsp;</span>Summary</a></span></li><li><span><a href=\"#Further-reading\" data-toc-modified-id=\"Further-reading-9.19\"><span class=\"toc-item-num\">9.19&nbsp;&nbsp;</span>Further reading</a></span></li></ul></li></ul></div>"
   ]
  },
  {
   "cell_type": "markdown",
   "metadata": {},
   "source": [
    "***\n",
    "## Learning Objectives\n",
    "- Understand the capabilities and advantages provided by the _NumPy_ package.\n",
    "- Know how to create and use NumPy multi-dimensional arrays.\n",
    "- Know how to perform basic linear algebra operations using NumPy.\n",
    "***"
   ]
  },
  {
   "cell_type": "markdown",
   "metadata": {},
   "source": [
    "Python objects:\n",
    "* Provides high-level number objects: integer, floating point, etc\n",
    "* Provides containers: lists (costless insertion and append), dictionaries (fast lookup). They can contain any kind of object since they are dynamically typed. They do not support mathematical functions such as matrix multiplications, dot products, etc. Implementing such functions for Python lists would not be very efficient because of the dynamic typing.\n",
    "\n",
    "NumPy:\n",
    "* Extension package to Python for multi-dimensional arrays\n",
    "* Arrays are **statically typed** (and **homogeneous**). The type of the elements is determined when the array is created.\n",
    "* Arrays are memory efficient since they are closer to hardware.\n",
    "* Because of the static typing, fast implementation of mathematical functions such as multiplication and addition of NumPy arrays can be implemented in a compiled language (C and Fortran is used) so that performance is very good.\n",
    "* Designed for scientific computation\n",
    "\n",
    "\n",
    "To use NumPy you need to import the module, using for example:"
   ]
  },
  {
   "cell_type": "code",
   "execution_count": null,
   "metadata": {},
   "outputs": [],
   "source": [
    "import numpy as np"
   ]
  },
  {
   "cell_type": "markdown",
   "metadata": {},
   "source": [
    "## NumPy documentation and help\n",
    "\n",
    "Reference documentation: http://www.numpy.org/\n",
    "\n",
    "Interactive help:"
   ]
  },
  {
   "cell_type": "code",
   "execution_count": null,
   "metadata": {},
   "outputs": [],
   "source": [
    "np.array?"
   ]
  },
  {
   "cell_type": "code",
   "execution_count": null,
   "metadata": {},
   "outputs": [],
   "source": [
    "help(np.array)"
   ]
  },
  {
   "cell_type": "code",
   "execution_count": null,
   "metadata": {
    "scrolled": true
   },
   "outputs": [],
   "source": [
    "np.lookfor('create array')"
   ]
  },
  {
   "cell_type": "code",
   "execution_count": null,
   "metadata": {},
   "outputs": [],
   "source": [
    "np.con*?"
   ]
  },
  {
   "cell_type": "markdown",
   "metadata": {},
   "source": [
    "## Creating arrays\n",
    "\n",
    "There are a number of ways to initialize new NumPy arrays, for example:\n",
    "* a Python list or tuples\n",
    "* using functions that are dedicated to generating NumPy arrays, such as `arange`, `linspace`, etc.\n",
    "* reading data from files"
   ]
  },
  {
   "cell_type": "markdown",
   "metadata": {},
   "source": [
    "### 1-D arrays:"
   ]
  },
  {
   "cell_type": "code",
   "execution_count": null,
   "metadata": {},
   "outputs": [],
   "source": [
    "# a vector: the argument to the array function is a Python list\n",
    "a = np.array([0, 1, 2, 3])\n",
    "a"
   ]
  },
  {
   "cell_type": "code",
   "execution_count": null,
   "metadata": {},
   "outputs": [],
   "source": [
    "type(a), a.dtype"
   ]
  },
  {
   "cell_type": "code",
   "execution_count": null,
   "metadata": {},
   "outputs": [],
   "source": [
    "a.ndim, a.shape, len(a)"
   ]
  },
  {
   "cell_type": "code",
   "execution_count": null,
   "metadata": {},
   "outputs": [],
   "source": [
    "b = np.array((3, 4, 5))\n",
    "b"
   ]
  },
  {
   "cell_type": "markdown",
   "metadata": {},
   "source": [
    "Defining the data manually for large arrays is impractical using python lists. Instead we can use one of the many functions in NumPy that generate arrays of different forms:"
   ]
  },
  {
   "cell_type": "markdown",
   "metadata": {},
   "source": [
    "#### `arange`\n",
    "\n",
    "Generates values within the half-open interval [start, stop). For integers is similar to the Python built-in `range` function."
   ]
  },
  {
   "cell_type": "code",
   "execution_count": null,
   "metadata": {},
   "outputs": [],
   "source": [
    "x = np.arange(0, 10, 1)  # arguments: start, stop, step\n",
    "x"
   ]
  },
  {
   "cell_type": "code",
   "execution_count": null,
   "metadata": {},
   "outputs": [],
   "source": [
    "x = np.arange(-1, 1, 0.1)\n",
    "x"
   ]
  },
  {
   "cell_type": "markdown",
   "metadata": {},
   "source": [
    "#### `linspace` and `logspace`\n",
    "\n",
    "`linspace` Generates evenly spaced numbers with careful handling of endpoints.\n",
    "\n",
    "`logspace` Generates evenly spaced numbers on a log scale with careful handling of endpoints."
   ]
  },
  {
   "cell_type": "code",
   "execution_count": null,
   "metadata": {},
   "outputs": [],
   "source": [
    "# using linspace, both end points ARE included\n",
    "np.linspace(\n",
    "    0, 10, 10, endpoint=False)  # arguments: start, stop, number of samples"
   ]
  },
  {
   "cell_type": "code",
   "execution_count": null,
   "metadata": {},
   "outputs": [],
   "source": [
    "np.logspace(0.1, 1, 4, base=2)"
   ]
  },
  {
   "cell_type": "code",
   "execution_count": null,
   "metadata": {},
   "outputs": [],
   "source": [
    "import math\n",
    "math.pow(2, 0.1)"
   ]
  },
  {
   "cell_type": "markdown",
   "metadata": {},
   "source": [
    "#### random data\n",
    "\n",
    "We can use the random package to generate arrays of random numbers.\n",
    "\n",
    "`np.random.rand` will generate uniformly distributed numbers in [0,1]\n",
    "\n",
    "`np.random.randn` will generate standard normal distributed numbers"
   ]
  },
  {
   "cell_type": "code",
   "execution_count": null,
   "metadata": {},
   "outputs": [],
   "source": [
    "np.random.seed(1234)  # Setting the random seed\n",
    "np.random.rand(5)"
   ]
  },
  {
   "cell_type": "code",
   "execution_count": null,
   "metadata": {},
   "outputs": [],
   "source": [
    "np.random.randn(5)"
   ]
  },
  {
   "cell_type": "markdown",
   "metadata": {},
   "source": [
    "#### `zeros`, `ones`, `zeros_like` and `ones_like`"
   ]
  },
  {
   "cell_type": "code",
   "execution_count": null,
   "metadata": {},
   "outputs": [],
   "source": [
    "np.zeros((5, ))  # Argument should be a tuple"
   ]
  },
  {
   "cell_type": "code",
   "execution_count": null,
   "metadata": {},
   "outputs": [],
   "source": [
    "a = np.ones((4, ))\n",
    "a"
   ]
  },
  {
   "cell_type": "code",
   "execution_count": null,
   "metadata": {},
   "outputs": [],
   "source": [
    "b = np.zeros_like(a)\n",
    "b"
   ]
  },
  {
   "cell_type": "code",
   "execution_count": null,
   "metadata": {},
   "outputs": [],
   "source": [
    "c = np.ones_like(b)\n",
    "c"
   ]
  },
  {
   "cell_type": "markdown",
   "metadata": {},
   "source": [
    "### Comparing NumPy with Python lists"
   ]
  },
  {
   "cell_type": "code",
   "execution_count": null,
   "metadata": {},
   "outputs": [],
   "source": [
    "%timeit [i**2 for i in range(1000)]"
   ]
  },
  {
   "cell_type": "code",
   "execution_count": null,
   "metadata": {},
   "outputs": [],
   "source": [
    "%timeit np.array(range(1000))**2"
   ]
  },
  {
   "cell_type": "code",
   "execution_count": null,
   "metadata": {},
   "outputs": [],
   "source": [
    "%timeit np.arange(1000)**2"
   ]
  },
  {
   "cell_type": "markdown",
   "metadata": {},
   "source": [
    "### Multidimensional arrays"
   ]
  },
  {
   "cell_type": "code",
   "execution_count": null,
   "metadata": {},
   "outputs": [],
   "source": [
    "# A matrix: the argument to the array function is a nested Python list\n",
    "M = np.array([[1., 2.], [3., 4.]])\n",
    "M"
   ]
  },
  {
   "cell_type": "code",
   "execution_count": null,
   "metadata": {},
   "outputs": [],
   "source": [
    "type(M), M.dtype"
   ]
  },
  {
   "cell_type": "code",
   "execution_count": null,
   "metadata": {},
   "outputs": [],
   "source": [
    "M.ndim, np.shape(M), len(M), np.size(M)"
   ]
  },
  {
   "cell_type": "markdown",
   "metadata": {},
   "source": [
    "We get an error if we try to assign a value of the wrong type to an element in a NumPy array:"
   ]
  },
  {
   "cell_type": "code",
   "execution_count": null,
   "metadata": {},
   "outputs": [],
   "source": [
    "M[0, 0] = 'hello'"
   ]
  },
  {
   "cell_type": "markdown",
   "metadata": {},
   "source": [
    "#### `mgrid`\n",
    "\n",
    "Creates a rowwise and columnwise arrays (similar to `arange` in 2D)"
   ]
  },
  {
   "cell_type": "code",
   "execution_count": null,
   "metadata": {},
   "outputs": [],
   "source": [
    "np.mgrid[0:5, 0:5]"
   ]
  },
  {
   "cell_type": "code",
   "execution_count": null,
   "metadata": {},
   "outputs": [],
   "source": [
    "# if complex number is included it behaves similar to linspace\n",
    "np.mgrid[-1:1:5j, -1:1:5j]"
   ]
  },
  {
   "cell_type": "markdown",
   "metadata": {},
   "source": [
    "#### random data"
   ]
  },
  {
   "cell_type": "code",
   "execution_count": null,
   "metadata": {},
   "outputs": [],
   "source": [
    "np.random.rand(3, 3)"
   ]
  },
  {
   "cell_type": "markdown",
   "metadata": {},
   "source": [
    "#### `zeros`, `ones`, `zeros_like` and `ones_like`"
   ]
  },
  {
   "cell_type": "code",
   "execution_count": null,
   "metadata": {},
   "outputs": [],
   "source": [
    "a = np.ones((3, 3))  # reminder: (3, 3) is a tuple\n",
    "a"
   ]
  },
  {
   "cell_type": "code",
   "execution_count": null,
   "metadata": {},
   "outputs": [],
   "source": [
    "b = np.zeros((2, 2))\n",
    "b"
   ]
  },
  {
   "cell_type": "markdown",
   "metadata": {},
   "source": [
    "#### Other useful functions"
   ]
  },
  {
   "cell_type": "code",
   "execution_count": null,
   "metadata": {},
   "outputs": [],
   "source": [
    "c = np.eye(3, 4)  # create an identity matrix\n",
    "c"
   ]
  },
  {
   "cell_type": "code",
   "execution_count": null,
   "metadata": {},
   "outputs": [],
   "source": [
    "d = np.diag(np.arange(4))  # create a diagonal matrix\n",
    "d"
   ]
  },
  {
   "cell_type": "markdown",
   "metadata": {},
   "source": [
    "## Copy and \"deep copy\""
   ]
  },
  {
   "cell_type": "markdown",
   "metadata": {},
   "source": [
    "To achieve high performance, assignments in Python usually do not copy the underlaying objects. This is important for example when objects are passed between functions, to avoid an excessive amount of memory copying when it is not necessary (technical term: pass by reference). "
   ]
  },
  {
   "cell_type": "code",
   "execution_count": null,
   "metadata": {},
   "outputs": [],
   "source": [
    "M = np.array([[1, 2], [3, 4]])\n",
    "M"
   ]
  },
  {
   "cell_type": "code",
   "execution_count": null,
   "metadata": {},
   "outputs": [],
   "source": [
    "# now N is referring to the same array data as M\n",
    "N = M"
   ]
  },
  {
   "cell_type": "code",
   "execution_count": null,
   "metadata": {},
   "outputs": [],
   "source": [
    "# changing N affects M\n",
    "N[0, 0] = 10\n",
    "N"
   ]
  },
  {
   "cell_type": "code",
   "execution_count": null,
   "metadata": {},
   "outputs": [],
   "source": [
    "M"
   ]
  },
  {
   "cell_type": "markdown",
   "metadata": {},
   "source": [
    "If we want to avoid this behavior, so that when we get a new completely independent object `B` copied from `A`, then we need to do a so-called \"deep copy\" using the function `copy`:"
   ]
  },
  {
   "cell_type": "code",
   "execution_count": null,
   "metadata": {},
   "outputs": [],
   "source": [
    "N = np.copy(M)"
   ]
  },
  {
   "cell_type": "code",
   "execution_count": null,
   "metadata": {},
   "outputs": [],
   "source": [
    "# now, if we modify N, M is not affected\n",
    "N[0, 0] = -5\n",
    "N"
   ]
  },
  {
   "cell_type": "code",
   "execution_count": null,
   "metadata": {},
   "outputs": [],
   "source": [
    "M"
   ]
  },
  {
   "cell_type": "markdown",
   "metadata": {},
   "source": [
    "A slicing operator creates a *view* on the original array, which is just a way of accessing array data. Thus the original array is *not* copied in memory.\n",
    "\n",
    "When modifying the view, the original array is modified as well:"
   ]
  },
  {
   "cell_type": "code",
   "execution_count": null,
   "metadata": {},
   "outputs": [],
   "source": [
    "a = np.arange(10)\n",
    "a"
   ]
  },
  {
   "cell_type": "code",
   "execution_count": null,
   "metadata": {},
   "outputs": [],
   "source": [
    "b = a[::2]\n",
    "b"
   ]
  },
  {
   "cell_type": "code",
   "execution_count": null,
   "metadata": {},
   "outputs": [],
   "source": [
    "b[0] = 12\n",
    "b"
   ]
  },
  {
   "cell_type": "code",
   "execution_count": null,
   "metadata": {},
   "outputs": [],
   "source": [
    "a  # (!!)"
   ]
  },
  {
   "cell_type": "code",
   "execution_count": null,
   "metadata": {},
   "outputs": [],
   "source": [
    "a = np.arange(10)\n",
    "b = a[::2].copy()  # force a copy\n",
    "b[0] = 12  # change a value in b\n",
    "a"
   ]
  },
  {
   "cell_type": "markdown",
   "metadata": {},
   "source": [
    "## Reshaping, resizing and stacking arrays"
   ]
  },
  {
   "cell_type": "markdown",
   "metadata": {},
   "source": [
    "The shape of an NumPy array can be modified without copying the underlaying data, which makes it a fast operation even for large arrays."
   ]
  },
  {
   "cell_type": "code",
   "execution_count": null,
   "metadata": {},
   "outputs": [],
   "source": [
    "M = np.random.randint(1, 20, (5, 4))\n",
    "M"
   ]
  },
  {
   "cell_type": "code",
   "execution_count": null,
   "metadata": {},
   "outputs": [],
   "source": [
    "m, n = M.shape\n",
    "m, n"
   ]
  },
  {
   "cell_type": "markdown",
   "metadata": {},
   "source": [
    "### `reshape`"
   ]
  },
  {
   "cell_type": "code",
   "execution_count": null,
   "metadata": {},
   "outputs": [],
   "source": [
    "N = M.reshape((1, m * n))\n",
    "N"
   ]
  },
  {
   "cell_type": "code",
   "execution_count": null,
   "metadata": {},
   "outputs": [],
   "source": [
    "N.shape"
   ]
  },
  {
   "cell_type": "code",
   "execution_count": null,
   "metadata": {},
   "outputs": [],
   "source": [
    "N[0, 0:7] = 5  # modify the array\n",
    "N"
   ]
  },
  {
   "cell_type": "code",
   "execution_count": null,
   "metadata": {},
   "outputs": [],
   "source": [
    "M  # and the original variable is also changed.\n",
    "# B is only a different view of the same data"
   ]
  },
  {
   "cell_type": "markdown",
   "metadata": {},
   "source": [
    "### `flatten`"
   ]
  },
  {
   "cell_type": "markdown",
   "metadata": {},
   "source": [
    "We can also use the function `flatten` to make a higher-dimensional array into a vector. But this function create a copy of the data."
   ]
  },
  {
   "cell_type": "code",
   "execution_count": null,
   "metadata": {},
   "outputs": [],
   "source": [
    "N = M.flatten()\n",
    "N"
   ]
  },
  {
   "cell_type": "code",
   "execution_count": null,
   "metadata": {},
   "outputs": [],
   "source": [
    "N.shape"
   ]
  },
  {
   "cell_type": "code",
   "execution_count": null,
   "metadata": {},
   "outputs": [],
   "source": [
    "N[0:5] = 10\n",
    "N"
   ]
  },
  {
   "cell_type": "code",
   "execution_count": null,
   "metadata": {},
   "outputs": [],
   "source": [
    "M  # now M has not changed, because N's data is a copy of M's,\n",
    "# not refering to the same data"
   ]
  },
  {
   "cell_type": "markdown",
   "metadata": {},
   "source": [
    "Using function `repeat`, `tile`, `vstack`, `hstack`, and `concatenate` we can create larger vectors and matrices from smaller ones:"
   ]
  },
  {
   "cell_type": "markdown",
   "metadata": {},
   "source": [
    "### `repeat`"
   ]
  },
  {
   "cell_type": "code",
   "execution_count": null,
   "metadata": {},
   "outputs": [],
   "source": [
    "a = np.array([[1, 2], [3, 4]])\n",
    "a"
   ]
  },
  {
   "cell_type": "code",
   "execution_count": null,
   "metadata": {},
   "outputs": [],
   "source": [
    "# repeat each element 3 times\n",
    "np.repeat(a, 3)"
   ]
  },
  {
   "cell_type": "markdown",
   "metadata": {},
   "source": [
    "### `tile`"
   ]
  },
  {
   "cell_type": "code",
   "execution_count": null,
   "metadata": {},
   "outputs": [],
   "source": [
    "# tile the matrix 3 times\n",
    "np.tile(a, 3)"
   ]
  },
  {
   "cell_type": "markdown",
   "metadata": {},
   "source": [
    "### `concatenate`"
   ]
  },
  {
   "cell_type": "code",
   "execution_count": null,
   "metadata": {},
   "outputs": [],
   "source": [
    "b = np.array([[5, 6]])"
   ]
  },
  {
   "cell_type": "code",
   "execution_count": null,
   "metadata": {},
   "outputs": [],
   "source": [
    "np.concatenate((a, b), axis=0)"
   ]
  },
  {
   "cell_type": "code",
   "execution_count": null,
   "metadata": {},
   "outputs": [],
   "source": [
    "np.concatenate((a, b.T), axis=1)"
   ]
  },
  {
   "cell_type": "markdown",
   "metadata": {},
   "source": [
    "### `hstack` and `vstack`"
   ]
  },
  {
   "cell_type": "code",
   "execution_count": null,
   "metadata": {},
   "outputs": [],
   "source": [
    "np.vstack((a, b))"
   ]
  },
  {
   "cell_type": "code",
   "execution_count": null,
   "metadata": {},
   "outputs": [],
   "source": [
    "np.hstack((a, b.T))"
   ]
  },
  {
   "cell_type": "markdown",
   "metadata": {},
   "source": [
    "## Data types\n",
    "\n",
    "\n",
    "Different data-types allow for more compact storage in memory.\n",
    "\n",
    "Mostly we simply work with floating point numbers.\n",
    "\n",
    "By default NumPy auto-detects the data-type from the input. The default data type (without auto-detection) is floating point.\n",
    "\n",
    "You can explicitly specify which data-type you want.\n",
    "\n"
   ]
  },
  {
   "cell_type": "code",
   "execution_count": null,
   "metadata": {},
   "outputs": [],
   "source": [
    "a = np.ones((3, 3))\n",
    "a.dtype"
   ]
  },
  {
   "cell_type": "markdown",
   "metadata": {},
   "source": [
    "Sometimes array elements are displayed with a trailing dot\n",
    "(e.g. **2.** vs **2**). They have different data-types:"
   ]
  },
  {
   "cell_type": "code",
   "execution_count": null,
   "metadata": {},
   "outputs": [],
   "source": [
    "a = np.array([1, 2, 3])\n",
    "a.dtype"
   ]
  },
  {
   "cell_type": "code",
   "execution_count": null,
   "metadata": {},
   "outputs": [],
   "source": [
    "b = np.array([1., 2., 3.])\n",
    "b.dtype"
   ]
  },
  {
   "cell_type": "code",
   "execution_count": null,
   "metadata": {},
   "outputs": [],
   "source": [
    "c = np.array([1, 2, 3], dtype=np.float32)\n",
    "c.dtype"
   ]
  },
  {
   "cell_type": "markdown",
   "metadata": {},
   "source": [
    "There are also other types:"
   ]
  },
  {
   "cell_type": "markdown",
   "metadata": {},
   "source": [
    "### complex"
   ]
  },
  {
   "cell_type": "code",
   "execution_count": null,
   "metadata": {},
   "outputs": [],
   "source": [
    "d = np.array([1 + 2j, 3 + 4j, 5 + 6 * 1j])\n",
    "d.dtype"
   ]
  },
  {
   "cell_type": "markdown",
   "metadata": {},
   "source": [
    "### bool"
   ]
  },
  {
   "cell_type": "code",
   "execution_count": null,
   "metadata": {},
   "outputs": [],
   "source": [
    "e = np.array([True, False, False, True])\n",
    "e.dtype"
   ]
  },
  {
   "cell_type": "markdown",
   "metadata": {},
   "source": [
    "### strings"
   ]
  },
  {
   "cell_type": "code",
   "execution_count": null,
   "metadata": {},
   "outputs": [],
   "source": [
    "f = np.array([\n",
    "    'Bonjour',\n",
    "    'Hello',\n",
    "    'Hallo',\n",
    "])\n",
    "f.dtype  # <--- strings containing max. 7 letters"
   ]
  },
  {
   "cell_type": "markdown",
   "metadata": {},
   "source": [
    "### Type casting\n",
    "\n",
    "Since NumPy arrays are *statically typed*, the type of an array does not change once created. But we can explicitly cast an array of some type to another using the `astype` function. "
   ]
  },
  {
   "cell_type": "code",
   "execution_count": null,
   "metadata": {},
   "outputs": [],
   "source": [
    "a = np.arange(5)\n",
    "print(a)\n",
    "a.dtype"
   ]
  },
  {
   "cell_type": "code",
   "execution_count": null,
   "metadata": {},
   "outputs": [],
   "source": [
    "a2 = a.astype(np.float)\n",
    "print(a2)\n",
    "a2.dtype"
   ]
  },
  {
   "cell_type": "code",
   "execution_count": null,
   "metadata": {},
   "outputs": [],
   "source": [
    "a3 = a.astype(np.float32)\n",
    "print(a3)\n",
    "a3.dtype"
   ]
  },
  {
   "cell_type": "markdown",
   "metadata": {},
   "source": [
    "***\n",
    "## Exercises\n",
    "<p style=\"font-size:18px\"><b>Create the following arrays (with correct data types):</b></p>\n",
    "<pre>\n",
    " [[1, 1, 1, 1],\n",
    "  [1, 1, 1, 1],\n",
    "  [1, 1, 1, 2],\n",
    "  [1, 6, 1, 1]]\n",
    "</pre>\n",
    "\n",
    "<pre>\n",
    "[[0., 0., 0., 0., 0.],\n",
    " [2., 0., 0., 0., 0.],\n",
    " [0., 3., 0., 0., 0.],\n",
    " [0., 0., 4., 0., 0.],\n",
    " [0., 0., 0., 5., 0.],\n",
    " [0., 0., 0., 0., 6.]]\n",
    "</pre>\n",
    "\n",
    "<pre>\n",
    "[[4, 3, 4, 3, 4, 3],\n",
    " [2, 1, 2, 1, 2, 1],\n",
    " [4, 3, 4, 3, 4, 3],\n",
    " [2, 1, 2, 1, 2, 1]]\n",
    "</pre>\n",
    " \n",
    "Par on course: 3 statements for each\n",
    "\n",
    "Hint: Individual array elements can be accessed similarly to a list, e.g. **a[1]** or **a[1, 2]**.\n",
    "\n",
    "Hint: Examine the docstring for `diag`.\n",
    "\n",
    "Hint: Examine the docstring for `tile`."
   ]
  },
  {
   "cell_type": "code",
   "execution_count": null,
   "metadata": {},
   "outputs": [],
   "source": []
  },
  {
   "cell_type": "markdown",
   "metadata": {},
   "source": [
    "## More properties of the NumPy arrays"
   ]
  },
  {
   "cell_type": "code",
   "execution_count": null,
   "metadata": {},
   "outputs": [],
   "source": [
    "import numpy as np"
   ]
  },
  {
   "cell_type": "code",
   "execution_count": null,
   "metadata": {},
   "outputs": [],
   "source": [
    "a = np.arange(5)\n",
    "a.dtype"
   ]
  },
  {
   "cell_type": "code",
   "execution_count": null,
   "metadata": {},
   "outputs": [],
   "source": [
    "M = np.arange(25.).reshape(5, 5)\n",
    "M.dtype"
   ]
  },
  {
   "cell_type": "code",
   "execution_count": null,
   "metadata": {},
   "outputs": [],
   "source": [
    "a.shape, M.shape"
   ]
  },
  {
   "cell_type": "code",
   "execution_count": null,
   "metadata": {},
   "outputs": [],
   "source": [
    "a.itemsize, M.itemsize  # bytes per element"
   ]
  },
  {
   "cell_type": "code",
   "execution_count": null,
   "metadata": {},
   "outputs": [],
   "source": [
    "a.nbytes, M.nbytes  # number of bytes in the array"
   ]
  },
  {
   "cell_type": "code",
   "execution_count": null,
   "metadata": {
    "scrolled": true
   },
   "outputs": [],
   "source": [
    "a.ndim, M.ndim  # number of dimensions"
   ]
  },
  {
   "cell_type": "markdown",
   "metadata": {},
   "source": [
    "## Indexing\n",
    "\n",
    "Accessing and assigning to items as for other sequences (e.g. lists). Elements in an array are accessed using square brackets (`[]`) and indices."
   ]
  },
  {
   "cell_type": "code",
   "execution_count": null,
   "metadata": {},
   "outputs": [],
   "source": [
    "a = np.arange(10)\n",
    "a"
   ]
  },
  {
   "cell_type": "code",
   "execution_count": null,
   "metadata": {},
   "outputs": [],
   "source": [
    "a[0], a[2], a[-1]"
   ]
  },
  {
   "cell_type": "markdown",
   "metadata": {},
   "source": [
    "For multidimensional arrays, indices are tuples of integers:"
   ]
  },
  {
   "cell_type": "code",
   "execution_count": null,
   "metadata": {},
   "outputs": [],
   "source": [
    "M = np.diag(np.arange(3))\n",
    "M"
   ]
  },
  {
   "cell_type": "code",
   "execution_count": null,
   "metadata": {},
   "outputs": [],
   "source": [
    "M[1, 1]"
   ]
  },
  {
   "cell_type": "markdown",
   "metadata": {},
   "source": [
    "If we omit an index of a multidimensional array it returns the whole row (or, in general, a N-1 dimensional array)"
   ]
  },
  {
   "cell_type": "code",
   "execution_count": null,
   "metadata": {},
   "outputs": [],
   "source": [
    "M[1]"
   ]
  },
  {
   "cell_type": "markdown",
   "metadata": {},
   "source": [
    "For higher dimensional arrays:"
   ]
  },
  {
   "cell_type": "code",
   "execution_count": null,
   "metadata": {},
   "outputs": [],
   "source": [
    "MM = np.random.rand(2, 3, 4)"
   ]
  },
  {
   "cell_type": "code",
   "execution_count": null,
   "metadata": {},
   "outputs": [],
   "source": [
    "MM[0]"
   ]
  },
  {
   "cell_type": "markdown",
   "metadata": {},
   "source": [
    "We can use \"`:`\" to access columns or rows: "
   ]
  },
  {
   "cell_type": "code",
   "execution_count": null,
   "metadata": {},
   "outputs": [],
   "source": [
    "M[0, :]  # row 1"
   ]
  },
  {
   "cell_type": "code",
   "execution_count": null,
   "metadata": {},
   "outputs": [],
   "source": [
    "M[:, 2]  # column 1"
   ]
  },
  {
   "cell_type": "markdown",
   "metadata": {},
   "source": [
    "We can assign new values to elements in an array using indexing:"
   ]
  },
  {
   "cell_type": "code",
   "execution_count": null,
   "metadata": {},
   "outputs": [],
   "source": [
    "M[2, 1] = 10  # third row, second column\n",
    "M"
   ]
  },
  {
   "cell_type": "code",
   "execution_count": null,
   "metadata": {},
   "outputs": [],
   "source": [
    "# also works for rows and columns\n",
    "M[1, :] = 5\n",
    "M[:, 2] = -1"
   ]
  },
  {
   "cell_type": "code",
   "execution_count": null,
   "metadata": {},
   "outputs": [],
   "source": [
    "M"
   ]
  },
  {
   "cell_type": "markdown",
   "metadata": {},
   "source": [
    "## Slicing\n",
    "\n",
    "Arrays, like other Python sequences can also be sliced.\n",
    "\n",
    "Index slicing is the technical name for the syntax `a[start:stop:step]` to extract part of an array:"
   ]
  },
  {
   "cell_type": "code",
   "execution_count": null,
   "metadata": {},
   "outputs": [],
   "source": [
    "a = np.arange(10)\n",
    "a"
   ]
  },
  {
   "cell_type": "markdown",
   "metadata": {},
   "source": [
    "All three slice components are not required: by default, `start` is __0__, `end` is the last and `step` is **1**. We can omit any of the three parameters in `a[start:stop:step]`:"
   ]
  },
  {
   "cell_type": "code",
   "execution_count": null,
   "metadata": {},
   "outputs": [],
   "source": [
    "a[::]  # lower, upper, step all take the default values"
   ]
  },
  {
   "cell_type": "code",
   "execution_count": null,
   "metadata": {},
   "outputs": [],
   "source": [
    "a[1:3]"
   ]
  },
  {
   "cell_type": "code",
   "execution_count": null,
   "metadata": {},
   "outputs": [],
   "source": [
    "a[:3]  # first three elements"
   ]
  },
  {
   "cell_type": "code",
   "execution_count": null,
   "metadata": {},
   "outputs": [],
   "source": [
    "a[3:]  # elements from index 3"
   ]
  },
  {
   "cell_type": "code",
   "execution_count": null,
   "metadata": {},
   "outputs": [],
   "source": [
    "a[2:9:2]"
   ]
  },
  {
   "cell_type": "markdown",
   "metadata": {},
   "source": [
    "Note that the last index is not included!\n",
    "\n",
    "Negative indices counts from the end of the array (positive index from the begining):"
   ]
  },
  {
   "cell_type": "code",
   "execution_count": null,
   "metadata": {},
   "outputs": [],
   "source": [
    "a[-1]  # the last element in the array"
   ]
  },
  {
   "cell_type": "code",
   "execution_count": null,
   "metadata": {},
   "outputs": [],
   "source": [
    "a[-3:]  # the last three elements"
   ]
  },
  {
   "cell_type": "markdown",
   "metadata": {},
   "source": [
    "Array slices are *mutable*: if they are assigned a new value the original array from which the slice was extracted is modified:"
   ]
  },
  {
   "cell_type": "code",
   "execution_count": null,
   "metadata": {},
   "outputs": [],
   "source": [
    "a[1:3] = [-2, -3]\n",
    "a"
   ]
  },
  {
   "cell_type": "markdown",
   "metadata": {},
   "source": [
    "Index slicing works exactly the same way for multidimensional arrays:"
   ]
  },
  {
   "cell_type": "code",
   "execution_count": null,
   "metadata": {},
   "outputs": [],
   "source": [
    "M = np.random.randint(1, 100, size=(4, 4))\n",
    "M"
   ]
  },
  {
   "cell_type": "code",
   "execution_count": null,
   "metadata": {},
   "outputs": [],
   "source": [
    "# a block from the original array\n",
    "M[1:4, 1:4]"
   ]
  },
  {
   "cell_type": "code",
   "execution_count": null,
   "metadata": {},
   "outputs": [],
   "source": [
    "# strides\n",
    "M[::2, ::2]"
   ]
  },
  {
   "cell_type": "markdown",
   "metadata": {},
   "source": [
    "## Fancy indexing\n",
    "\n",
    "Fancy indexing is the name for when an array or list is used in-place of an index: \n",
    "\n",
    "NumPy arrays can be indexed with slices, but also with boolean or integer arrays (*masks*).\n",
    "This creates *copies not views*."
   ]
  },
  {
   "cell_type": "markdown",
   "metadata": {},
   "source": [
    "### Indexing with an array of integers"
   ]
  },
  {
   "cell_type": "code",
   "execution_count": null,
   "metadata": {},
   "outputs": [],
   "source": [
    "a = 2 * np.arange(10)  # create an array\n",
    "a"
   ]
  },
  {
   "cell_type": "markdown",
   "metadata": {},
   "source": [
    "Index using an array of integers, where indices are repeated several times:"
   ]
  },
  {
   "cell_type": "code",
   "execution_count": null,
   "metadata": {},
   "outputs": [],
   "source": [
    "a[[2, 3, 2, 4, 2]]  # note: [2, 3, 2, 4, 2] is a Python list"
   ]
  },
  {
   "cell_type": "markdown",
   "metadata": {},
   "source": [
    "New values can be assigned with this kind of indexing:"
   ]
  },
  {
   "cell_type": "code",
   "execution_count": null,
   "metadata": {},
   "outputs": [],
   "source": [
    "a[[9, 7]] = -10\n",
    "a"
   ]
  },
  {
   "cell_type": "markdown",
   "metadata": {},
   "source": [
    "When a new array is created by indexing with an array of integers, the new array has the same shape as the array of integers:"
   ]
  },
  {
   "cell_type": "code",
   "execution_count": null,
   "metadata": {},
   "outputs": [],
   "source": [
    "idx = np.array([[3, 4], [9, 7]])\n",
    "a[idx]"
   ]
  },
  {
   "cell_type": "markdown",
   "metadata": {},
   "source": [
    "We now work with multidimensional arrays"
   ]
  },
  {
   "cell_type": "code",
   "execution_count": null,
   "metadata": {},
   "outputs": [],
   "source": [
    "M"
   ]
  },
  {
   "cell_type": "code",
   "execution_count": null,
   "metadata": {},
   "outputs": [],
   "source": [
    "row_indices = [1, 2, 3]\n",
    "M[row_indices]"
   ]
  },
  {
   "cell_type": "code",
   "execution_count": null,
   "metadata": {},
   "outputs": [],
   "source": [
    "col_indices = [0, 1, -1]  # remember, index -1 means the last element\n",
    "M[:, col_indices]"
   ]
  },
  {
   "cell_type": "code",
   "execution_count": null,
   "metadata": {},
   "outputs": [],
   "source": [
    "M[row_indices, col_indices]"
   ]
  },
  {
   "cell_type": "markdown",
   "metadata": {},
   "source": [
    "### Using boolean masks:\n",
    "\n",
    "We can also use index masks: If the index mask is an NumPy array of data type `bool`, then an element is selected (True) or not (False) depending on the value of the index mask at the position of each element: "
   ]
  },
  {
   "cell_type": "code",
   "execution_count": null,
   "metadata": {},
   "outputs": [],
   "source": [
    "a = np.arange(5)\n",
    "a"
   ]
  },
  {
   "cell_type": "code",
   "execution_count": null,
   "metadata": {},
   "outputs": [],
   "source": [
    "mask = np.array([True, False, True, False, False])\n",
    "a[mask]"
   ]
  },
  {
   "cell_type": "code",
   "execution_count": null,
   "metadata": {},
   "outputs": [],
   "source": [
    "# same thing\n",
    "mask = np.array([1, 0, 1, 0, 0], dtype=bool)\n",
    "a[mask]"
   ]
  },
  {
   "cell_type": "markdown",
   "metadata": {},
   "source": [
    "For example: We want to generate some random integers in the interval [0,21) and find the multiples of 3 in that array"
   ]
  },
  {
   "cell_type": "code",
   "execution_count": null,
   "metadata": {},
   "outputs": [],
   "source": [
    "a = np.random.randint(0, 21, 15)\n",
    "a"
   ]
  },
  {
   "cell_type": "code",
   "execution_count": null,
   "metadata": {},
   "outputs": [],
   "source": [
    "(a % 3 == 0)"
   ]
  },
  {
   "cell_type": "code",
   "execution_count": null,
   "metadata": {},
   "outputs": [],
   "source": [
    "mask = (a % 3 == 0)\n",
    "extract_from_a = a[mask]  # or,  a[a%3==0]\n",
    "extract_from_a  # extract a sub-array with the mask"
   ]
  },
  {
   "cell_type": "markdown",
   "metadata": {},
   "source": [
    "Indexing with a mask is useful to assign a new value to a sub-array:"
   ]
  },
  {
   "cell_type": "code",
   "execution_count": null,
   "metadata": {},
   "outputs": [],
   "source": [
    "a[a % 3 == 0] = -1\n",
    "a"
   ]
  },
  {
   "cell_type": "markdown",
   "metadata": {},
   "source": [
    "This feature is also very useful to conditionally select elements from an array, using for example comparison operators:"
   ]
  },
  {
   "cell_type": "code",
   "execution_count": null,
   "metadata": {},
   "outputs": [],
   "source": [
    "x = np.arange(0, 10, 0.5)\n",
    "x"
   ]
  },
  {
   "cell_type": "code",
   "execution_count": null,
   "metadata": {},
   "outputs": [],
   "source": [
    "mask = (5 < x) * (x < 7.5)\n",
    "mask"
   ]
  },
  {
   "cell_type": "code",
   "execution_count": null,
   "metadata": {},
   "outputs": [],
   "source": [
    "x[mask]"
   ]
  },
  {
   "cell_type": "markdown",
   "metadata": {},
   "source": [
    "### Functions for extracting data from arrays and creating arrays"
   ]
  },
  {
   "cell_type": "markdown",
   "metadata": {},
   "source": [
    "#### `where`\n",
    "\n",
    "The index mask can be converted to position index using the `where` function"
   ]
  },
  {
   "cell_type": "code",
   "execution_count": null,
   "metadata": {},
   "outputs": [],
   "source": [
    "indices = np.where(mask)\n",
    "indices"
   ]
  },
  {
   "cell_type": "code",
   "execution_count": null,
   "metadata": {},
   "outputs": [],
   "source": [
    "x[indices]  # this indexing is equivalent to the fancy indexing x[mask]"
   ]
  },
  {
   "cell_type": "markdown",
   "metadata": {},
   "source": [
    "#### `diag`\n",
    "\n",
    "With the diag function we can also extract the diagonal and subdiagonals of an array:"
   ]
  },
  {
   "cell_type": "code",
   "execution_count": null,
   "metadata": {},
   "outputs": [],
   "source": [
    "M"
   ]
  },
  {
   "cell_type": "code",
   "execution_count": null,
   "metadata": {},
   "outputs": [],
   "source": [
    "np.diag(M)"
   ]
  },
  {
   "cell_type": "code",
   "execution_count": null,
   "metadata": {},
   "outputs": [],
   "source": [
    "np.diag(M, -1)"
   ]
  },
  {
   "cell_type": "markdown",
   "metadata": {},
   "source": [
    "#### `take`\n",
    "\n",
    "The `take` function is similar to fancy indexing described above:"
   ]
  },
  {
   "cell_type": "code",
   "execution_count": null,
   "metadata": {},
   "outputs": [],
   "source": [
    "v2 = np.arange(-3, 3)\n",
    "v2"
   ]
  },
  {
   "cell_type": "code",
   "execution_count": null,
   "metadata": {},
   "outputs": [],
   "source": [
    "row_indices = [1, 3, 5]\n",
    "v2[row_indices]  # fancy indexing"
   ]
  },
  {
   "cell_type": "code",
   "execution_count": null,
   "metadata": {},
   "outputs": [],
   "source": [
    "v2.take(row_indices)"
   ]
  },
  {
   "cell_type": "markdown",
   "metadata": {},
   "source": [
    "But `take` also works on lists and other objects:"
   ]
  },
  {
   "cell_type": "code",
   "execution_count": null,
   "metadata": {},
   "outputs": [],
   "source": [
    "np.take([-3, -2, -1, 0, 1, 2], row_indices)"
   ]
  },
  {
   "cell_type": "markdown",
   "metadata": {},
   "source": [
    "#### `choose`\n",
    "\n",
    "Constructs an array by picking elements from several arrays:"
   ]
  },
  {
   "cell_type": "code",
   "execution_count": null,
   "metadata": {},
   "outputs": [],
   "source": [
    "which = [1, 0, 1, 0]\n",
    "choices = [[-4, -3, -2, -1], [5, 6, 7, 8]]\n",
    "\n",
    "np.choose(which, choices)"
   ]
  },
  {
   "cell_type": "markdown",
   "metadata": {},
   "source": [
    "## File I/O"
   ]
  },
  {
   "cell_type": "markdown",
   "metadata": {},
   "source": [
    "### Plain text\n",
    "\n",
    "A very common file format for data files is comma-separated values (CSV), or related formats such as TSV (tab-separated values) and others. To read data from such files into NumPy arrays we can use the `numpy.genfromtxt` function. For example, "
   ]
  },
  {
   "cell_type": "code",
   "execution_count": null,
   "metadata": {},
   "outputs": [],
   "source": [
    "# use !head for linux, !more for windows\n",
    "# http://www.metoffice.gov.uk/pub/data/weather/uk/climate/stationdata/...\n",
    "# .../heathrowdata.txt\n",
    "!head Heathrow.csv"
   ]
  },
  {
   "cell_type": "code",
   "execution_count": null,
   "metadata": {},
   "outputs": [],
   "source": [
    "data = np.genfromtxt('./Heathrow.csv', \n",
    "                     skip_header=1,\n",
    "                     delimiter=',', \n",
    "                     dtype=[('year','i8'), ('month','i4'), ('tmax','f8'), \n",
    "                            ('tmin','f8'), ('airfrost','i4'), ('rain','f8'), \n",
    "                            ('sun','f8')])"
   ]
  },
  {
   "cell_type": "code",
   "execution_count": null,
   "metadata": {},
   "outputs": [],
   "source": [
    "data.nbytes # Total size of array in memory in bytes"
   ]
  },
  {
   "cell_type": "code",
   "execution_count": null,
   "metadata": {},
   "outputs": [],
   "source": [
    "data.shape"
   ]
  },
  {
   "cell_type": "code",
   "execution_count": null,
   "metadata": {},
   "outputs": [],
   "source": [
    "data[-1]"
   ]
  },
  {
   "cell_type": "code",
   "execution_count": null,
   "metadata": {},
   "outputs": [],
   "source": [
    "data['year']"
   ]
  },
  {
   "cell_type": "markdown",
   "metadata": {},
   "source": [
    "Using `numpy.savetxt` we can store a NumPy array to a file in CSV format:"
   ]
  },
  {
   "cell_type": "code",
   "execution_count": null,
   "metadata": {},
   "outputs": [],
   "source": [
    "M = np.random.rand(4, 4)\n",
    "M"
   ]
  },
  {
   "cell_type": "code",
   "execution_count": null,
   "metadata": {},
   "outputs": [],
   "source": [
    "np.savetxt(\"random-matrix.csv\", M, delimiter=', ')"
   ]
  },
  {
   "cell_type": "code",
   "execution_count": null,
   "metadata": {},
   "outputs": [],
   "source": [
    "# use !type for windows, !cat for linux\n",
    "!cat random-matrix.csv"
   ]
  },
  {
   "cell_type": "code",
   "execution_count": null,
   "metadata": {},
   "outputs": [],
   "source": [
    "# fmt specifies the format\n",
    "np.savetxt(\"random-matrix.csv\", M, fmt='%.5f', delimiter=', ') \n",
    "!cat random-matrix.csv"
   ]
  },
  {
   "cell_type": "markdown",
   "metadata": {},
   "source": [
    "### NumPy's native file format"
   ]
  },
  {
   "cell_type": "markdown",
   "metadata": {},
   "source": [
    "Useful when storing and reading back NumPy array data. Use the functions `numpy.save` and `numpy.load`:"
   ]
  },
  {
   "cell_type": "code",
   "execution_count": null,
   "metadata": {},
   "outputs": [],
   "source": [
    "np.save(\"random-matrix.npy\", M)\n",
    "!file random-matrix.npy"
   ]
  },
  {
   "cell_type": "code",
   "execution_count": null,
   "metadata": {},
   "outputs": [],
   "source": [
    "M = np.load(\"random-matrix.npy\")\n",
    "M"
   ]
  },
  {
   "cell_type": "markdown",
   "metadata": {},
   "source": [
    "## Linear algebra\n",
    "\n",
    "Vectorizing code is the key to writing efficient numerical calculation with Python/NumPy. That means that as much as possible of a program should be formulated in terms of matrix and vector operations, like matrix-matrix multiplication."
   ]
  },
  {
   "cell_type": "markdown",
   "metadata": {},
   "source": [
    "### Elementwise array operations\n",
    "\n",
    "We can use the usual arithmetic operators to multiply, add, subtract, and divide arrays with scalar numbers.\n",
    "\n",
    "**All arithmetic operation are elementwise:**"
   ]
  },
  {
   "cell_type": "code",
   "execution_count": null,
   "metadata": {},
   "outputs": [],
   "source": [
    "a = np.arange(4)\n",
    "a + 1"
   ]
  },
  {
   "cell_type": "code",
   "execution_count": null,
   "metadata": {},
   "outputs": [],
   "source": [
    "5*a"
   ]
  },
  {
   "cell_type": "code",
   "execution_count": null,
   "metadata": {},
   "outputs": [],
   "source": [
    "2**a"
   ]
  },
  {
   "cell_type": "code",
   "execution_count": null,
   "metadata": {},
   "outputs": [],
   "source": [
    "j = np.arange(5)\n",
    "2**(j + 1) - j"
   ]
  },
  {
   "cell_type": "markdown",
   "metadata": {},
   "source": [
    "For multidimensional arrays:"
   ]
  },
  {
   "cell_type": "code",
   "execution_count": null,
   "metadata": {},
   "outputs": [],
   "source": [
    "M = np.random.randint(1, 10, (3, 3))\n",
    "M"
   ]
  },
  {
   "cell_type": "code",
   "execution_count": null,
   "metadata": {},
   "outputs": [],
   "source": [
    "M + 2"
   ]
  },
  {
   "cell_type": "code",
   "execution_count": null,
   "metadata": {},
   "outputs": [],
   "source": [
    "M * 2"
   ]
  },
  {
   "cell_type": "markdown",
   "metadata": {},
   "source": [
    "### Array operations"
   ]
  },
  {
   "cell_type": "code",
   "execution_count": null,
   "metadata": {},
   "outputs": [],
   "source": [
    "a = np.arange(4)\n",
    "b = np.ones(4) + 3\n",
    "print('a = ', a)\n",
    "print('b = ', b)\n",
    "a - b"
   ]
  },
  {
   "cell_type": "code",
   "execution_count": null,
   "metadata": {},
   "outputs": [],
   "source": [
    "a * b"
   ]
  },
  {
   "cell_type": "markdown",
   "metadata": {},
   "source": [
    "#### Comparisons"
   ]
  },
  {
   "cell_type": "code",
   "execution_count": null,
   "metadata": {},
   "outputs": [],
   "source": [
    "a = np.array([1, 2, 3, 4])\n",
    "b = np.array([4, 2, 2, 4])\n",
    "a == b"
   ]
  },
  {
   "cell_type": "code",
   "execution_count": null,
   "metadata": {},
   "outputs": [],
   "source": [
    "a > b"
   ]
  },
  {
   "cell_type": "markdown",
   "metadata": {},
   "source": [
    "#### Logical operations"
   ]
  },
  {
   "cell_type": "code",
   "execution_count": null,
   "metadata": {},
   "outputs": [],
   "source": [
    "a = np.array([1, 1, 0, 0], dtype=bool)\n",
    "b = np.array([1, 0, 1, 0], dtype=bool)\n",
    "np.logical_or(a, b)"
   ]
  },
  {
   "cell_type": "code",
   "execution_count": null,
   "metadata": {},
   "outputs": [],
   "source": [
    "np.logical_and(a, b)"
   ]
  },
  {
   "cell_type": "markdown",
   "metadata": {},
   "source": [
    "### Shape mismatches"
   ]
  },
  {
   "cell_type": "code",
   "execution_count": null,
   "metadata": {},
   "outputs": [],
   "source": [
    "a = np.arange(4)\n",
    "a + np.array([1, 2])"
   ]
  },
  {
   "cell_type": "markdown",
   "metadata": {},
   "source": [
    "### Adding a new dimension: newaxis\n",
    "\n",
    "With `newaxis`, we can insert new dimensions in an array, for example converting a vector to a column or row matrix:"
   ]
  },
  {
   "cell_type": "code",
   "execution_count": null,
   "metadata": {},
   "outputs": [],
   "source": [
    "a = np.array([1, 2, 3])"
   ]
  },
  {
   "cell_type": "code",
   "execution_count": null,
   "metadata": {},
   "outputs": [],
   "source": [
    "a.shape"
   ]
  },
  {
   "cell_type": "code",
   "execution_count": null,
   "metadata": {},
   "outputs": [],
   "source": [
    "# make a column matrix of the vector v\n",
    "a[:, np.newaxis]"
   ]
  },
  {
   "cell_type": "code",
   "execution_count": null,
   "metadata": {},
   "outputs": [],
   "source": [
    "# column matrix\n",
    "a[:, np.newaxis].shape"
   ]
  },
  {
   "cell_type": "code",
   "execution_count": null,
   "metadata": {},
   "outputs": [],
   "source": [
    "# row matrix\n",
    "a[np.newaxis, :].shape"
   ]
  },
  {
   "cell_type": "markdown",
   "metadata": {},
   "source": [
    "### Broadcasting\n",
    "\n",
    "As mentioned before, basic operations on NumPy arrays (addition, etc.) are elementwise. This works on arrays of the same size.\n",
    "\n",
    "Nevertheless, it is also possible to do operations on arrays of different sizes if NumPy can transform these arrays so that they all have the same size: this conversion is called broadcasting. "
   ]
  },
  {
   "cell_type": "code",
   "execution_count": null,
   "metadata": {},
   "outputs": [],
   "source": [
    "a = np.tile(np.arange(0, 40, 10), (3, 1)).T\n",
    "a"
   ]
  },
  {
   "cell_type": "code",
   "execution_count": null,
   "metadata": {},
   "outputs": [],
   "source": [
    "b = np.array([0, 1, 2])\n",
    "a + b"
   ]
  },
  {
   "cell_type": "markdown",
   "metadata": {},
   "source": [
    "A useful trick:"
   ]
  },
  {
   "cell_type": "code",
   "execution_count": null,
   "metadata": {},
   "outputs": [],
   "source": [
    "a = np.arange(0, 40, 10)\n",
    "a = a[:, np.newaxis]  # adds a new axis -> 2D array\n",
    "a"
   ]
  },
  {
   "cell_type": "code",
   "execution_count": null,
   "metadata": {},
   "outputs": [],
   "source": [
    "a + b"
   ]
  },
  {
   "cell_type": "markdown",
   "metadata": {},
   "source": [
    "Find more information at http://scipy.github.io/old-wiki/pages/EricsBroadcastingDoc"
   ]
  },
  {
   "cell_type": "markdown",
   "metadata": {},
   "source": [
    "### Example:\n",
    "\n",
    "Let's construct a multiplication table:"
   ]
  },
  {
   "cell_type": "code",
   "execution_count": null,
   "metadata": {},
   "outputs": [],
   "source": [
    "nums = np.arange(1,11)\n",
    "distance_array = nums * nums[:, np.newaxis]\n",
    "distance_array"
   ]
  },
  {
   "cell_type": "markdown",
   "metadata": {},
   "source": [
    "### Matrix algebra\n",
    "\n",
    "**Warning**\n",
    "Array multiplication is not matrix multiplication:\n",
    "\n",
    "If we multiply arrays with compatible shapes, we get an element-wise multiplication:"
   ]
  },
  {
   "cell_type": "code",
   "execution_count": null,
   "metadata": {},
   "outputs": [],
   "source": [
    "M * M # NOT matrix multiplication!"
   ]
  },
  {
   "cell_type": "code",
   "execution_count": null,
   "metadata": {},
   "outputs": [],
   "source": [
    "M.dot(M) # this IS matrix multiplication"
   ]
  },
  {
   "cell_type": "code",
   "execution_count": null,
   "metadata": {},
   "outputs": [],
   "source": [
    "M @ M"
   ]
  },
  {
   "cell_type": "markdown",
   "metadata": {},
   "source": [
    "There are two ways for performing matrix multiplication. We can either use the `dot` function, which applies a matrix-matrix, matrix-vector, or inner vector multiplication to its two arguments as we saw above. "
   ]
  },
  {
   "cell_type": "code",
   "execution_count": null,
   "metadata": {},
   "outputs": [],
   "source": [
    "a = np.random.randn(3)\n",
    "M = np.arange(1,10).reshape(3,3)"
   ]
  },
  {
   "cell_type": "code",
   "execution_count": null,
   "metadata": {},
   "outputs": [],
   "source": [
    "np.dot(M, a) # Matrix vector multiplication"
   ]
  },
  {
   "cell_type": "code",
   "execution_count": null,
   "metadata": {},
   "outputs": [],
   "source": [
    "np.dot(a,a) # inner product"
   ]
  },
  {
   "cell_type": "markdown",
   "metadata": {},
   "source": [
    "Alternatively, we can cast the array objects to the type `matrix`. This changes the behavior of the standard arithmetic operators `+`, `-`, `*` to use matrix algebra."
   ]
  },
  {
   "cell_type": "code",
   "execution_count": null,
   "metadata": {},
   "outputs": [],
   "source": [
    "M = np.matrix(M)\n",
    "a = np.matrix(a).T # make it a column vector"
   ]
  },
  {
   "cell_type": "code",
   "execution_count": null,
   "metadata": {},
   "outputs": [],
   "source": [
    "M"
   ]
  },
  {
   "cell_type": "code",
   "execution_count": null,
   "metadata": {},
   "outputs": [],
   "source": [
    "a"
   ]
  },
  {
   "cell_type": "code",
   "execution_count": null,
   "metadata": {},
   "outputs": [],
   "source": [
    "M * M # matrix multiplication"
   ]
  },
  {
   "cell_type": "code",
   "execution_count": null,
   "metadata": {},
   "outputs": [],
   "source": [
    "M * a # Matrix vextor multiplication"
   ]
  },
  {
   "cell_type": "code",
   "execution_count": null,
   "metadata": {},
   "outputs": [],
   "source": [
    "# inner product\n",
    "a.T * a"
   ]
  },
  {
   "cell_type": "code",
   "execution_count": null,
   "metadata": {},
   "outputs": [],
   "source": [
    "# with matrix objects, standard matrix algebra applies\n",
    "a + M*a"
   ]
  },
  {
   "cell_type": "markdown",
   "metadata": {},
   "source": [
    "If we try to add, subtract or multiply objects with incomplatible shapes we get an error:"
   ]
  },
  {
   "cell_type": "code",
   "execution_count": null,
   "metadata": {},
   "outputs": [],
   "source": [
    "v = np.matrix([1,2,3,4,5,6]).T"
   ]
  },
  {
   "cell_type": "code",
   "execution_count": null,
   "metadata": {},
   "outputs": [],
   "source": [
    "np.shape(M), np.shape(v) # Same as M.shape, v.shape"
   ]
  },
  {
   "cell_type": "code",
   "execution_count": null,
   "metadata": {},
   "outputs": [],
   "source": [
    "M * v"
   ]
  },
  {
   "cell_type": "markdown",
   "metadata": {},
   "source": [
    "See also the related functions: `inner`, `outer`, `cross`, `kron`, `tensordot`, etc."
   ]
  },
  {
   "cell_type": "markdown",
   "metadata": {},
   "source": [
    "### Array/Matrix transformations\n",
    "\n",
    "Above we have used the `.T` to transpose the matrix object `v`. We could also have used the `transpose` function to accomplish the same thing. \n",
    "\n",
    "Other mathematical functions that transform matrix objects are:"
   ]
  },
  {
   "cell_type": "code",
   "execution_count": null,
   "metadata": {},
   "outputs": [],
   "source": [
    "C = np.matrix([[1j, 2j], [3j, 4j]])\n",
    "C"
   ]
  },
  {
   "cell_type": "code",
   "execution_count": null,
   "metadata": {},
   "outputs": [],
   "source": [
    "np.conjugate(C)"
   ]
  },
  {
   "cell_type": "markdown",
   "metadata": {},
   "source": [
    "Hermitian conjugate: transpose + conjugate"
   ]
  },
  {
   "cell_type": "code",
   "execution_count": null,
   "metadata": {},
   "outputs": [],
   "source": [
    "C.H"
   ]
  },
  {
   "cell_type": "markdown",
   "metadata": {},
   "source": [
    "We can extract the real and imaginary parts of complex-valued arrays using `real` and `imag`:"
   ]
  },
  {
   "cell_type": "code",
   "execution_count": null,
   "metadata": {},
   "outputs": [],
   "source": [
    "np.real(C) # same as: C.real"
   ]
  },
  {
   "cell_type": "code",
   "execution_count": null,
   "metadata": {},
   "outputs": [],
   "source": [
    "np.imag(C) # same as: C.imag"
   ]
  },
  {
   "cell_type": "markdown",
   "metadata": {},
   "source": [
    "Or the absolute value"
   ]
  },
  {
   "cell_type": "code",
   "execution_count": null,
   "metadata": {},
   "outputs": [],
   "source": [
    "np.abs(C)"
   ]
  },
  {
   "cell_type": "markdown",
   "metadata": {},
   "source": [
    "### Matrix computations"
   ]
  },
  {
   "cell_type": "markdown",
   "metadata": {},
   "source": [
    "#### inverse"
   ]
  },
  {
   "cell_type": "code",
   "execution_count": null,
   "metadata": {},
   "outputs": [],
   "source": [
    "np.linalg.inv(C) # equivalent to C.I "
   ]
  },
  {
   "cell_type": "code",
   "execution_count": null,
   "metadata": {},
   "outputs": [],
   "source": [
    "C.I * C"
   ]
  },
  {
   "cell_type": "markdown",
   "metadata": {},
   "source": [
    "#### determinant"
   ]
  },
  {
   "cell_type": "code",
   "execution_count": null,
   "metadata": {},
   "outputs": [],
   "source": [
    "np.linalg.det(C)"
   ]
  },
  {
   "cell_type": "code",
   "execution_count": null,
   "metadata": {},
   "outputs": [],
   "source": [
    "np.linalg.det(C.I)"
   ]
  },
  {
   "cell_type": "markdown",
   "metadata": {},
   "source": [
    "## Data processing\n",
    "\n",
    "Often it is useful to store datasets in Numpy arrays. Numpy provides a number of functions to calculate statistics of datasets in arrays. \n",
    "\n",
    "For example, let's calculate some properties from the Heathrow temperatures dataset used above."
   ]
  },
  {
   "cell_type": "code",
   "execution_count": null,
   "metadata": {},
   "outputs": [],
   "source": [
    "# reminder, the tempeature dataset is stored in the data variable:\n",
    "data.shape"
   ]
  },
  {
   "cell_type": "markdown",
   "metadata": {},
   "source": [
    "### mean"
   ]
  },
  {
   "cell_type": "code",
   "execution_count": null,
   "metadata": {},
   "outputs": [],
   "source": [
    "# the temperature max\n",
    "tmean = np.mean(data['tmax'])\n",
    "print('The mean monthly maximum temperature in \\\n",
    "Heathrow since 01/1948 is {:.2f} degrees C'.format(tmean) )"
   ]
  },
  {
   "cell_type": "code",
   "execution_count": null,
   "metadata": {},
   "outputs": [],
   "source": [
    "data['tmax'].mean()"
   ]
  },
  {
   "cell_type": "markdown",
   "metadata": {},
   "source": [
    "### standard deviations and variance"
   ]
  },
  {
   "cell_type": "code",
   "execution_count": null,
   "metadata": {},
   "outputs": [],
   "source": [
    "np.std(data['tmax']), np.var(data['tmax'])"
   ]
  },
  {
   "cell_type": "code",
   "execution_count": null,
   "metadata": {},
   "outputs": [],
   "source": [
    "data['tmax'].std(), data['tmax'].var()"
   ]
  },
  {
   "cell_type": "markdown",
   "metadata": {},
   "source": [
    "### min and max"
   ]
  },
  {
   "cell_type": "code",
   "execution_count": null,
   "metadata": {},
   "outputs": [],
   "source": [
    "# lowest monthly maximum temperature\n",
    "data['tmax'].min()"
   ]
  },
  {
   "cell_type": "code",
   "execution_count": null,
   "metadata": {},
   "outputs": [],
   "source": [
    "# highest monyhly maximum temperature\n",
    "data['tmax'].max()"
   ]
  },
  {
   "cell_type": "markdown",
   "metadata": {},
   "source": [
    "### sum, prod, and trace"
   ]
  },
  {
   "cell_type": "code",
   "execution_count": null,
   "metadata": {},
   "outputs": [],
   "source": [
    "d = np.arange(0, 10000)\n",
    "d"
   ]
  },
  {
   "cell_type": "code",
   "execution_count": null,
   "metadata": {},
   "outputs": [],
   "source": [
    "# sum up all elements\n",
    "np.sum(d), sum(d)"
   ]
  },
  {
   "cell_type": "code",
   "execution_count": null,
   "metadata": {},
   "outputs": [],
   "source": [
    "%timeit sum(d)"
   ]
  },
  {
   "cell_type": "code",
   "execution_count": null,
   "metadata": {},
   "outputs": [],
   "source": [
    "%timeit np.sum(d)"
   ]
  },
  {
   "cell_type": "code",
   "execution_count": null,
   "metadata": {},
   "outputs": [],
   "source": [
    "%timeit d.sum()"
   ]
  },
  {
   "cell_type": "code",
   "execution_count": null,
   "metadata": {},
   "outputs": [],
   "source": [
    "# product of all elements\n",
    "np.prod(d+1)"
   ]
  },
  {
   "cell_type": "code",
   "execution_count": null,
   "metadata": {},
   "outputs": [],
   "source": [
    "# cummulative sum\n",
    "np.cumsum(d)"
   ]
  },
  {
   "cell_type": "code",
   "execution_count": null,
   "metadata": {},
   "outputs": [],
   "source": [
    "# cummulative product\n",
    "np.cumprod(d+1)"
   ]
  },
  {
   "cell_type": "code",
   "execution_count": null,
   "metadata": {},
   "outputs": [],
   "source": [
    "# same as: diag(M).sum()\n",
    "np.trace(M)"
   ]
  },
  {
   "cell_type": "markdown",
   "metadata": {},
   "source": [
    "## Calculations with higher-dimensional data\n",
    "\n",
    "When functions such as `min`, `max`, etc. are applied to a multidimensional arrays, it is sometimes useful to apply the calculation to the entire array, and sometimes only on a row or column basis. Using the `axis` argument we can specify how these functions should behave: "
   ]
  },
  {
   "cell_type": "code",
   "execution_count": null,
   "metadata": {},
   "outputs": [],
   "source": [
    "m = np.random.rand(3,3)\n",
    "m"
   ]
  },
  {
   "cell_type": "code",
   "execution_count": null,
   "metadata": {},
   "outputs": [],
   "source": [
    "# global max\n",
    "m.max()"
   ]
  },
  {
   "cell_type": "code",
   "execution_count": null,
   "metadata": {},
   "outputs": [],
   "source": [
    "# max in each column\n",
    "m.max(axis=0)"
   ]
  },
  {
   "cell_type": "code",
   "execution_count": null,
   "metadata": {},
   "outputs": [],
   "source": [
    "# max in each row\n",
    "m.max(axis=1)"
   ]
  },
  {
   "cell_type": "markdown",
   "metadata": {},
   "source": [
    "Many other functions and methods in the `array` and `matrix` classes accept the same (optional) `axis` keyword argument."
   ]
  },
  {
   "cell_type": "markdown",
   "metadata": {},
   "source": [
    "## Vectorizing functions\n",
    "\n",
    "As mentioned several times by now, to get good performance we should try to avoid looping over elements in our vectors and matrices, and instead use vectorized algorithms. The first step in converting a scalar algorithm to a vectorized algorithm is to make sure that the functions we write work with vector inputs."
   ]
  },
  {
   "cell_type": "code",
   "execution_count": null,
   "metadata": {},
   "outputs": [],
   "source": [
    "def Theta(x):\n",
    "    \"\"\"\n",
    "    Scalar implemenation of the Heaviside step function.\n",
    "    \"\"\"\n",
    "    if x >= 0:\n",
    "        return 1\n",
    "    else:\n",
    "        return 0"
   ]
  },
  {
   "cell_type": "code",
   "execution_count": null,
   "metadata": {},
   "outputs": [],
   "source": [
    "Theta(np.array([-3,-2,-1,0,1,2,3]))"
   ]
  },
  {
   "cell_type": "markdown",
   "metadata": {},
   "source": [
    "OK, that didn't work because we didn't write the `Theta` function so that it can handle a vector input... \n",
    "\n",
    "To get a vectorized version of Theta we can use the NumPy function `vectorize`. In many cases it can automatically vectorize a function:"
   ]
  },
  {
   "cell_type": "code",
   "execution_count": null,
   "metadata": {},
   "outputs": [],
   "source": [
    "Theta_vec = np.vectorize(Theta)"
   ]
  },
  {
   "cell_type": "code",
   "execution_count": null,
   "metadata": {},
   "outputs": [],
   "source": [
    "Theta_vec(np.array([-3,-2,-1,0,1,2,3]))"
   ]
  },
  {
   "cell_type": "markdown",
   "metadata": {},
   "source": [
    "We can also implement the function to accept a vector input from the beginning (requires more effort but might give better performance):"
   ]
  },
  {
   "cell_type": "code",
   "execution_count": null,
   "metadata": {},
   "outputs": [],
   "source": [
    "def Theta(x):\n",
    "    \"\"\"\n",
    "    Vector-aware implemenation of the Heaviside step function.\n",
    "    \"\"\"\n",
    "    return 1 * (x >= 0)"
   ]
  },
  {
   "cell_type": "code",
   "execution_count": null,
   "metadata": {},
   "outputs": [],
   "source": [
    "Theta(np.array([-3,-2,-1,0,1,2,3]))"
   ]
  },
  {
   "cell_type": "code",
   "execution_count": null,
   "metadata": {},
   "outputs": [],
   "source": [
    "# still works for scalars as well\n",
    "Theta(-9.2), Theta(2.6)"
   ]
  },
  {
   "cell_type": "code",
   "execution_count": null,
   "metadata": {},
   "outputs": [],
   "source": [
    "Theta([-3,-2,-1,0,1,2,3]) # But it does not work with lists"
   ]
  },
  {
   "cell_type": "code",
   "execution_count": null,
   "metadata": {},
   "outputs": [],
   "source": [
    "def Theta(x):\n",
    "    \"\"\"\n",
    "    Vector-aware implemenation of the Heaviside step function.\n",
    "    \"\"\"\n",
    "    x = np.asarray(x) # Convert the argument to array\n",
    "    return 1 * (x >= 0)"
   ]
  },
  {
   "cell_type": "code",
   "execution_count": null,
   "metadata": {},
   "outputs": [],
   "source": [
    "Theta([-3,-2,-1,0,1,2,3]) # Now it works for lists as well"
   ]
  },
  {
   "cell_type": "code",
   "execution_count": null,
   "metadata": {},
   "outputs": [],
   "source": [
    "%timeit Theta_vec(range(10))"
   ]
  },
  {
   "cell_type": "code",
   "execution_count": null,
   "metadata": {},
   "outputs": [],
   "source": [
    "%timeit Theta(range(10))"
   ]
  },
  {
   "cell_type": "markdown",
   "metadata": {},
   "source": [
    "## Using arrays in conditions\n",
    "\n",
    "When using arrays in conditions,for example `if` statements and other boolean expressions, one needs to use `any` or `all`, which requires that any or all elements in the array evalutes to `True`:"
   ]
  },
  {
   "cell_type": "code",
   "execution_count": null,
   "metadata": {},
   "outputs": [],
   "source": [
    "M = np.random.randint(1,25, (5,5))\n",
    "M"
   ]
  },
  {
   "cell_type": "code",
   "execution_count": null,
   "metadata": {},
   "outputs": [],
   "source": [
    "if (M > 5).any():\n",
    "    print(\"at least one element in M is larger than 5\")\n",
    "else:\n",
    "    print(\"no element in M is larger than 5\")"
   ]
  },
  {
   "cell_type": "code",
   "execution_count": null,
   "metadata": {},
   "outputs": [],
   "source": [
    "if (M > 5).all():\n",
    "    print(\"all elements in M are larger than 5\")\n",
    "else:\n",
    "    print(\"all elements in M are not larger than 5\")"
   ]
  },
  {
   "cell_type": "markdown",
   "metadata": {},
   "source": [
    "## Summary\n",
    "\n",
    "* How to create arrays: `array`, `arange`, `ones`, `zeros`.\n",
    "* Array shapes using `array.shape`\n",
    "* Use slicing to obtain different vies of the array: `a[::2]`, etc.\n",
    "* Adjust array shape using `reshape` or `flatten`.\n",
    "* Obtain a subset of the elements of an array and/or modify their values with masks\n",
    "* Know miscellaneous operations on arrays, such as finding the mean or max (`array.max()`, `array.mean()`).\n",
    "* No need to remember everything but know how to search documentation (online documentation, `help()`, `lookfor()`).\n",
    "* Advanced use: indexing with arrays of integers and broadcasting. More NumPy functions to handle various array operations."
   ]
  },
  {
   "cell_type": "markdown",
   "metadata": {},
   "source": [
    "## Further reading\n",
    "\n",
    "* http://numpy.org\n",
    "* https://docs.scipy.org/doc/numpy/user/quickstart.html\n",
    "* https://docs.scipy.org/doc/numpy/user/numpy-for-matlab-users.html - A Numpy guide for MATLAB users."
   ]
  },
  {
   "cell_type": "markdown",
   "metadata": {},
   "source": [
    "***"
   ]
  }
 ],
 "metadata": {
  "anaconda-cloud": {},
  "kernelspec": {
   "display_name": "Python 3",
   "language": "python",
   "name": "python3"
  },
  "language_info": {
   "codemirror_mode": {
    "name": "ipython",
    "version": 3
   },
   "file_extension": ".py",
   "mimetype": "text/x-python",
   "name": "python",
   "nbconvert_exporter": "python",
   "pygments_lexer": "ipython3",
   "version": "3.7.1"
  },
  "name": "_merged",
  "nbTranslate": {
   "displayLangs": [
    "es",
    "en"
   ],
   "hotkey": "alt-t",
   "langInMainMenu": true,
   "sourceLang": "en",
   "targetLang": "es",
   "useGoogleTranslate": true
  },
  "toc": {
   "base_numbering": "9",
   "nav_menu": {
    "height": "339px",
    "width": "236px"
   },
   "number_sections": true,
   "sideBar": true,
   "skip_h1_title": false,
   "title_cell": "Table of Contents",
   "title_sidebar": "Contents",
   "toc_cell": true,
   "toc_position": {
    "height": "1022px",
    "left": "61px",
    "right": "1665px",
    "top": "205.722px",
    "width": "255px"
   },
   "toc_section_display": true,
   "toc_window_display": true
  },
  "varInspector": {
   "cols": {
    "lenName": 16,
    "lenType": 16,
    "lenVar": 40
   },
   "kernels_config": {
    "python": {
     "delete_cmd_postfix": "",
     "delete_cmd_prefix": "del ",
     "library": "var_list.py",
     "varRefreshCmd": "print(var_dic_list())"
    },
    "r": {
     "delete_cmd_postfix": ") ",
     "delete_cmd_prefix": "rm(",
     "library": "var_list.r",
     "varRefreshCmd": "cat(var_dic_list()) "
    }
   },
   "types_to_exclude": [
    "module",
    "function",
    "builtin_function_or_method",
    "instance",
    "_Feature"
   ],
   "window_display": false
  }
 },
 "nbformat": 4,
 "nbformat_minor": 1
}
