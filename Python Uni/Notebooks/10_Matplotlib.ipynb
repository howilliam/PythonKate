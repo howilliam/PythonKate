{
 "cells": [
  {
   "cell_type": "markdown",
   "metadata": {},
   "source": [
    "# <font color=blue>Plotting in Python with _MatPlotLib_</font>"
   ]
  },
  {
   "cell_type": "markdown",
   "metadata": {
    "toc": true
   },
   "source": [
    "<h1>Table of Contents<span class=\"tocSkip\"></span></h1>\n",
    "<div class=\"toc\"><ul class=\"toc-item\"><li><span><a href=\"#Plotting-in-Python-with-MatPlotLib\" data-toc-modified-id=\"Plotting-in-Python-with-MatPlotLib-10\"><span class=\"toc-item-num\">10&nbsp;&nbsp;</span><font color=\"blue\">Plotting in Python with <em>MatPlotLib</em></font></a></span><ul class=\"toc-item\"><li><span><a href=\"#Learning-Objectives\" data-toc-modified-id=\"Learning-Objectives-10.1\"><span class=\"toc-item-num\">10.1&nbsp;&nbsp;</span>Learning Objectives</a></span></li><li><span><a href=\"#Introduction\" data-toc-modified-id=\"Introduction-10.2\"><span class=\"toc-item-num\">10.2&nbsp;&nbsp;</span>Introduction</a></span></li><li><span><a href=\"#The-matplotlib-object-oriented-API\" data-toc-modified-id=\"The-matplotlib-object-oriented-API-10.3\"><span class=\"toc-item-num\">10.3&nbsp;&nbsp;</span>The matplotlib object-oriented API</a></span><ul class=\"toc-item\"><li><span><a href=\"#Multiple-subplots\" data-toc-modified-id=\"Multiple-subplots-10.3.1\"><span class=\"toc-item-num\">10.3.1&nbsp;&nbsp;</span>Multiple subplots</a></span></li><li><span><a href=\"#Saving-figures\" data-toc-modified-id=\"Saving-figures-10.3.2\"><span class=\"toc-item-num\">10.3.2&nbsp;&nbsp;</span>Saving figures</a></span></li><li><span><a href=\"#Legends,-labels-and-titles\" data-toc-modified-id=\"Legends,-labels-and-titles-10.3.3\"><span class=\"toc-item-num\">10.3.3&nbsp;&nbsp;</span>Legends, labels and titles</a></span><ul class=\"toc-item\"><li><span><a href=\"#Figure-titles\" data-toc-modified-id=\"Figure-titles-10.3.3.1\"><span class=\"toc-item-num\">10.3.3.1&nbsp;&nbsp;</span>Figure titles</a></span></li><li><span><a href=\"#Axis-labels\" data-toc-modified-id=\"Axis-labels-10.3.3.2\"><span class=\"toc-item-num\">10.3.3.2&nbsp;&nbsp;</span>Axis labels</a></span></li><li><span><a href=\"#Legends\" data-toc-modified-id=\"Legends-10.3.3.3\"><span class=\"toc-item-num\">10.3.3.3&nbsp;&nbsp;</span>Legends</a></span></li><li><span><a href=\"#Example\" data-toc-modified-id=\"Example-10.3.3.4\"><span class=\"toc-item-num\">10.3.3.4&nbsp;&nbsp;</span>Example</a></span></li></ul></li><li><span><a href=\"#Formatting-text:-LaTeX,-fontsize,-font-family\" data-toc-modified-id=\"Formatting-text:-LaTeX,-fontsize,-font-family-10.3.4\"><span class=\"toc-item-num\">10.3.4&nbsp;&nbsp;</span>Formatting text: LaTeX, fontsize, font family</a></span></li><li><span><a href=\"#Setting-colors,-linewidths,-linetypes\" data-toc-modified-id=\"Setting-colors,-linewidths,-linetypes-10.3.5\"><span class=\"toc-item-num\">10.3.5&nbsp;&nbsp;</span>Setting colors, linewidths, linetypes</a></span><ul class=\"toc-item\"><li><span><a href=\"#Colors\" data-toc-modified-id=\"Colors-10.3.5.1\"><span class=\"toc-item-num\">10.3.5.1&nbsp;&nbsp;</span>Colors</a></span></li><li><span><a href=\"#Line-and-marker-styles\" data-toc-modified-id=\"Line-and-marker-styles-10.3.5.2\"><span class=\"toc-item-num\">10.3.5.2&nbsp;&nbsp;</span>Line and marker styles</a></span></li></ul></li><li><span><a href=\"#Control-over-axis-appearance\" data-toc-modified-id=\"Control-over-axis-appearance-10.3.6\"><span class=\"toc-item-num\">10.3.6&nbsp;&nbsp;</span>Control over axis appearance</a></span><ul class=\"toc-item\"><li><span><a href=\"#Plot-range\" data-toc-modified-id=\"Plot-range-10.3.6.1\"><span class=\"toc-item-num\">10.3.6.1&nbsp;&nbsp;</span>Plot range</a></span></li><li><span><a href=\"#Logarithmic-scale\" data-toc-modified-id=\"Logarithmic-scale-10.3.6.2\"><span class=\"toc-item-num\">10.3.6.2&nbsp;&nbsp;</span>Logarithmic scale</a></span></li></ul></li><li><span><a href=\"#Placement-of-ticks-and-custom-tick-labels\" data-toc-modified-id=\"Placement-of-ticks-and-custom-tick-labels-10.3.7\"><span class=\"toc-item-num\">10.3.7&nbsp;&nbsp;</span>Placement of ticks and custom tick labels</a></span><ul class=\"toc-item\"><li><span><a href=\"#Scientific-notation\" data-toc-modified-id=\"Scientific-notation-10.3.7.1\"><span class=\"toc-item-num\">10.3.7.1&nbsp;&nbsp;</span>Scientific notation</a></span></li></ul></li><li><span><a href=\"#Axis-number-and-axis-label-spacing\" data-toc-modified-id=\"Axis-number-and-axis-label-spacing-10.3.8\"><span class=\"toc-item-num\">10.3.8&nbsp;&nbsp;</span>Axis number and axis label spacing</a></span><ul class=\"toc-item\"><li><span><a href=\"#Axis-position-adjustments\" data-toc-modified-id=\"Axis-position-adjustments-10.3.8.1\"><span class=\"toc-item-num\">10.3.8.1&nbsp;&nbsp;</span>Axis position adjustments</a></span></li></ul></li><li><span><a href=\"#Axis-grid\" data-toc-modified-id=\"Axis-grid-10.3.9\"><span class=\"toc-item-num\">10.3.9&nbsp;&nbsp;</span>Axis grid</a></span></li><li><span><a href=\"#Axis-spines\" data-toc-modified-id=\"Axis-spines-10.3.10\"><span class=\"toc-item-num\">10.3.10&nbsp;&nbsp;</span>Axis spines</a></span></li><li><span><a href=\"#Twin-axes\" data-toc-modified-id=\"Twin-axes-10.3.11\"><span class=\"toc-item-num\">10.3.11&nbsp;&nbsp;</span>Twin axes</a></span></li><li><span><a href=\"#Axes-where-x-and-y-is-zero\" data-toc-modified-id=\"Axes-where-x-and-y-is-zero-10.3.12\"><span class=\"toc-item-num\">10.3.12&nbsp;&nbsp;</span>Axes where x and y is zero</a></span></li><li><span><a href=\"#Other-2D-plot-styles\" data-toc-modified-id=\"Other-2D-plot-styles-10.3.13\"><span class=\"toc-item-num\">10.3.13&nbsp;&nbsp;</span>Other 2D plot styles</a></span></li><li><span><a href=\"#Text-annotation\" data-toc-modified-id=\"Text-annotation-10.3.14\"><span class=\"toc-item-num\">10.3.14&nbsp;&nbsp;</span>Text annotation</a></span></li></ul></li><li><span><a href=\"#Worked-Example\" data-toc-modified-id=\"Worked-Example-10.4\"><span class=\"toc-item-num\">10.4&nbsp;&nbsp;</span>Worked Example</a></span></li><li><span><a href=\"#Figures-with-multiple-subplots-and-insets\" data-toc-modified-id=\"Figures-with-multiple-subplots-and-insets-10.5\"><span class=\"toc-item-num\">10.5&nbsp;&nbsp;</span>Figures with multiple subplots and insets</a></span><ul class=\"toc-item\"><li><span><a href=\"#subplots\" data-toc-modified-id=\"subplots-10.5.1\"><span class=\"toc-item-num\">10.5.1&nbsp;&nbsp;</span>subplots</a></span></li><li><span><a href=\"#subplot2grid\" data-toc-modified-id=\"subplot2grid-10.5.2\"><span class=\"toc-item-num\">10.5.2&nbsp;&nbsp;</span>subplot2grid</a></span></li><li><span><a href=\"#gridspec\" data-toc-modified-id=\"gridspec-10.5.3\"><span class=\"toc-item-num\">10.5.3&nbsp;&nbsp;</span>gridspec</a></span></li><li><span><a href=\"#add_axes\" data-toc-modified-id=\"add_axes-10.5.4\"><span class=\"toc-item-num\">10.5.4&nbsp;&nbsp;</span>add_axes</a></span></li></ul></li><li><span><a href=\"#Colormap-and-contour-figures\" data-toc-modified-id=\"Colormap-and-contour-figures-10.6\"><span class=\"toc-item-num\">10.6&nbsp;&nbsp;</span>Colormap and contour figures</a></span><ul class=\"toc-item\"><li><span><a href=\"#pcolor\" data-toc-modified-id=\"pcolor-10.6.1\"><span class=\"toc-item-num\">10.6.1&nbsp;&nbsp;</span>pcolor</a></span></li><li><span><a href=\"#imshow\" data-toc-modified-id=\"imshow-10.6.2\"><span class=\"toc-item-num\">10.6.2&nbsp;&nbsp;</span>imshow</a></span></li><li><span><a href=\"#contour\" data-toc-modified-id=\"contour-10.6.3\"><span class=\"toc-item-num\">10.6.3&nbsp;&nbsp;</span>contour</a></span></li></ul></li><li><span><a href=\"#3D-figures\" data-toc-modified-id=\"3D-figures-10.7\"><span class=\"toc-item-num\">10.7&nbsp;&nbsp;</span>3D figures</a></span><ul class=\"toc-item\"><li><span><a href=\"#Surface-plots\" data-toc-modified-id=\"Surface-plots-10.7.1\"><span class=\"toc-item-num\">10.7.1&nbsp;&nbsp;</span>Surface plots</a></span></li><li><span><a href=\"#Wire-frame-plot\" data-toc-modified-id=\"Wire-frame-plot-10.7.2\"><span class=\"toc-item-num\">10.7.2&nbsp;&nbsp;</span>Wire-frame plot</a></span></li><li><span><a href=\"#Coutour-plots-with-projections\" data-toc-modified-id=\"Coutour-plots-with-projections-10.7.3\"><span class=\"toc-item-num\">10.7.3&nbsp;&nbsp;</span>Coutour plots with projections</a></span></li><li><span><a href=\"#Change-the-view-angle\" data-toc-modified-id=\"Change-the-view-angle-10.7.4\"><span class=\"toc-item-num\">10.7.4&nbsp;&nbsp;</span>Change the view angle</a></span></li></ul></li><li><span><a href=\"#Animated-plots\" data-toc-modified-id=\"Animated-plots-10.8\"><span class=\"toc-item-num\">10.8&nbsp;&nbsp;</span>Animated plots</a></span></li><li><span><a href=\"#Further-reading\" data-toc-modified-id=\"Further-reading-10.9\"><span class=\"toc-item-num\">10.9&nbsp;&nbsp;</span>Further reading</a></span></li></ul></li></ul></div>"
   ]
  },
  {
   "cell_type": "markdown",
   "metadata": {},
   "source": [
    "***\n",
    "## Learning Objectives\n",
    "- Understand the advantages of creating plots programmatically for reproducibility.\n",
    "- Know how to create 2D plots from data stored in a NumPy array.\n",
    "- Know how to control the appearance of the plot using Python code.\n",
    "***"
   ]
  },
  {
   "cell_type": "code",
   "execution_count": null,
   "metadata": {},
   "outputs": [],
   "source": [
    "# This line configures matplotlib to show figures embedded in the notebook,\n",
    "# instead of opening a new window for each figure. More about that later.\n",
    "# If you are using an old version of IPython, try using '%pylab inline' instead.\n",
    "%matplotlib inline"
   ]
  },
  {
   "cell_type": "markdown",
   "metadata": {},
   "source": [
    "## Introduction"
   ]
  },
  {
   "cell_type": "markdown",
   "metadata": {},
   "source": [
    "Matplotlib is an excellent 2D and 3D graphics library for generating scientific figures. Some of the many advantages of this library include:\n",
    "\n",
    "* Easy to get started\n",
    "* Support for $\\LaTeX$ formatted labels and texts\n",
    "* Great control of every element in a figure, including figure size and DPI. \n",
    "* High-quality output in many formats, including PNG, PDF, SVG, EPS, and PGF.\n",
    "* GUI for interactively exploring figures *and* support for headless generation of figure files (useful for batch jobs).\n",
    "\n",
    "One of the key features of matplotlib that I would like to emphasize, and that I think makes matplotlib highly suitable for generating figures for scientific publications is that all aspects of the figure can be controlled *programmatically*. This is important for reproducibility and convenient when one needs to regenerate the figure with updated data or change its appearance. \n",
    "\n",
    "More information at the Matplotlib web page: http://matplotlib.org/"
   ]
  },
  {
   "cell_type": "markdown",
   "metadata": {},
   "source": [
    "## The matplotlib object-oriented API"
   ]
  },
  {
   "cell_type": "markdown",
   "metadata": {},
   "source": [
    "The main idea with object-oriented programming is to have objects that one can apply functions and actions on, and no object or program states should be global. The real advantage of this approach becomes apparent when more than one figure is created, or when a figure contains more than one subplot. "
   ]
  },
  {
   "cell_type": "markdown",
   "metadata": {},
   "source": [
    "Import the `matplotlib.pyplot` module under the name `plt` (the tidy way):"
   ]
  },
  {
   "cell_type": "code",
   "execution_count": null,
   "metadata": {},
   "outputs": [],
   "source": [
    "import matplotlib\n",
    "import matplotlib.pyplot as plt"
   ]
  },
  {
   "cell_type": "code",
   "execution_count": null,
   "metadata": {},
   "outputs": [],
   "source": [
    "import numpy as np"
   ]
  },
  {
   "cell_type": "markdown",
   "metadata": {},
   "source": [
    "We can start plotting a figure with the default parameter properties in matplotlib:"
   ]
  },
  {
   "cell_type": "code",
   "execution_count": null,
   "metadata": {},
   "outputs": [],
   "source": [
    "x = np.linspace(-2., 2., 128, endpoint=True)\n",
    "y1 = x**2\n",
    "y2 = np.exp(x)\n",
    "# Plotting with default settings\n",
    "plt.plot(x, y1)\n",
    "plt.plot(x, y2)\n",
    "plt.show()"
   ]
  },
  {
   "cell_type": "markdown",
   "metadata": {},
   "source": [
    "The recommended way of creating a new figure instance is to create one and store a reference to the newly created figure instance in the `fig` variable:\n",
    "\n",
    "We can then use one of the many axis layout managers in matplotlib. The recommednded one is `subplots`, which can be used like this"
   ]
  },
  {
   "cell_type": "code",
   "execution_count": null,
   "metadata": {},
   "outputs": [],
   "source": [
    "# Create a figure of size 8x6 inches, 100 dots per inch and\n",
    "# a new subplot from a grid of 1x1\n",
    "fig, axes = plt.subplots(nrows=1, ncols=1, figsize=(8, 6), dpi=100)\n",
    "\n",
    "# Plot x^2 with a blue continuous line of width 1 (pixels)\n",
    "axes.plot(x, y1, color=\"blue\", linewidth=1.0, linestyle=\"-\")\n",
    "\n",
    "# Plot exp(x) with a green dashed line of width 1 (pixels)\n",
    "axes.plot(x, y2, color=\"green\", linewidth=1.0, linestyle=\"--\")\n",
    "\n",
    "# Show result on screen\n",
    "plt.show()"
   ]
  },
  {
   "cell_type": "markdown",
   "metadata": {},
   "source": [
    "As we saw above, Matplotlib allows the aspect ratio, DPI and figure size to be specified when the `Figure` object is created, using the `figsize` and `dpi` keyword arguments. `figsize` is a tuple of the width and height of the figure in inches, and `dpi` is the dots-per-inch (pixel per inch). The code above creates an 800x600 pixel, 100 dots-per-inch figure. "
   ]
  },
  {
   "cell_type": "markdown",
   "metadata": {},
   "source": [
    "### Multiple subplots"
   ]
  },
  {
   "cell_type": "code",
   "execution_count": null,
   "metadata": {},
   "outputs": [],
   "source": [
    "# Create 2 subplots (in 2 columns)\n",
    "fig, axes = plt.subplots(nrows=1, ncols=2, figsize=(10, 6))\n",
    "\n",
    "# Plot x**2 in the first subplot\n",
    "axes[0].plot(x, y1, 'r')\n",
    "\n",
    "# Plot exp(x) in the first subplot\n",
    "axes[1].plot(x, y2, 'b')\n",
    "\n",
    "# automatically adjusts the positions of the axes on the figure so that there is no overlap between them\n",
    "fig.tight_layout()"
   ]
  },
  {
   "cell_type": "markdown",
   "metadata": {},
   "source": [
    "We can also use `add_axes` function to create a layout. Although a little bit more code is involved, the advantage is that we have full control of where the plot axes are placed, and we can easily add more than one axis to the figure:"
   ]
  },
  {
   "cell_type": "code",
   "execution_count": null,
   "metadata": {},
   "outputs": [],
   "source": [
    "fig = plt.figure()\n",
    "\n",
    "axes1 = fig.add_axes([0.1, 0.1, 0.8, 0.8])  # main axes\n",
    "axes2 = fig.add_axes([0.3, 0.5, 0.4, 0.3])  # inset axes\n",
    "\n",
    "# main figure\n",
    "axes1.plot(x, y1, 'r')\n",
    "\n",
    "# insert\n",
    "axes2.plot(y1, x, 'g')\n",
    "plt.show()"
   ]
  },
  {
   "cell_type": "markdown",
   "metadata": {},
   "source": [
    "### Saving figures"
   ]
  },
  {
   "cell_type": "markdown",
   "metadata": {},
   "source": [
    "To save a figure to a file we can use the `savefig` method in the `Figure` class:"
   ]
  },
  {
   "cell_type": "code",
   "execution_count": null,
   "metadata": {},
   "outputs": [],
   "source": [
    "fig.savefig(\"filename.png\")"
   ]
  },
  {
   "cell_type": "markdown",
   "metadata": {},
   "source": [
    "Here we can also optionally specify the DPI and choose between different output formats:"
   ]
  },
  {
   "cell_type": "code",
   "execution_count": null,
   "metadata": {},
   "outputs": [],
   "source": [
    "fig.savefig(\"./filename.pdf\", dpi=200)"
   ]
  },
  {
   "cell_type": "markdown",
   "metadata": {},
   "source": [
    "Matplotlib can generate high-quality output in a number formats, including PNG, JPG, EPS, SVG, PGF and PDF. For scientific papers, use PNG or PDF whenever possible. (LaTeX documents compiled with `pdflatex` can include PDFs using the `includegraphics` command). "
   ]
  },
  {
   "cell_type": "markdown",
   "metadata": {},
   "source": [
    "### Legends, labels and titles"
   ]
  },
  {
   "cell_type": "markdown",
   "metadata": {},
   "source": [
    "Now that we have covered the basics of how to create a figure canvas and add axes instances to the canvas, let's look at how decorate a figure with titles, axis labels, and legends."
   ]
  },
  {
   "cell_type": "markdown",
   "metadata": {},
   "source": [
    "#### Figure titles\n",
    "\n",
    "A title can be added to each axis instance in a figure. To set the title, use the `set_title` method in the axes instance:"
   ]
  },
  {
   "cell_type": "markdown",
   "metadata": {},
   "source": [
    "`axes.set_title(\"title\")`"
   ]
  },
  {
   "cell_type": "markdown",
   "metadata": {},
   "source": [
    "#### Axis labels\n",
    "\n",
    "Similarly, with the methods `set_xlabel` and `set_ylabel`, we can set the labels of the X and Y axes:"
   ]
  },
  {
   "cell_type": "markdown",
   "metadata": {},
   "source": [
    "`axes.set_xlabel(\"x\")\n",
    "axes.set_ylabel(\"y\")`"
   ]
  },
  {
   "cell_type": "markdown",
   "metadata": {},
   "source": [
    "#### Legends\n",
    "\n",
    "Legends for curves in a figure can be added in two ways. One method is to use the `legend` method of the axis object and pass a list/tuple of legend texts for the previously defined curves:"
   ]
  },
  {
   "cell_type": "markdown",
   "metadata": {},
   "source": [
    "`axes.legend([\"curve1\", \"curve2\"])`"
   ]
  },
  {
   "cell_type": "markdown",
   "metadata": {},
   "source": [
    "The method described above follows the MATLAB API. It is somewhat prone to errors and unflexible if curves are added to or removed from the figure (resulting in a wrongly labelled curve).\n",
    "\n",
    "A better method is to use the `label=\"label text\"` keyword argument when plots or other objects are added to the figure, and then using the `legend` method without arguments to add the legend to the figure: "
   ]
  },
  {
   "cell_type": "markdown",
   "metadata": {},
   "source": [
    "`axes.plot(x, x**2, label=\"curve1\")\n",
    "axes.plot(x, x**3, label=\"curve2\")\n",
    "axes.legend()`"
   ]
  },
  {
   "cell_type": "markdown",
   "metadata": {},
   "source": [
    "The advantage with this method is that if curves are added or removed from the figure, the legend is automatically updated accordingly.\n",
    "\n",
    "The `legend` function takes an optional keyword argument `loc` that can be used to specify where in the figure the legend is to be drawn. The allowed values of `loc` are numerical codes for the various places the legend can be drawn. See https://matplotlib.org/users/legend_guide.html for details. Some of the most common `loc` values are:"
   ]
  },
  {
   "cell_type": "markdown",
   "metadata": {},
   "source": [
    "`ax.legend(loc=0) # let matplotlib decide the optimal location\n",
    "ax.legend(loc=1) # upper right corner\n",
    "ax.legend(loc=2) # upper left corner\n",
    "ax.legend(loc=3) # lower left corner\n",
    "ax.legend(loc=4) # lower right corner`\n",
    "\n",
    "_ .. many more options are available _"
   ]
  },
  {
   "cell_type": "markdown",
   "metadata": {},
   "source": [
    "#### Example\n",
    "\n",
    "The following figure shows how to use the figure title, axis labels and legends described above:"
   ]
  },
  {
   "cell_type": "code",
   "execution_count": null,
   "metadata": {},
   "outputs": [],
   "source": [
    "fig, ax = plt.subplots()\n",
    "\n",
    "ax.plot(x, x**2, label=\"y = x**2\")\n",
    "ax.plot(x, x**3, label=\"y = x**3\")\n",
    "ax.legend(loc=2)\n",
    "# upper left corner\n",
    "ax.set_xlabel('x')\n",
    "ax.set_ylabel('y')\n",
    "ax.set_title('title')"
   ]
  },
  {
   "cell_type": "markdown",
   "metadata": {},
   "source": [
    "### Formatting text: LaTeX, fontsize, font family"
   ]
  },
  {
   "cell_type": "markdown",
   "metadata": {},
   "source": [
    "The figure above is functional, but it does not (yet) satisfy the criteria for a figure used in a publication. First and foremost, we need to have LaTeX formatted text, and second, we need to be able to adjust the font size to appear right in a publication.\n",
    "\n",
    "Matplotlib has great support for LaTeX. All we need to do is to use dollar signs encapsulate LaTeX in any text (legend, title, label, etc.). For example, `\"$y=x^3$\"`.\n",
    "\n",
    "But here we can run into a slightly subtle problem with LaTeX code and Python text strings. In LaTeX, we frequently use the backslash in commands, for example `\\alpha` to produce the symbol $\\alpha$. But the backslash already has a meaning in Python strings (the escape code character). To avoid Python messing up our latex code, we need to use \"raw\" text strings. Raw text strings are prepended with an '`r`', like `r\"\\alpha\"` or `r'\\alpha'` instead of `\"\\alpha\"` or `'\\alpha'`:"
   ]
  },
  {
   "cell_type": "code",
   "execution_count": null,
   "metadata": {},
   "outputs": [],
   "source": [
    "x = np.linspace(0, 5, 10)\n",
    "fig, ax = plt.subplots()\n",
    "\n",
    "ax.plot(x, x**2, label=r\"$y = \\alpha^2$\")\n",
    "ax.plot(x, x**3, label=r\"$y = \\alpha^3$\")\n",
    "ax.legend(loc=2)  # upper left corner\n",
    "ax.set_xlabel(r'$\\alpha$', fontsize=18)\n",
    "ax.set_ylabel(r'$y$', fontsize=18)\n",
    "ax.set_title('title')"
   ]
  },
  {
   "cell_type": "markdown",
   "metadata": {},
   "source": [
    "We can also change the global font size and font family, which applies to all text elements in a figure (tick labels, axis labels and titles, legends, etc.):"
   ]
  },
  {
   "cell_type": "code",
   "execution_count": null,
   "metadata": {},
   "outputs": [],
   "source": [
    "# Update the matplotlib configuration parameters:\n",
    "matplotlib.rcParams.update({'font.size': 18, 'font.family': 'serif'})"
   ]
  },
  {
   "cell_type": "code",
   "execution_count": null,
   "metadata": {},
   "outputs": [],
   "source": [
    "fig, ax = plt.subplots()\n",
    "\n",
    "ax.plot(x, x**2, label=r\"$y = \\alpha^2$\")\n",
    "ax.plot(x, x**3, label=r\"$y = \\alpha^3$\")\n",
    "ax.legend(loc=2)  # upper left corner\n",
    "ax.set_xlabel(r'$\\alpha$')\n",
    "ax.set_ylabel(r'$y$')\n",
    "ax.set_title('title')"
   ]
  },
  {
   "cell_type": "markdown",
   "metadata": {},
   "source": [
    "A good choice of global fonts are the STIX fonts: "
   ]
  },
  {
   "cell_type": "code",
   "execution_count": null,
   "metadata": {},
   "outputs": [],
   "source": [
    "# Update the matplotlib configuration parameters:\n",
    "matplotlib.rcParams.update({\n",
    "    'font.size': 18,\n",
    "    'font.family': 'STIXGeneral',\n",
    "    'mathtext.fontset': 'stix'\n",
    "})"
   ]
  },
  {
   "cell_type": "code",
   "execution_count": null,
   "metadata": {},
   "outputs": [],
   "source": [
    "fig, ax = plt.subplots()\n",
    "\n",
    "ax.plot(x, x**2, label=r\"$y = \\alpha^2$\")\n",
    "ax.plot(x, x**3, label=r\"$y = \\alpha^3$\")\n",
    "ax.legend(loc=2)  # upper left corner\n",
    "ax.set_xlabel(r'$\\alpha$')\n",
    "ax.set_ylabel(r'$y$')\n",
    "ax.set_title('title')"
   ]
  },
  {
   "cell_type": "markdown",
   "metadata": {},
   "source": [
    "Or, alternatively, we can request that matplotlib uses LaTeX to render the text elements in the figure:"
   ]
  },
  {
   "cell_type": "code",
   "execution_count": null,
   "metadata": {},
   "outputs": [],
   "source": [
    "matplotlib.rcParams.update({'font.size': 18, 'text.usetex': True})"
   ]
  },
  {
   "cell_type": "code",
   "execution_count": null,
   "metadata": {},
   "outputs": [],
   "source": [
    "fig, ax = plt.subplots()\n",
    "\n",
    "ax.plot(x, x**2, label=r\"$y = \\alpha^2$\")\n",
    "ax.plot(x, x**3, label=r\"$y = \\alpha^3$\")\n",
    "ax.legend(loc=2)  # upper left corner\n",
    "ax.set_xlabel(r'$\\alpha$')\n",
    "ax.set_ylabel(r'$y$')\n",
    "ax.set_title('title')"
   ]
  },
  {
   "cell_type": "code",
   "execution_count": null,
   "metadata": {},
   "outputs": [],
   "source": [
    "# restore\n",
    "matplotlib.rcParams.update({\n",
    "    'font.size': 12,\n",
    "    'font.family': 'sans',\n",
    "    'text.usetex': False\n",
    "})"
   ]
  },
  {
   "cell_type": "markdown",
   "metadata": {},
   "source": [
    "### Setting colors, linewidths, linetypes"
   ]
  },
  {
   "cell_type": "markdown",
   "metadata": {},
   "source": [
    "#### Colors"
   ]
  },
  {
   "cell_type": "markdown",
   "metadata": {},
   "source": [
    "With matplotlib, we can define the colors of lines and other graphical elements in a number of ways. First of all, we can use the MATLAB-like syntax where `'b'` means blue, `'g'` means green, etc. The MATLAB API for selecting line styles are also supported: where, for example, 'b.-' means a blue line with dots:"
   ]
  },
  {
   "cell_type": "code",
   "execution_count": null,
   "metadata": {},
   "outputs": [],
   "source": [
    "# MATLAB style line color and style\n",
    "fig, ax = plt.subplots()\n",
    "ax.plot(x, x**2, 'b.-')  # blue line with dots\n",
    "ax.plot(x, x**3, 'g--')\n",
    "# green dashed line"
   ]
  },
  {
   "cell_type": "markdown",
   "metadata": {},
   "source": [
    "We can also define colors by their names or RGB hex codes and optionally provide an alpha value using the `color` and `alpha` keyword arguments:"
   ]
  },
  {
   "cell_type": "code",
   "execution_count": null,
   "metadata": {},
   "outputs": [],
   "source": [
    "fig, ax = plt.subplots()\n",
    "\n",
    "ax.plot(x, x + 1, color=\"red\", alpha=0.5)  # half-transparant red\n",
    "ax.plot(x, x + 2, color=\"#1155dd\")  # RGB hex code for a bluish color\n",
    "ax.plot(\n",
    "    x, x + 3, color=\"#15cc55\")\n",
    "# RGB hex code for a greenish color"
   ]
  },
  {
   "cell_type": "markdown",
   "metadata": {},
   "source": [
    "#### Line and marker styles"
   ]
  },
  {
   "cell_type": "markdown",
   "metadata": {},
   "source": [
    "To change the line width, we can use the `linewidth` or `lw` keyword argument. The line style can be selected using the `linestyle` or `ls` keyword arguments:"
   ]
  },
  {
   "cell_type": "code",
   "execution_count": null,
   "metadata": {},
   "outputs": [],
   "source": [
    "fig, ax = plt.subplots(figsize=(12, 6))\n",
    "\n",
    "ax.plot(x, x + 1, color=\"blue\", linewidth=0.25)\n",
    "ax.plot(x, x + 2, color=\"blue\", linewidth=0.50)\n",
    "ax.plot(x, x + 3, color=\"blue\", linewidth=1.00)\n",
    "ax.plot(x, x + 4, color=\"blue\", linewidth=2.00)\n",
    "\n",
    "# possible linestyle options '-', '--', '-.', ':'\n",
    "ax.plot(x, x + 5, color=\"red\", lw=2, linestyle='-')\n",
    "ax.plot(x, x + 6, color=\"red\", lw=2, ls='-.')\n",
    "ax.plot(x, x + 7, color=\"red\", lw=2, ls=':')\n",
    "\n",
    "# custom dash\n",
    "line, = ax.plot(x, x + 8, color=\"black\", lw=1.50)\n",
    "line.set_dashes([5, 10, 15, 10])  # format: line length, space length, ...\n",
    "\n",
    "# possible marker symbols: marker = '+', 'o', '*', 's', ',', '.', '1', '2', ...\n",
    "ax.plot(x, x + 9, color=\"green\", lw=2, ls='', marker='+')\n",
    "ax.plot(x, x + 10, color=\"green\", lw=2, ls='', marker='o')\n",
    "ax.plot(x, x + 11, color=\"green\", lw=2, ls='', marker='s')\n",
    "ax.plot(x, x + 12, color=\"green\", lw=2, ls='', marker='1')\n",
    "\n",
    "# marker size and color\n",
    "ax.plot(x, x + 13, color=\"purple\", lw=1, ls='-', marker='o', markersize=2)\n",
    "ax.plot(x, x + 14, color=\"purple\", lw=1, ls='-', marker='o', markersize=4)\n",
    "ax.plot(\n",
    "    x,\n",
    "    x + 15,\n",
    "    color=\"purple\",\n",
    "    lw=1,\n",
    "    ls='-',\n",
    "    marker='o',\n",
    "    markersize=8,\n",
    "    markerfacecolor=\"red\")\n",
    "ax.plot(\n",
    "    x,\n",
    "    x + 16,\n",
    "    color=\"purple\",\n",
    "    lw=1,\n",
    "    ls='-',\n",
    "    marker='s',\n",
    "    markersize=8,\n",
    "    markerfacecolor=\"yellow\",\n",
    "    markeredgewidth=2,\n",
    "    markeredgecolor=\"blue\")"
   ]
  },
  {
   "cell_type": "markdown",
   "metadata": {},
   "source": [
    "### Control over axis appearance"
   ]
  },
  {
   "cell_type": "markdown",
   "metadata": {},
   "source": [
    "The appearance of the axes is an important aspect of a figure that we often need to modify to make a publication quality graphics. We need to be able to control where the ticks and labels are placed, modify the font size and possibly the labels used on the axes. In this section we will look at controling those properties in a matplotlib figure."
   ]
  },
  {
   "cell_type": "markdown",
   "metadata": {},
   "source": [
    "#### Plot range "
   ]
  },
  {
   "cell_type": "markdown",
   "metadata": {},
   "source": [
    "The first thing we might want to configure is the ranges of the axes. We can do this using the `set_ylim` and `set_xlim` methods in the axis object, or `axis('tight')` for automatrically getting \"tightly fitted\" axes ranges:"
   ]
  },
  {
   "cell_type": "code",
   "execution_count": null,
   "metadata": {},
   "outputs": [],
   "source": [
    "fig, axes = plt.subplots(1, 3, figsize=(12, 4))\n",
    "\n",
    "axes[0].plot(x, x**2, x, x**3)\n",
    "axes[0].set_title(\"default axes ranges\")\n",
    "\n",
    "axes[1].plot(x, x**2, x, x**3)\n",
    "axes[1].axis('tight')\n",
    "axes[1].set_title(\"tight axes\")\n",
    "\n",
    "axes[2].plot(x, x**2, x, x**3)\n",
    "axes[2].set_ylim([0, 60])\n",
    "axes[2].set_xlim([2, 5])\n",
    "axes[2].set_title(\"custom axes range\")"
   ]
  },
  {
   "cell_type": "markdown",
   "metadata": {},
   "source": [
    "#### Logarithmic scale"
   ]
  },
  {
   "cell_type": "markdown",
   "metadata": {},
   "source": [
    "It is also possible to set a logarithmic scale for one or both axes. This functionality is in fact only one application of a more general transformation system in Matplotlib. Each of the axes' scales are set seperately using `set_xscale` and `set_yscale` methods which accept one parameter (with the value \"log\" in this case):"
   ]
  },
  {
   "cell_type": "code",
   "execution_count": null,
   "metadata": {},
   "outputs": [],
   "source": [
    "fig, axes = plt.subplots(1, 2, figsize=(10, 4))\n",
    "\n",
    "axes[0].plot(x, x**2, x, np.exp(x))\n",
    "axes[0].set_title(\"Normal scale\")\n",
    "\n",
    "axes[1].plot(x, x**2, x, np.exp(x))\n",
    "axes[1].set_yscale(\"log\")\n",
    "axes[1].set_title(\"Logarithmic scale (y)\")"
   ]
  },
  {
   "cell_type": "markdown",
   "metadata": {},
   "source": [
    "### Placement of ticks and custom tick labels"
   ]
  },
  {
   "cell_type": "markdown",
   "metadata": {},
   "source": [
    "We can explicitly determine where we want the axis ticks with `set_xticks` and `set_yticks`, which both take a list of values for where on the axis the ticks are to be placed. We can also use the `set_xticklabels` and `set_yticklabels` methods to provide a list of custom text labels for each tick location:"
   ]
  },
  {
   "cell_type": "code",
   "execution_count": null,
   "metadata": {},
   "outputs": [],
   "source": [
    "fig, ax = plt.subplots(figsize=(10, 4))\n",
    "\n",
    "ax.plot(x, x**2, x, x**3, lw=2)\n",
    "\n",
    "ax.set_xticks([1, 2, 3, 4, 5])\n",
    "ax.set_xticklabels(\n",
    "    [r'$\\alpha$', r'$\\beta$', r'$\\gamma$', r'$\\delta$', r'$\\epsilon$'],\n",
    "    fontsize=18)\n",
    "\n",
    "yticks = [0, 50, 100, 150]\n",
    "ax.set_yticks(yticks)\n",
    "ax.set_yticklabels([\"$%.1f$\" % y for y in yticks], fontsize=18)\n",
    "# use LaTeX formatted labels"
   ]
  },
  {
   "cell_type": "markdown",
   "metadata": {},
   "source": [
    "There are a number of more advanced methods for controlling major and minor tick placement in matplotlib figures, such as automatic placement according to different policies. See http://matplotlib.org/api/ticker_api.html for details."
   ]
  },
  {
   "cell_type": "markdown",
   "metadata": {},
   "source": [
    "#### Scientific notation"
   ]
  },
  {
   "cell_type": "markdown",
   "metadata": {},
   "source": [
    "With large numbers on axes, it is often better use scientific notation:"
   ]
  },
  {
   "cell_type": "code",
   "execution_count": null,
   "metadata": {},
   "outputs": [],
   "source": [
    "fig, ax = plt.subplots(1, 1)\n",
    "\n",
    "ax.plot(x, x**2, x, np.exp(x))\n",
    "ax.set_title(\"scientific notation\")\n",
    "\n",
    "ax.set_yticks([0, 50, 100, 150])\n",
    "\n",
    "from matplotlib import ticker\n",
    "formatter = ticker.ScalarFormatter(useMathText=True)\n",
    "formatter.set_scientific(True)\n",
    "formatter.set_powerlimits((-1, 1))\n",
    "ax.yaxis.set_major_formatter(formatter)\n",
    "ax.set_xlabel(\"x\")\n",
    "ax.set_ylabel(\"y\")"
   ]
  },
  {
   "cell_type": "markdown",
   "metadata": {},
   "source": [
    "### Axis number and axis label spacing"
   ]
  },
  {
   "cell_type": "code",
   "execution_count": null,
   "metadata": {},
   "outputs": [],
   "source": [
    "# distance between x and y axis and the numbers on the axes\n",
    "matplotlib.rcParams['xtick.major.pad'] = 0\n",
    "matplotlib.rcParams['ytick.major.pad'] = 0\n",
    "\n",
    "fig, ax = plt.subplots(1, 1)\n",
    "\n",
    "ax.plot(x, x**2, x, np.exp(x))\n",
    "ax.set_yticks([0, 50, 100, 150])\n",
    "\n",
    "ax.set_title(\"label and axis spacing\")\n",
    "\n",
    "# padding between axis label and axis numbers\n",
    "ax.xaxis.labelpad = 10\n",
    "ax.yaxis.labelpad = 10\n",
    "\n",
    "ax.set_xlabel(\"x\")\n",
    "ax.set_ylabel(\"y\")"
   ]
  },
  {
   "cell_type": "code",
   "execution_count": null,
   "metadata": {},
   "outputs": [],
   "source": [
    "# restore defaults\n",
    "matplotlib.rcParams['xtick.major.pad'] = 3\n",
    "matplotlib.rcParams['ytick.major.pad'] = 3"
   ]
  },
  {
   "cell_type": "markdown",
   "metadata": {},
   "source": [
    "#### Axis position adjustments"
   ]
  },
  {
   "cell_type": "markdown",
   "metadata": {},
   "source": [
    "Unfortunately, when saving figures the labels are sometimes clipped, and it can be necessary to adjust the positions of axes a little bit. This can be done using `subplots_adjust`:"
   ]
  },
  {
   "cell_type": "code",
   "execution_count": null,
   "metadata": {},
   "outputs": [],
   "source": [
    "fig, ax = plt.subplots(1, 1)\n",
    "\n",
    "ax.plot(x, x**2, x, np.exp(x))\n",
    "ax.set_yticks([0, 50, 100, 150])\n",
    "\n",
    "ax.set_title(\"title\")\n",
    "ax.set_xlabel(\"x\")\n",
    "ax.set_ylabel(\"y\")\n",
    "\n",
    "fig.subplots_adjust(left=0.15, right=.9, bottom=0.1, top=0.9)"
   ]
  },
  {
   "cell_type": "markdown",
   "metadata": {},
   "source": [
    "### Axis grid"
   ]
  },
  {
   "cell_type": "markdown",
   "metadata": {},
   "source": [
    "With the `grid` method in the axis object, we can turn on and off grid lines. We can also customize the appearance of the grid lines using the same keyword arguments as the `plot` function:"
   ]
  },
  {
   "cell_type": "code",
   "execution_count": null,
   "metadata": {},
   "outputs": [],
   "source": [
    "fig, axes = plt.subplots(1, 2, figsize=(10, 3))\n",
    "\n",
    "# default grid appearance\n",
    "axes[0].plot(x, x**2, x, x**3, lw=2)\n",
    "axes[0].grid(True)\n",
    "\n",
    "# custom grid appearance\n",
    "axes[1].plot(x, x**2, x, x**3, lw=2)\n",
    "axes[1].grid(color='b', alpha=0.5, linestyle='dashed', linewidth=0.5)"
   ]
  },
  {
   "cell_type": "markdown",
   "metadata": {},
   "source": [
    "### Axis spines"
   ]
  },
  {
   "cell_type": "markdown",
   "metadata": {},
   "source": [
    "We can also change the properties of axis spines:"
   ]
  },
  {
   "cell_type": "code",
   "execution_count": null,
   "metadata": {},
   "outputs": [],
   "source": [
    "fig, ax = plt.subplots(figsize=(6, 2))\n",
    "\n",
    "ax.spines['bottom'].set_color('blue')\n",
    "ax.spines['top'].set_color('blue')\n",
    "\n",
    "ax.spines['left'].set_color('red')\n",
    "ax.spines['left'].set_linewidth(2)\n",
    "\n",
    "# turn off axis spine to the right\n",
    "ax.spines['right'].set_color(\"none\")\n",
    "ax.yaxis.tick_left()  # only ticks on the left side"
   ]
  },
  {
   "cell_type": "markdown",
   "metadata": {},
   "source": [
    "### Twin axes"
   ]
  },
  {
   "cell_type": "markdown",
   "metadata": {},
   "source": [
    "Sometimes it is useful to have dual x or y axes in a figure; for example, when plotting curves with different units together. Matplotlib supports this with the `twinx` and `twiny` functions:"
   ]
  },
  {
   "cell_type": "code",
   "execution_count": null,
   "metadata": {},
   "outputs": [],
   "source": [
    "fig, ax1 = plt.subplots()\n",
    "\n",
    "ax1.plot(x, x**2, lw=2, color=\"blue\")\n",
    "ax1.set_ylabel(r\"area $(m^2)$\", fontsize=18, color=\"blue\")\n",
    "for label in ax1.get_yticklabels():\n",
    "    label.set_color(\"blue\")\n",
    "\n",
    "ax2 = ax1.twinx()\n",
    "ax2.plot(x, x**3, lw=2, color=\"red\")\n",
    "ax2.set_ylabel(r\"volume $(m^3)$\", fontsize=18, color=\"red\")\n",
    "for label in ax2.get_yticklabels():\n",
    "    label.set_color(\"red\")"
   ]
  },
  {
   "cell_type": "markdown",
   "metadata": {},
   "source": [
    "### Axes where x and y is zero"
   ]
  },
  {
   "cell_type": "code",
   "execution_count": null,
   "metadata": {},
   "outputs": [],
   "source": [
    "fig, ax = plt.subplots()\n",
    "\n",
    "ax.spines['right'].set_color('none')\n",
    "ax.spines['top'].set_color('none')\n",
    "\n",
    "ax.xaxis.set_ticks_position('bottom')\n",
    "ax.spines['bottom'].set_position(('data', 0))  # set position of x spine to x=0\n",
    "\n",
    "ax.yaxis.set_ticks_position('left')\n",
    "ax.spines['left'].set_position(('data', 0))  # set position of y spine to y=0\n",
    "\n",
    "xx = np.linspace(-0.75, 1., 100)\n",
    "ax.plot(xx, xx**3)"
   ]
  },
  {
   "cell_type": "markdown",
   "metadata": {},
   "source": [
    "### Other 2D plot styles"
   ]
  },
  {
   "cell_type": "markdown",
   "metadata": {},
   "source": [
    "In addition to the regular `plot` method, there are a number of other functions for generating different kind of plots. See the matplotlib plot gallery for a complete list of available plot types: http://matplotlib.org/gallery.html. Some of the more useful ones are show below:"
   ]
  },
  {
   "cell_type": "code",
   "execution_count": null,
   "metadata": {},
   "outputs": [],
   "source": [
    "n = np.array([0, 1, 2, 3, 4, 5])"
   ]
  },
  {
   "cell_type": "code",
   "execution_count": null,
   "metadata": {},
   "outputs": [],
   "source": [
    "fig, axes = plt.subplots(1, 4, figsize=(16, 3))\n",
    "\n",
    "axes[0].scatter(xx, xx + 0.25 * np.random.randn(len(xx)))\n",
    "axes[0].set_title(\"scatter\")\n",
    "\n",
    "axes[1].step(n, n**2, lw=2)\n",
    "axes[1].set_title(\"step\")\n",
    "\n",
    "axes[2].bar(n, n**2, align=\"center\", width=0.5, alpha=0.5)\n",
    "axes[2].set_title(\"bar\")\n",
    "\n",
    "axes[3].fill_between(\n",
    "    x, x**2, x**3, color=\"green\", alpha=0.5)\n",
    "axes[3].set_title(\"fill_between\")"
   ]
  },
  {
   "cell_type": "code",
   "execution_count": null,
   "metadata": {},
   "outputs": [],
   "source": [
    "# polar plot using add_axes and polar projection\n",
    "fig = plt.figure()\n",
    "ax = fig.add_axes([0.0, 0.0, .6, .6], polar=True)\n",
    "t = np.linspace(0, 2 * np.pi, 100)\n",
    "ax.plot(\n",
    "    t, t, color='blue', lw=3)"
   ]
  },
  {
   "cell_type": "code",
   "execution_count": null,
   "metadata": {},
   "outputs": [],
   "source": [
    "# A histogram\n",
    "n = np.random.randn(100000)\n",
    "fig, axes = plt.subplots(1, 2, figsize=(12, 4))\n",
    "\n",
    "axes[0].hist(n)\n",
    "axes[0].set_title(\"Default histogram\")\n",
    "axes[0].set_xlim((min(n), max(n)))\n",
    "\n",
    "axes[1].hist(n, cumulative=True, bins=50)\n",
    "axes[1].set_title(\"Cumulative detailed histogram\")\n",
    "axes[1].set_xlim((min(n), max(n)))"
   ]
  },
  {
   "cell_type": "markdown",
   "metadata": {},
   "source": [
    "### Text annotation"
   ]
  },
  {
   "cell_type": "markdown",
   "metadata": {},
   "source": [
    "Annotating text in matplotlib figures can be done using the `text` function. It supports LaTeX formatting just like axis label texts and titles:"
   ]
  },
  {
   "cell_type": "code",
   "execution_count": null,
   "metadata": {},
   "outputs": [],
   "source": [
    "fig, ax = plt.subplots()\n",
    "\n",
    "ax.plot(xx, xx**2, xx, xx**3)\n",
    "\n",
    "ax.text(0.15, 0.2, r\"$y=x^2$\", fontsize=20, color=\"blue\")\n",
    "ax.text(\n",
    "    0.65, 0.1, r\"$y=x^3$\", fontsize=20, color=\"green\")"
   ]
  },
  {
   "cell_type": "markdown",
   "metadata": {},
   "source": [
    "## Worked Example\n",
    "\n",
    "We will work with the temperature data for Heathrow:"
   ]
  },
  {
   "cell_type": "code",
   "execution_count": null,
   "metadata": {},
   "outputs": [],
   "source": [
    "data = np.genfromtxt(\n",
    "    './Heathrow.csv',\n",
    "    skip_header=1,\n",
    "    delimiter=',',\n",
    "    dtype=[('year', 'i4'), ('month', 'i4'), ('tmax', 'f8'), ('tmin', 'f8'),\n",
    "           ('airfrost', 'i4'), ('rain', 'f8'), ('sun', 'f8')])"
   ]
  },
  {
   "cell_type": "code",
   "execution_count": null,
   "metadata": {},
   "outputs": [],
   "source": [
    "import calendar\n",
    "# Plot the monthly maximum and minimum temperatures\n",
    "x = data['month']\n",
    "y1 = data['tmax']\n",
    "y2 = data['tmin']\n",
    "\n",
    "fig, axes = plt.subplots(1, 2, figsize=(16, 6))\n",
    "axes[0].scatter(x, y1)\n",
    "axes[0].set_title(\"Maximum Temperature\")\n",
    "axes[0].set_xlim(0, 13)\n",
    "axes[0].set_xticks(np.arange(1, 13))\n",
    "axes[0].set_xticklabels([calendar.month_name[i] for i in np.arange(1, 13)],\n",
    "                        rotation=45)\n",
    "axes[1].scatter(x, y2)\n",
    "axes[1].set_title(\"Minimum Temperature\")\n",
    "axes[1].set_xlim(0, 13)\n",
    "axes[1].set_xticks(np.arange(1, 13))\n",
    "axes[1].set_xticklabels([calendar.month_name[i] for i in np.arange(1, 13)],\n",
    "                        rotation=45)"
   ]
  },
  {
   "cell_type": "code",
   "execution_count": null,
   "metadata": {},
   "outputs": [],
   "source": [
    "from scipy.stats import norm\n",
    "\n",
    "nrow = 4\n",
    "ncol = 3\n",
    "\n",
    "fig, axes = plt.subplots(nrow, ncol, figsize=(12, 12))\n",
    "for i, row in enumerate(axes):\n",
    "    for j, ax in enumerate(row):\n",
    "        ind = i * ncol + j + 1\n",
    "        title = calendar.month_name[ind]\n",
    "        y = data['tmax'][data['month'] == ind]\n",
    "        # plot the histogram of the data\n",
    "        ax.hist(y, bins=20, normed=1, facecolor='green', alpha=0.5)\n",
    "        # add a 'best fit' line\n",
    "        param = norm.fit(y)  # distribution fitting\n",
    "        # now, param[0] and param[1] are the mean and\n",
    "        # the standard deviation of the fitted distribution\n",
    "        x = np.linspace(.99 * y.min(), 1.01 * y.max(), 100)\n",
    "        # fitted distribution assuming normal distribution\n",
    "        y_fitted = norm.pdf(x, loc=param[0], scale=param[1])\n",
    "        ax.plot(x, y_fitted, 'r--', linewidth=1)\n",
    "        ax.set_xlabel('Temperature')\n",
    "        ax.set_ylabel('Frequency')\n",
    "        ax.set_title(title)\n",
    "plt.tight_layout()"
   ]
  },
  {
   "cell_type": "code",
   "execution_count": null,
   "metadata": {},
   "outputs": [],
   "source": [
    "# Plot the range of mean monthly temperatures\n",
    "x = np.arange(1, 13, dtype=np.int)\n",
    "ymin = np.zeros_like(x)\n",
    "ymax = np.zeros_like(x)\n",
    "\n",
    "for ind in x:\n",
    "    ymax[ind - 1] = data['tmax'][data['month'] == ind].mean()\n",
    "    ymin[ind - 1] = data['tmin'][data['month'] == ind].mean()\n",
    "\n",
    "fig, axes = plt.subplots(1, 1, figsize=(8, 6))\n",
    "axes.fill_between(\n",
    "    x, ymin, ymax, color=\"darkviolet\", alpha=0.5)\n",
    "axes.set_title(\"Maximum and Minimum Temperature\")\n",
    "axes.set_xlim(0, 13)\n",
    "axes.set_xticks(np.arange(1, 13))\n",
    "axes.set_xticklabels([calendar.month_name[i] for i in np.arange(1, 13)],\n",
    "                     rotation=45)"
   ]
  },
  {
   "cell_type": "markdown",
   "metadata": {},
   "source": [
    "## Figures with multiple subplots and insets"
   ]
  },
  {
   "cell_type": "markdown",
   "metadata": {},
   "source": [
    "Axes can be added to a matplotlib Figure canvas manually using `fig.add_axes` or using a sub-figure layout manager such as `subplots`, `subplot2grid`, or `gridspec`:"
   ]
  },
  {
   "cell_type": "markdown",
   "metadata": {},
   "source": [
    "### subplots"
   ]
  },
  {
   "cell_type": "code",
   "execution_count": null,
   "metadata": {},
   "outputs": [],
   "source": [
    "fig, ax = plt.subplots(2, 3)\n",
    "fig.tight_layout()"
   ]
  },
  {
   "cell_type": "markdown",
   "metadata": {},
   "source": [
    "### subplot2grid"
   ]
  },
  {
   "cell_type": "code",
   "execution_count": null,
   "metadata": {},
   "outputs": [],
   "source": [
    "fig = plt.figure()\n",
    "ax1 = plt.subplot2grid((3, 3), (0, 0), colspan=3)\n",
    "ax2 = plt.subplot2grid((3, 3), (1, 0), colspan=2)\n",
    "ax3 = plt.subplot2grid((3, 3), (1, 2), rowspan=2)\n",
    "ax4 = plt.subplot2grid((3, 3), (2, 0))\n",
    "ax5 = plt.subplot2grid((3, 3), (2, 1))\n",
    "fig.tight_layout()"
   ]
  },
  {
   "cell_type": "markdown",
   "metadata": {},
   "source": [
    "### gridspec"
   ]
  },
  {
   "cell_type": "code",
   "execution_count": null,
   "metadata": {},
   "outputs": [],
   "source": [
    "import matplotlib.gridspec as gridspec"
   ]
  },
  {
   "cell_type": "code",
   "execution_count": null,
   "metadata": {},
   "outputs": [],
   "source": [
    "fig = plt.figure()\n",
    "\n",
    "gs = gridspec.GridSpec(2, 3, height_ratios=[2, 1], width_ratios=[1, 2, 1])\n",
    "for g in gs:\n",
    "    ax = fig.add_subplot(g)\n",
    "\n",
    "fig.tight_layout()"
   ]
  },
  {
   "cell_type": "markdown",
   "metadata": {},
   "source": [
    "### add_axes"
   ]
  },
  {
   "cell_type": "markdown",
   "metadata": {},
   "source": [
    "Manually adding axes with `add_axes` is useful for adding insets to figures:"
   ]
  },
  {
   "cell_type": "code",
   "execution_count": null,
   "metadata": {},
   "outputs": [],
   "source": [
    "fig, ax = plt.subplots()\n",
    "\n",
    "ax.plot(xx, xx**2, xx, xx**3)\n",
    "fig.tight_layout()\n",
    "\n",
    "# inset\n",
    "inset_ax = fig.add_axes([0.25, 0.55, 0.35, 0.35])  # X, Y, width, height\n",
    "\n",
    "inset_ax.plot(xx, xx**2, xx, xx**3)\n",
    "inset_ax.set_title('zoom near origin')\n",
    "\n",
    "# set axis range\n",
    "inset_ax.set_xlim(-.2, .2)\n",
    "inset_ax.set_ylim(-.005, .01)\n",
    "\n",
    "# set axis tick locations\n",
    "inset_ax.set_yticks([0, 0.005, 0.01])\n",
    "inset_ax.set_xticks([-0.1, 0, .1])"
   ]
  },
  {
   "cell_type": "markdown",
   "metadata": {},
   "source": [
    "## Colormap and contour figures"
   ]
  },
  {
   "cell_type": "markdown",
   "metadata": {},
   "source": [
    "Colormaps and contour figures are useful for plotting functions of two variables. In most of these functions we will use a colormap to encode one dimension of the data. There are a number of predefined colormaps. It is relatively straightforward to define custom colormaps. For a list of pre-defined colormaps, see: http://matplotlib.org/examples/color/colormaps_reference.html"
   ]
  },
  {
   "cell_type": "code",
   "execution_count": null,
   "metadata": {},
   "outputs": [],
   "source": [
    "def func3D(x, y):\n",
    "    return (x**2 + 3 * y**2) * np.exp(-x**2 - y**2)"
   ]
  },
  {
   "cell_type": "code",
   "execution_count": null,
   "metadata": {},
   "outputs": [],
   "source": [
    "x = np.linspace(-2, 2, 200)\n",
    "y = np.linspace(-2, 2, 200)\n",
    "X, Y = np.meshgrid(x, y)\n",
    "Z = func3D(X, Y)"
   ]
  },
  {
   "cell_type": "markdown",
   "metadata": {},
   "source": [
    "### pcolor"
   ]
  },
  {
   "cell_type": "code",
   "execution_count": null,
   "metadata": {},
   "outputs": [],
   "source": [
    "fig, ax = plt.subplots()\n",
    "\n",
    "p = ax.pcolor(\n",
    "    X, Y, Z, cmap=matplotlib.cm.viridis, vmin=abs(Z).min(), vmax=abs(Z).max())\n",
    "cb = fig.colorbar(p, ax=ax)"
   ]
  },
  {
   "cell_type": "markdown",
   "metadata": {},
   "source": [
    "### imshow"
   ]
  },
  {
   "cell_type": "code",
   "execution_count": null,
   "metadata": {},
   "outputs": [],
   "source": [
    "fig, ax = plt.subplots()\n",
    "\n",
    "im = ax.imshow(\n",
    "    Z,\n",
    "    cmap=matplotlib.cm.viridis,\n",
    "    vmin=abs(Z).min(),\n",
    "    vmax=abs(Z).max(),\n",
    "    extent=[0, 1, 0, 1])\n",
    "im.set_interpolation('bilinear')\n",
    "cb = fig.colorbar(im, ax=ax)"
   ]
  },
  {
   "cell_type": "markdown",
   "metadata": {},
   "source": [
    "### contour"
   ]
  },
  {
   "cell_type": "code",
   "execution_count": null,
   "metadata": {},
   "outputs": [],
   "source": [
    "fig, ax = plt.subplots()\n",
    "\n",
    "cnt = ax.contour(\n",
    "    Z,\n",
    "    cmap=matplotlib.cm.viridis,\n",
    "    vmin=abs(Z).min(),\n",
    "    vmax=abs(Z).max(),\n",
    "    extent=[0, 1, 0, 1])"
   ]
  },
  {
   "cell_type": "markdown",
   "metadata": {},
   "source": [
    "## 3D figures"
   ]
  },
  {
   "cell_type": "markdown",
   "metadata": {},
   "source": [
    "To use 3D graphics in matplotlib, we first need to create an instance of the `Axes3D` class. 3D axes can be added to a matplotlib figure canvas in exactly the same way as 2D axes; or, more conveniently, by passing a `projection='3d'` keyword argument to the `add_axes` or `add_subplot` methods."
   ]
  },
  {
   "cell_type": "code",
   "execution_count": null,
   "metadata": {},
   "outputs": [],
   "source": [
    "from mpl_toolkits.mplot3d.axes3d import Axes3D"
   ]
  },
  {
   "cell_type": "markdown",
   "metadata": {},
   "source": [
    "### Surface plots"
   ]
  },
  {
   "cell_type": "code",
   "execution_count": null,
   "metadata": {},
   "outputs": [],
   "source": [
    "fig = plt.figure(figsize=(14, 6))\n",
    "\n",
    "# 'ax' is a 3D-aware axis instance because of the\n",
    "# projection='3d' keyword argument to add_subplot\n",
    "ax = fig.add_subplot(1, 2, 1, projection='3d')\n",
    "\n",
    "p = ax.plot_surface(X, Y, Z, rstride=4, cstride=4, linewidth=0)\n",
    "\n",
    "# surface_plot with color grading and color bar\n",
    "ax = fig.add_subplot(1, 2, 2, projection='3d')\n",
    "p = ax.plot_surface(\n",
    "    X,\n",
    "    Y,\n",
    "    Z,\n",
    "    rstride=1,\n",
    "    cstride=1,\n",
    "    cmap=matplotlib.cm.viridis,\n",
    "    linewidth=0,\n",
    "    antialiased=False)\n",
    "cb = fig.colorbar(p, shrink=0.5)"
   ]
  },
  {
   "cell_type": "markdown",
   "metadata": {},
   "source": [
    "### Wire-frame plot"
   ]
  },
  {
   "cell_type": "code",
   "execution_count": null,
   "metadata": {},
   "outputs": [],
   "source": [
    "fig = plt.figure(figsize=(8, 6))\n",
    "\n",
    "ax = fig.add_subplot(1, 1, 1, projection='3d')\n",
    "\n",
    "p = ax.plot_wireframe(X, Y, Z, rstride=8, cstride=8, color='green')"
   ]
  },
  {
   "cell_type": "markdown",
   "metadata": {},
   "source": [
    "### Coutour plots with projections"
   ]
  },
  {
   "cell_type": "code",
   "execution_count": null,
   "metadata": {},
   "outputs": [],
   "source": [
    "fig = plt.figure(figsize=(8, 6))\n",
    "\n",
    "ax = fig.add_subplot(1, 1, 1, projection='3d')\n",
    "\n",
    "ax.plot_surface(X, Y, Z, rstride=8, cstride=8, alpha=0.15, color='pink')\n",
    "cset = ax.contour(X, Y, Z, zdir='z', offset=-0.5, cmap=matplotlib.cm.magma)\n",
    "cset = ax.contour(X, Y, Z, zdir='x', offset=-3, cmap=matplotlib.cm.magma)\n",
    "cset = ax.contour(X, Y, Z, zdir='y', offset=3, cmap=matplotlib.cm.magma)\n",
    "\n",
    "ax.set_xlim3d(-3, 2)\n",
    "ax.set_ylim3d(-2, 3)\n",
    "ax.set_zlim3d(-0.5, 1.2)"
   ]
  },
  {
   "cell_type": "markdown",
   "metadata": {},
   "source": [
    "### Change the view angle"
   ]
  },
  {
   "cell_type": "markdown",
   "metadata": {},
   "source": [
    "We can change the perspective of a 3D plot using the `view_init` method, which takes two arguments: `elevation` and `azimuth` angle (in degrees):"
   ]
  },
  {
   "cell_type": "code",
   "execution_count": null,
   "metadata": {},
   "outputs": [],
   "source": [
    "fig = plt.figure(figsize=(12, 6))\n",
    "\n",
    "ax = fig.add_subplot(1, 2, 1, projection='3d')\n",
    "ax.plot_surface(X, Y, Z, rstride=8, cstride=8, alpha=0.25)\n",
    "ax.view_init(30, 45)\n",
    "\n",
    "ax = fig.add_subplot(1, 2, 2, projection='3d')\n",
    "ax.plot_surface(X, Y, Z, rstride=8, cstride=8, alpha=0.25)\n",
    "ax.view_init(70, 30)\n",
    "\n",
    "fig.tight_layout()"
   ]
  },
  {
   "cell_type": "markdown",
   "metadata": {},
   "source": [
    "## Animated plots"
   ]
  },
  {
   "cell_type": "markdown",
   "metadata": {
    "cell_style": "center"
   },
   "source": [
    "Matplotlib also includes a simple API for generating animations for sequences of figures. With the `FuncAnimation` function we can generate a movie file from sequences of figures. The function takes the following arguments: `fig`, a figure canvas, `func`, a function that we provide which updates the figure, `init_func`, a function we provide to setup the figure, `frame`, the number of frames to generate, and `blit`, which tells the animation function to only update parts of the frame which have changed (for smoother animations):\n",
    "\n",
    "    def init():\n",
    "        # setup figure\n",
    "\n",
    "    def update(frame_counter):\n",
    "        # update figure for new frame\n",
    "\n",
    "    anim = animation.FuncAnimation(fig, update, init_func=init, frames=200, blit=True)\n",
    "\n",
    "    anim.save('animation.mp4', fps=30) # fps = frames per second\n",
    "\n",
    "To use the animation features in matplotlib we first need to import the module `matplotlib.animation`\n"
   ]
  },
  {
   "cell_type": "code",
   "execution_count": null,
   "metadata": {},
   "outputs": [],
   "source": [
    "%matplotlib notebook\n",
    "from IPython.display import HTML"
   ]
  },
  {
   "cell_type": "code",
   "execution_count": null,
   "metadata": {
    "cell_style": "center"
   },
   "outputs": [],
   "source": [
    "# Animating decay\n",
    "import numpy as np\n",
    "import matplotlib.pyplot as plt\n",
    "import matplotlib.animation as animation\n",
    "\n",
    "\n",
    "def data_gen(t=0):\n",
    "    cnt = 0\n",
    "    while cnt < 500:\n",
    "        cnt += 1\n",
    "        t += 0.1\n",
    "        yield t, np.sin(2 * np.pi * t) * np.exp(-t / 10.)\n",
    "\n",
    "\n",
    "def init():\n",
    "    ax.set_ylim(-1.1, 1.1)\n",
    "    ax.set_xlim(0, 10)\n",
    "    line.set_data(xdata, ydata)\n",
    "    point.set_data([], [])\n",
    "    return line, point\n",
    "\n",
    "\n",
    "def update(data):\n",
    "    # update the data\n",
    "    t, y = data\n",
    "    xdata.append(t)\n",
    "    ydata.append(y)\n",
    "    xmin, xmax = ax.get_xlim()\n",
    "\n",
    "    if t >= xmax:\n",
    "        ax.set_xlim(xmin, 1.2 * xmax)\n",
    "        ax.figure.canvas.draw()\n",
    "    line.set_data(xdata, ydata)\n",
    "    point.set_data(xdata[-1], ydata[-1])\n",
    "    return line, point\n",
    "\n",
    "\n",
    "fig, ax = plt.subplots()\n",
    "line, = ax.plot([], [], lw=2)\n",
    "point, = ax.plot([], [], lw=2, color='r', marker='o')\n",
    "ax.grid()\n",
    "xdata, ydata = [], []\n",
    "\n",
    "anim = animation.FuncAnimation(\n",
    "    fig,\n",
    "    update,\n",
    "    data_gen,\n",
    "    blit=False,\n",
    "    interval=10,\n",
    "    repeat=False,\n",
    "    init_func=init)\n",
    "\n",
    "HTML(anim.to_jshtml())"
   ]
  },
  {
   "cell_type": "code",
   "execution_count": null,
   "metadata": {
    "scrolled": false
   },
   "outputs": [],
   "source": [
    "import numpy as np\n",
    "import matplotlib\n",
    "import matplotlib.pyplot as plt\n",
    "import matplotlib.animation as animation\n",
    "from mpl_toolkits.mplot3d.axes3d import Axes3D\n",
    "\n",
    "\n",
    "def init():\n",
    "    ax.axis('off')\n",
    "    surf = ax.plot_surface(X, Y, Z)\n",
    "    ax.view_init(45, 0)\n",
    "    return surf\n",
    "\n",
    "\n",
    "def update(i):\n",
    "    # update the data\n",
    "    Z = np.sin(X - i / 10) * np.cos(Y + i / 5)\n",
    "    ax.clear()\n",
    "    ax.axis('off')\n",
    "    surf = ax.plot_surface(\n",
    "        X,\n",
    "        Y,\n",
    "        Z,\n",
    "        rstride=1,\n",
    "        cstride=1,\n",
    "        cmap=matplotlib.cm.viridis,\n",
    "        linewidth=0,\n",
    "        antialiased=False)\n",
    "    ax.view_init(45, 180 / 50 * i)\n",
    "    return surf\n",
    "\n",
    "\n",
    "x = np.linspace(-np.pi, np.pi, 50)\n",
    "y = np.linspace(-np.pi, np.pi, 50)\n",
    "X, Y = np.meshgrid(x, y)\n",
    "Z = np.sin(X) * np.cos(Y)\n",
    "\n",
    "fig = plt.figure(figsize=(8, 6))\n",
    "ax = fig.add_subplot(1, 1, 1, projection='3d')\n",
    "ax.axis('off')\n",
    "\n",
    "anim = animation.FuncAnimation(\n",
    "    fig, update, blit=False, interval=50, repeat=False, init_func=init)\n",
    "\n",
    "HTML(anim.to_jshtml())"
   ]
  },
  {
   "cell_type": "markdown",
   "metadata": {},
   "source": [
    "## Further reading"
   ]
  },
  {
   "cell_type": "markdown",
   "metadata": {},
   "source": [
    "* http://www.matplotlib.org - The project web page for matplotlib.\n",
    "* https://github.com/matplotlib/matplotlib - The source code for matplotlib.\n",
    "* http://matplotlib.org/gallery.html - A large gallery showcaseing various types of plots matplotlib can create. Highly recommended! \n",
    "* http://www.labri.fr/perso/nrougier/teaching/matplotlib/ - A good matplotlib tutorial.\n",
    "* http://www.scipy-lectures.org/intro/matplotlib/matplotlib.html - Another good matplotlib reference.\n"
   ]
  },
  {
   "cell_type": "markdown",
   "metadata": {},
   "source": [
    "***"
   ]
  }
 ],
 "metadata": {
  "anaconda-cloud": {},
  "kernelspec": {
   "display_name": "Python 3",
   "language": "python",
   "name": "python3"
  },
  "language_info": {
   "codemirror_mode": {
    "name": "ipython",
    "version": 3
   },
   "file_extension": ".py",
   "mimetype": "text/x-python",
   "name": "python",
   "nbconvert_exporter": "python",
   "pygments_lexer": "ipython3",
   "version": "3.7.1"
  },
  "name": "_merged",
  "nbTranslate": {
   "displayLangs": [
    "es",
    "en"
   ],
   "hotkey": "alt-t",
   "langInMainMenu": true,
   "sourceLang": "en",
   "targetLang": "es",
   "useGoogleTranslate": true
  },
  "toc": {
   "base_numbering": "10",
   "nav_menu": {
    "height": "339px",
    "width": "236px"
   },
   "number_sections": true,
   "sideBar": true,
   "skip_h1_title": false,
   "title_cell": "Table of Contents",
   "title_sidebar": "Contents",
   "toc_cell": true,
   "toc_position": {
    "height": "1022px",
    "left": "0px",
    "right": "1665px",
    "top": "107px",
    "width": "255px"
   },
   "toc_section_display": "block",
   "toc_window_display": true
  },
  "varInspector": {
   "cols": {
    "lenName": 16,
    "lenType": 16,
    "lenVar": 40
   },
   "kernels_config": {
    "python": {
     "delete_cmd_postfix": "",
     "delete_cmd_prefix": "del ",
     "library": "var_list.py",
     "varRefreshCmd": "print(var_dic_list())"
    },
    "r": {
     "delete_cmd_postfix": ") ",
     "delete_cmd_prefix": "rm(",
     "library": "var_list.r",
     "varRefreshCmd": "cat(var_dic_list()) "
    }
   },
   "types_to_exclude": [
    "module",
    "function",
    "builtin_function_or_method",
    "instance",
    "_Feature"
   ],
   "window_display": false
  }
 },
 "nbformat": 4,
 "nbformat_minor": 1
}
