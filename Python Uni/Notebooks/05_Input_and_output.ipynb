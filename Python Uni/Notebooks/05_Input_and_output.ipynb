{
 "cells": [
  {
   "cell_type": "markdown",
   "metadata": {},
   "source": [
    "# <font color=blue>Input and output</font>"
   ]
  },
  {
   "cell_type": "markdown",
   "metadata": {
    "toc": true
   },
   "source": [
    "<h1>Table of Contents<span class=\"tocSkip\"></span></h1>\n",
    "<div class=\"toc\"><ul class=\"toc-item\"><li><span><a href=\"#Input-and-output\" data-toc-modified-id=\"Input-and-output-5\"><span class=\"toc-item-num\">5&nbsp;&nbsp;</span><font color=\"blue\">Input and output</font></a></span><ul class=\"toc-item\"><li><span><a href=\"#Learning-Objectives\" data-toc-modified-id=\"Learning-Objectives-5.1\"><span class=\"toc-item-num\">5.1&nbsp;&nbsp;</span>Learning Objectives</a></span></li><li><span><a href=\"#Formatting-strings\" data-toc-modified-id=\"Formatting-strings-5.2\"><span class=\"toc-item-num\">5.2&nbsp;&nbsp;</span>Formatting strings</a></span><ul class=\"toc-item\"><li><span><a href=\"#String-Interpolation-/-f-Strings\" data-toc-modified-id=\"String-Interpolation-/-f-Strings-5.2.1\"><span class=\"toc-item-num\">5.2.1&nbsp;&nbsp;</span>String Interpolation / f-Strings</a></span></li></ul></li><li><span><a href=\"#Reading-a-file\" data-toc-modified-id=\"Reading-a-file-5.3\"><span class=\"toc-item-num\">5.3&nbsp;&nbsp;</span>Reading a file</a></span></li></ul></li></ul></div>"
   ]
  },
  {
   "cell_type": "markdown",
   "metadata": {},
   "source": [
    "***\n",
    "## Learning Objectives\n",
    "- Understand and be able to use the _format string syntax_ to control how program output is displayed.\n",
    "- Know how to read a file and store its contents in a list.\n",
    "***"
   ]
  },
  {
   "cell_type": "markdown",
   "metadata": {},
   "source": [
    "## Formatting strings\n",
    "\n",
    "There are two ways of printing the output to the standard output and to files in Python.\n",
    "\n",
    "The old C style using the `printf` syntax:\n",
    "The output is accomplished by a print statement combined with some technique for formatting the numbers:"
   ]
  },
  {
   "cell_type": "code",
   "execution_count": null,
   "metadata": {
    "scrolled": true
   },
   "outputs": [],
   "source": [
    "from math import cos, pi\n",
    "a = 0\n",
    "b = pi\n",
    "I = -(cos(b) - cos(a))\n",
    "print('The integral of sin(x) from a = %.2f to b = pi is %f.' % (a, I))"
   ]
  },
  {
   "cell_type": "markdown",
   "metadata": {},
   "source": [
    "The string above is formatted using `printf` syntax. This means that the string has various \"slots\", starting with a percentage sign, in this case %.2f and %f, where variables in the program can be put in. We have two \"slots\" in the present case, and thus two variables must be put into the slots. The relevant syntax is to list the variables inside standard parentheses after the string, separated from the string by a percentage sign. The first variable, a, goes into the fist \"slot\". This \"slot\" has a format specification %.2f, where the percentage sign marks the slot and the following characters,\n",
    ".2f, are the format specification. The f in the .2f format stands for float, a short form for floating-point number with 2 decimal places, which is the term used for a real number on a computer.\n",
    "\n",
    "Here is a list of some important `printf` format specifications:\n",
    "\n",
    "| Format | Meaning | \n",
    "| -------|:-------| \n",
    "|%s |a string | \n",
    "|%d |an integer|\n",
    "|%0xd |an integer padded with x leading zeros|\n",
    "|%f |decimal notation with six decimals|\n",
    "|%e |compact scientific notation, e in the exponent|\n",
    "|%E |compact scientific notation, E in the exponent|\n",
    "|%g |compact decimal or scientific notation (with e)|\n",
    "|%G |compact decimal or scientific notation (with E)|\n",
    "|%xz |format z right-adjusted in a field of width x|\n",
    "|%-xz |format z left-adjusted in a field of width x|\n",
    "|%.yz |format z with y decimals|\n",
    "|%x.yz |format z with y decimals in a field of width x|\n",
    "|%% |the percentage sign (%) itself|\n",
    "\n",
    "The new (more recommended) way of formating strings is using the _format string syntax_: "
   ]
  },
  {
   "cell_type": "code",
   "execution_count": null,
   "metadata": {
    "scrolled": true
   },
   "outputs": [],
   "source": [
    "print('The integral of sin(x) from a = {a:.2f} to b = pi is {I:f}.'.format(\n",
    "    I=I, a=a))"
   ]
  },
  {
   "cell_type": "markdown",
   "metadata": {},
   "source": [
    "The \"slots\" where variables are inserted are now recognized by curly braces (`{}`) instead of a percentage sign. The optional name of the variable is listed with an optional colon and format specifier of the same kind as was used for the `printf` format. The various variables and their values must be listed at the end inside the format method. Since the \"slots\" have names in this case, the sequence of variables is not important.\n",
    "\n",
    "See [Format String Syntax](https://docs.python.org/3/library/string.html#format-string-syntax) for the format specification"
   ]
  },
  {
   "cell_type": "markdown",
   "metadata": {},
   "source": [
    "### String Interpolation / f-Strings"
   ]
  },
  {
   "cell_type": "markdown",
   "metadata": {},
   "source": [
    "From Python 3.6 you can use a new string formatting approach called formatted string literals or \"f-strings\". This lets you use embedded Python expressions inside string constants."
   ]
  },
  {
   "cell_type": "code",
   "execution_count": null,
   "metadata": {},
   "outputs": [],
   "source": [
    "print(f'The integral of sin(x) from a = {a:.2f} to b = pi is {I:f}.')"
   ]
  },
  {
   "cell_type": "markdown",
   "metadata": {},
   "source": [
    "## Reading a file\n",
    "\n",
    "To read a file, we first need to open the file. The function `open()` creates a file object, here stored in the variable `infile`. It is most commonly called using two arguments: the first argument is a string containing the filename and the second describes the way in which the file will be used."
   ]
  },
  {
   "cell_type": "code",
   "execution_count": null,
   "metadata": {
    "scrolled": true
   },
   "outputs": [],
   "source": [
    "infile = open('./densities.txt', 'r')  # Read input file\n",
    "\n",
    "#Print a file line by line\n",
    "for line in infile:\n",
    "    print(line, end='')"
   ]
  },
  {
   "cell_type": "code",
   "execution_count": null,
   "metadata": {
    "scrolled": true
   },
   "outputs": [],
   "source": [
    "# We can also read all the lines into a list\n",
    "infile.seek(0)  # First we need to go back to the start of the file\n",
    "\n",
    "lines = infile.readlines()  # Read the file again\n",
    "\n",
    "print(lines)"
   ]
  },
  {
   "cell_type": "code",
   "execution_count": null,
   "metadata": {
    "scrolled": true
   },
   "outputs": [],
   "source": [
    "# We will store the valules in a dictionary using the material name as key:\n",
    "densities = {}\n",
    "for line in lines[1:]:\n",
    "    mat, val = line.split('\\t')\n",
    "    densities[mat] = val\n",
    "\n",
    "# We can now print it nicely:\n",
    "print('{:>15}{:>15}'.format('Material', 'Density'))\n",
    "for key, val in densities.items():\n",
    "    print('{:>15}{:>15}'.format(key, val), end='')"
   ]
  },
  {
   "cell_type": "code",
   "execution_count": null,
   "metadata": {
    "scrolled": false
   },
   "outputs": [],
   "source": [
    "# Once we finish reading the file we should always close it\n",
    "infile.close()"
   ]
  },
  {
   "cell_type": "markdown",
   "metadata": {},
   "source": [
    "Sometimes Python interpreter will crash before the `close()` method is called, and the file could theoretically stay open much longer than necessary.\n",
    "\n",
    "The `with` statement is used in Python 3 to solve this problem. The with statement starts a code block where you can use the variable `infile` as the stream object returned from the call to `open()`. All the object methods are available. Once the with block ends, Python calls `infile.close()` automatically. furthermore Python will close that file even if it\n",
    "exits through an unhandled exception and the entire program comes to a halt, that file will get closed."
   ]
  },
  {
   "cell_type": "code",
   "execution_count": null,
   "metadata": {
    "scrolled": true
   },
   "outputs": [],
   "source": [
    "with open('./densities.txt', encoding='utf-8') as infile:\n",
    "    densities = {}\n",
    "    lines = infile.readlines()\n",
    "    for line in lines[1:]:\n",
    "        mat, val = line.split('\\t')\n",
    "        densities[mat] = val\n",
    "\n",
    "print('{:>15}{:>15}'.format('Material', 'Density'))\n",
    "for key, val in densities.items():\n",
    "    print('{:>15}{:>15}'.format(key, val), end='')"
   ]
  },
  {
   "cell_type": "markdown",
   "metadata": {},
   "source": [
    "***"
   ]
  }
 ],
 "metadata": {
  "anaconda-cloud": {},
  "kernelspec": {
   "display_name": "Python 3",
   "language": "python",
   "name": "python3"
  },
  "language_info": {
   "codemirror_mode": {
    "name": "ipython",
    "version": 3
   },
   "file_extension": ".py",
   "mimetype": "text/x-python",
   "name": "python",
   "nbconvert_exporter": "python",
   "pygments_lexer": "ipython3",
   "version": "3.7.1"
  },
  "name": "_merged",
  "nbTranslate": {
   "displayLangs": [
    "es",
    "en"
   ],
   "hotkey": "alt-t",
   "langInMainMenu": true,
   "sourceLang": "en",
   "targetLang": "es",
   "useGoogleTranslate": true
  },
  "toc": {
   "base_numbering": "5",
   "nav_menu": {
    "height": "339px",
    "width": "236px"
   },
   "number_sections": true,
   "sideBar": true,
   "skip_h1_title": false,
   "title_cell": "Table of Contents",
   "title_sidebar": "Contents",
   "toc_cell": true,
   "toc_position": {
    "height": "1022px",
    "left": "0px",
    "right": "1665px",
    "top": "107px",
    "width": "255px"
   },
   "toc_section_display": "block",
   "toc_window_display": true
  },
  "varInspector": {
   "cols": {
    "lenName": 16,
    "lenType": 16,
    "lenVar": 40
   },
   "kernels_config": {
    "python": {
     "delete_cmd_postfix": "",
     "delete_cmd_prefix": "del ",
     "library": "var_list.py",
     "varRefreshCmd": "print(var_dic_list())"
    },
    "r": {
     "delete_cmd_postfix": ") ",
     "delete_cmd_prefix": "rm(",
     "library": "var_list.r",
     "varRefreshCmd": "cat(var_dic_list()) "
    }
   },
   "types_to_exclude": [
    "module",
    "function",
    "builtin_function_or_method",
    "instance",
    "_Feature"
   ],
   "window_display": false
  }
 },
 "nbformat": 4,
 "nbformat_minor": 1
}
